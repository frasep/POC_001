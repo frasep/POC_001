{
 "cells": [
  {
   "cell_type": "code",
   "execution_count": 286,
   "metadata": {},
   "outputs": [
    {
     "data": {
      "text/plain": [
       "               _                           \n",
       "platform       x86_64-conda_cos6-linux-gnu \n",
       "arch           x86_64                      \n",
       "os             linux-gnu                   \n",
       "system         x86_64, linux-gnu           \n",
       "status                                     \n",
       "major          3                           \n",
       "minor          6.1                         \n",
       "year           2019                        \n",
       "month          07                          \n",
       "day            05                          \n",
       "svn rev        76782                       \n",
       "language       R                           \n",
       "version.string R version 3.6.1 (2019-07-05)\n",
       "nickname       Action of the Toes          "
      ]
     },
     "metadata": {},
     "output_type": "display_data"
    }
   ],
   "source": [
    "R.version"
   ]
  },
  {
   "cell_type": "code",
   "execution_count": 287,
   "metadata": {},
   "outputs": [],
   "source": [
    "library(\"dplyr\")\n",
    "library(\"glue\")\n",
    "library(\"stringr\")\n",
    "library(\"rlist\")\n",
    "library(\"data.table\")\n",
    "library(\"readr\")\n",
    "library(\"stringi\")\n",
    "library(\"swat\")"
   ]
  },
  {
   "cell_type": "code",
   "execution_count": 305,
   "metadata": {},
   "outputs": [],
   "source": [
    "source(\"UtilsRCAS.R\")"
   ]
  },
  {
   "cell_type": "markdown",
   "metadata": {},
   "source": [
    "# Connection a l'environnement SAS Viya"
   ]
  },
  {
   "cell_type": "code",
   "execution_count": 289,
   "metadata": {},
   "outputs": [
    {
     "name": "stderr",
     "output_type": "stream",
     "text": [
      "NOTE: Connecting to CAS and generating CAS action functions for loaded\n",
      "      action sets...\n",
      "NOTE: To generate the functions with signatures (for tab completion), set \n",
      "      options(cas.gen.function.sig=TRUE).\n",
      "NOTE: 'CASUSER(sasdemo)' is now the active caslib.\n",
      "NOTE: L'action 'sessionProp.setSessOpt' a utilisé (Temps d'exécution total) :\n",
      "NOTE:       temps réel              0,019300 secondes\n",
      "NOTE:       temps UC                0,017687 secondes (91,64 %)\n",
      "NOTE:       total nodes             1 (8 cores)\n",
      "NOTE:       mémoire totale           31,26 Go\n",
      "NOTE:       mémoire                 362,78 Ko (0,00 %)\n"
     ]
    }
   ],
   "source": [
    "cashost <- '192.168.1.50'\n",
    "casuser <- 'sasdemo'\n",
    "caspwd <- 'Lprzwb31CA'\n",
    "# cashost <- '35.241.219.145'\n",
    "# casuser <- 'sebastien'\n",
    "# caspwd <- 'Sebastien2020'\n",
    "\n",
    "conn <- swat::CAS(cashost, 5570, username=casuser, password=caspwd)\n",
    "# Activate metric tracing and other session parameters\n",
    "out <- cas.sessionProp.setSessOpt(conn, metrics=TRUE, timeout=1800, caslib='casuser')\n"
   ]
  },
  {
   "cell_type": "code",
   "execution_count": 290,
   "metadata": {
    "collapsed": true,
    "jupyter": {
     "outputs_hidden": true
    }
   },
   "outputs": [
    {
     "name": "stderr",
     "output_type": "stream",
     "text": [
      "NOTE: Executing action 'builtins.loadActionSet'.\n",
      "NOTE: Added action set 'sampling'.\n",
      "NOTE: L'action 'builtins.loadActionSet' a utilisé (Temps d'exécution total) :\n",
      "NOTE:       temps réel              0,004671 secondes\n",
      "NOTE:       temps UC                0,004245 secondes (90,88 %)\n",
      "NOTE:       total nodes             1 (8 cores)\n",
      "NOTE:       mémoire totale           31,26 Go\n",
      "NOTE:       mémoire                 235,78 Ko (0,00 %)\n",
      "NOTE: Executing action 'builtins.actionSetInfo'.\n",
      "NOTE: L'action 'builtins.actionSetInfo' a utilisé (Temps d'exécution total) :\n",
      "NOTE:       temps réel              0,003968 secondes\n",
      "NOTE:       temps UC                0,003541 secondes (89,24 %)\n",
      "NOTE:       total nodes             1 (8 cores)\n",
      "NOTE:       mémoire totale           31,26 Go\n",
      "NOTE:       mémoire                 318,28 Ko (0,00 %)\n",
      "NOTE: Executing action 'builtins.listActions'.\n",
      "NOTE: Informations pour l'ensemble d'actions 'sampling':\n",
      "NOTE:    sampling\n",
      "NOTE:       srs -  Samples a proportion of data from the input table or partitions the data into no more than three portions\n",
      "NOTE:       stratified - Samples a proportion of data or partitions the data into no more than three portions within each stratum\n",
      "NOTE:       oversample - Samples a user-specified proportion of data from the event level and adjusts the ratio between rare events and non-rare events to a user-specified ratio\n",
      "NOTE:       kfold - K-fold partitioning.\n",
      "NOTE: L'action 'builtins.listActions' a utilisé (Temps d'exécution total) :\n",
      "NOTE:       temps réel              0,003903 secondes\n",
      "NOTE:       temps UC                0,003483 secondes (89,24 %)\n",
      "NOTE:       total nodes             1 (8 cores)\n",
      "NOTE:       mémoire totale           31,26 Go\n",
      "NOTE:       mémoire                 623,16 Ko (0,00 %)\n",
      "NOTE: Executing action 'builtins.loadActionSet'.\n",
      "NOTE: Added action set 'fedsql'.\n",
      "NOTE: L'action 'builtins.loadActionSet' a utilisé (Temps d'exécution total) :\n",
      "NOTE:       temps réel              0,008634 secondes\n",
      "NOTE:       temps UC                0,007842 secondes (90,83 %)\n",
      "NOTE:       total nodes             1 (8 cores)\n",
      "NOTE:       mémoire totale           31,26 Go\n",
      "NOTE:       mémoire                 247,19 Ko (0,00 %)\n",
      "NOTE: Executing action 'builtins.actionSetInfo'.\n",
      "NOTE: L'action 'builtins.actionSetInfo' a utilisé (Temps d'exécution total) :\n",
      "NOTE:       temps réel              0,002832 secondes\n",
      "NOTE:       temps UC                0,002534 secondes (89,48 %)\n",
      "NOTE:       total nodes             1 (8 cores)\n",
      "NOTE:       mémoire totale           31,26 Go\n",
      "NOTE:       mémoire                 343,16 Ko (0,00 %)\n",
      "NOTE: Executing action 'builtins.listActions'.\n",
      "NOTE: Informations pour l'ensemble d'actions 'fedSql':\n",
      "NOTE:    fedSql\n",
      "NOTE:       execDirect - Submits a SAS FedSQL language statement for immediate execution\n",
      "NOTE: L'action 'builtins.listActions' a utilisé (Temps d'exécution total) :\n",
      "NOTE:       temps réel              0,001731 secondes\n",
      "NOTE:       temps UC                0,001476 secondes (85,27 %)\n",
      "NOTE:       total nodes             1 (8 cores)\n",
      "NOTE:       mémoire totale           31,26 Go\n",
      "NOTE:       mémoire                 330,25 Ko (0,00 %)\n",
      "NOTE: Executing action 'builtins.loadActionSet'.\n",
      "NOTE: Added action set 'percentile'.\n",
      "NOTE: L'action 'builtins.loadActionSet' a utilisé (Temps d'exécution total) :\n",
      "NOTE:       temps réel              0,001275 secondes\n",
      "NOTE:       temps UC                0,001053 secondes (82,59 %)\n",
      "NOTE:       total nodes             1 (8 cores)\n",
      "NOTE:       mémoire totale           31,26 Go\n",
      "NOTE:       mémoire                 227,25 Ko (0,00 %)\n",
      "NOTE: Executing action 'builtins.actionSetInfo'.\n",
      "NOTE: L'action 'builtins.actionSetInfo' a utilisé (Temps d'exécution total) :\n",
      "NOTE:       temps réel              0,003222 secondes\n",
      "NOTE:       temps UC                0,002648 secondes (82,18 %)\n",
      "NOTE:       total nodes             1 (8 cores)\n",
      "NOTE:       mémoire totale           31,26 Go\n",
      "NOTE:       mémoire                 334,53 Ko (0,00 %)\n",
      "NOTE: Executing action 'builtins.listActions'.\n",
      "NOTE: Informations pour l'ensemble d'actions 'percentile':\n",
      "NOTE:    percentile\n",
      "NOTE:       percentile - Calculate quantiles and percentiles\n",
      "NOTE:       boxPlot - Calculate quantiles, high and low whiskers, and outliers\n",
      "NOTE:       assess - Assess and compare models\n",
      "NOTE: L'action 'builtins.listActions' a utilisé (Temps d'exécution total) :\n",
      "NOTE:       temps réel              0,001830 secondes\n",
      "NOTE:       temps UC                0,001558 secondes (85,14 %)\n",
      "NOTE:       total nodes             1 (8 cores)\n",
      "NOTE:       mémoire totale           31,26 Go\n",
      "NOTE:       mémoire                 639,03 Ko (0,00 %)\n"
     ]
    }
   ],
   "source": [
    "actionsets <- c('sampling', 'fedsql','percentile')\n",
    "for(i in actionsets){\n",
    "    loadActionSet(conn, i)\n",
    "}"
   ]
  },
  {
   "cell_type": "code",
   "execution_count": 291,
   "metadata": {
    "collapsed": true,
    "jupyter": {
     "outputs_hidden": true
    }
   },
   "outputs": [
    {
     "name": "stderr",
     "output_type": "stream",
     "text": [
      "NOTE: Executing action 'builtins.serverStatus'.\n",
      "NOTE: Grid node action status report: 1 nodes, 37 total actions executed.\n",
      "NOTE: L'action 'builtins.serverStatus' a utilisé (Temps d'exécution total) :\n",
      "NOTE:       temps réel              0,002368 secondes\n",
      "NOTE:       temps UC                0,002119 secondes (89,48 %)\n",
      "NOTE:       total nodes             1 (8 cores)\n",
      "NOTE:       mémoire totale           31,26 Go\n",
      "NOTE:       mémoire                 334,66 Ko (0,00 %)\n"
     ]
    },
    {
     "data": {
      "text/html": [
       "<dl>\n",
       "\t<dt>$About</dt>\n",
       "\t\t<dd><dl>\n",
       "\t<dt>$CAS</dt>\n",
       "\t\t<dd>'Cloud Analytic Services'</dd>\n",
       "\t<dt>$Version</dt>\n",
       "\t\t<dd>'3.05'</dd>\n",
       "\t<dt>$VersionLong</dt>\n",
       "\t\t<dd>'V.03.05M0P11062019'</dd>\n",
       "\t<dt>$Copyright</dt>\n",
       "\t\t<dd>'Copyright © 2014-2018 SAS Institute Inc. All Rights Reserved.'</dd>\n",
       "\t<dt>$ServerTime</dt>\n",
       "\t\t<dd>'2020-04-17T21:29:34Z'</dd>\n",
       "\t<dt>$System</dt>\n",
       "\t\t<dd><dl>\n",
       "\t<dt>$Hostname</dt>\n",
       "\t\t<dd>'viya35.local.fr'</dd>\n",
       "\t<dt>$`OS Name`</dt>\n",
       "\t\t<dd>'Linux'</dd>\n",
       "\t<dt>$`OS Family`</dt>\n",
       "\t\t<dd>'LIN X64'</dd>\n",
       "\t<dt>$`OS Release`</dt>\n",
       "\t\t<dd>'3.10.0-1062.el7.x86_64'</dd>\n",
       "\t<dt>$`OS Version`</dt>\n",
       "\t\t<dd>'#1 SMP Wed Aug 7 18:08:02 UTC 2019'</dd>\n",
       "\t<dt>$`Model Number`</dt>\n",
       "\t\t<dd>'x86_64'</dd>\n",
       "\t<dt>$`Linux Distribution`</dt>\n",
       "\t\t<dd>'CentOS Linux release 7.6.1810 (Core)'</dd>\n",
       "</dl>\n",
       "</dd>\n",
       "\t<dt>$license</dt>\n",
       "\t\t<dd><dl>\n",
       "\t<dt>$site</dt>\n",
       "\t\t<dd>'SAS_VIYA_DATASCIENCE'</dd>\n",
       "\t<dt>$siteNum</dt>\n",
       "\t\t<dd>70180938</dd>\n",
       "\t<dt>$expires</dt>\n",
       "\t\t<dd>'19 février 2021 00 h 00'</dd>\n",
       "\t<dt>$gracePeriod</dt>\n",
       "\t\t<dd>45</dd>\n",
       "\t<dt>$warningPeriod</dt>\n",
       "\t\t<dd>45</dd>\n",
       "\t<dt>$maxCPUs</dt>\n",
       "\t\t<dd>9999</dd>\n",
       "</dl>\n",
       "</dd>\n",
       "</dl>\n",
       "</dd>\n",
       "\t<dt>$server</dt>\n",
       "\t\t<dd><table>\n",
       "<thead><tr><th scope=col>nodes</th><th scope=col>actions</th></tr></thead>\n",
       "<tbody>\n",
       "\t<tr><td>1 </td><td>37</td></tr>\n",
       "</tbody>\n",
       "</table>\n",
       "</dd>\n",
       "\t<dt>$nodestatus</dt>\n",
       "\t\t<dd><table>\n",
       "<thead><tr><th scope=col>name</th><th scope=col>role</th><th scope=col>uptime</th><th scope=col>running</th><th scope=col>stalled</th></tr></thead>\n",
       "<tbody>\n",
       "\t<tr><td>viya35.local.fr</td><td>controller     </td><td>16,578         </td><td>0              </td><td>0              </td></tr>\n",
       "</tbody>\n",
       "</table>\n",
       "</dd>\n",
       "</dl>\n"
      ],
      "text/latex": [
       "\\begin{description}\n",
       "\\item[\\$About] \\begin{description}\n",
       "\\item[\\$CAS] 'Cloud Analytic Services'\n",
       "\\item[\\$Version] '3.05'\n",
       "\\item[\\$VersionLong] 'V.03.05M0P11062019'\n",
       "\\item[\\$Copyright] 'Copyright © 2014-2018 SAS Institute Inc. All Rights Reserved.'\n",
       "\\item[\\$ServerTime] '2020-04-17T21:29:34Z'\n",
       "\\item[\\$System] \\begin{description}\n",
       "\\item[\\$Hostname] 'viya35.local.fr'\n",
       "\\item[\\$`OS Name`] 'Linux'\n",
       "\\item[\\$`OS Family`] 'LIN X64'\n",
       "\\item[\\$`OS Release`] '3.10.0-1062.el7.x86\\_64'\n",
       "\\item[\\$`OS Version`] '\\#1 SMP Wed Aug 7 18:08:02 UTC 2019'\n",
       "\\item[\\$`Model Number`] 'x86\\_64'\n",
       "\\item[\\$`Linux Distribution`] 'CentOS Linux release 7.6.1810 (Core)'\n",
       "\\end{description}\n",
       "\n",
       "\\item[\\$license] \\begin{description}\n",
       "\\item[\\$site] 'SAS\\_VIYA\\_DATASCIENCE'\n",
       "\\item[\\$siteNum] 70180938\n",
       "\\item[\\$expires] '19 février 2021 00 h 00'\n",
       "\\item[\\$gracePeriod] 45\n",
       "\\item[\\$warningPeriod] 45\n",
       "\\item[\\$maxCPUs] 9999\n",
       "\\end{description}\n",
       "\n",
       "\\end{description}\n",
       "\n",
       "\\item[\\$server] \\begin{tabular}{r|ll}\n",
       " nodes & actions\\\\\n",
       "\\hline\n",
       "\t 1  & 37\\\\\n",
       "\\end{tabular}\n",
       "\n",
       "\\item[\\$nodestatus] \\begin{tabular}{r|lllll}\n",
       " name & role & uptime & running & stalled\\\\\n",
       "\\hline\n",
       "\t viya35.local.fr & controller      & 16,578          & 0               & 0              \\\\\n",
       "\\end{tabular}\n",
       "\n",
       "\\end{description}\n"
      ],
      "text/markdown": [
       "$About\n",
       ":   $CAS\n",
       ":   'Cloud Analytic Services'\n",
       "$Version\n",
       ":   '3.05'\n",
       "$VersionLong\n",
       ":   'V.03.05M0P11062019'\n",
       "$Copyright\n",
       ":   'Copyright © 2014-2018 SAS Institute Inc. All Rights Reserved.'\n",
       "$ServerTime\n",
       ":   '2020-04-17T21:29:34Z'\n",
       "$System\n",
       ":   $Hostname\n",
       ":   'viya35.local.fr'\n",
       "$`OS Name`\n",
       ":   'Linux'\n",
       "$`OS Family`\n",
       ":   'LIN X64'\n",
       "$`OS Release`\n",
       ":   '3.10.0-1062.el7.x86_64'\n",
       "$`OS Version`\n",
       ":   '#1 SMP Wed Aug 7 18:08:02 UTC 2019'\n",
       "$`Model Number`\n",
       ":   'x86_64'\n",
       "$`Linux Distribution`\n",
       ":   'CentOS Linux release 7.6.1810 (Core)'\n",
       "\n",
       "\n",
       "\n",
       "$license\n",
       ":   $site\n",
       ":   'SAS_VIYA_DATASCIENCE'\n",
       "$siteNum\n",
       ":   70180938\n",
       "$expires\n",
       ":   '19 février 2021 00 h 00'\n",
       "$gracePeriod\n",
       ":   45\n",
       "$warningPeriod\n",
       ":   45\n",
       "$maxCPUs\n",
       ":   9999\n",
       "\n",
       "\n",
       "\n",
       "\n",
       "\n",
       "\n",
       "$server\n",
       ":   \n",
       "| nodes | actions |\n",
       "|---|---|\n",
       "| 1  | 37 |\n",
       "\n",
       "\n",
       "$nodestatus\n",
       ":   \n",
       "| name | role | uptime | running | stalled |\n",
       "|---|---|---|---|---|\n",
       "| viya35.local.fr | controller      | 16,578          | 0               | 0               |\n",
       "\n",
       "\n",
       "\n",
       "\n"
      ],
      "text/plain": [
       "$About\n",
       "$About$CAS\n",
       "[1] \"Cloud Analytic Services\"\n",
       "\n",
       "$About$Version\n",
       "[1] \"3.05\"\n",
       "\n",
       "$About$VersionLong\n",
       "[1] \"V.03.05M0P11062019\"\n",
       "\n",
       "$About$Copyright\n",
       "[1] \"Copyright © 2014-2018 SAS Institute Inc. All Rights Reserved.\"\n",
       "\n",
       "$About$ServerTime\n",
       "[1] \"2020-04-17T21:29:34Z\"\n",
       "\n",
       "$About$System\n",
       "$About$System$Hostname\n",
       "[1] \"viya35.local.fr\"\n",
       "\n",
       "$About$System$`OS Name`\n",
       "[1] \"Linux\"\n",
       "\n",
       "$About$System$`OS Family`\n",
       "[1] \"LIN X64\"\n",
       "\n",
       "$About$System$`OS Release`\n",
       "[1] \"3.10.0-1062.el7.x86_64\"\n",
       "\n",
       "$About$System$`OS Version`\n",
       "[1] \"#1 SMP Wed Aug 7 18:08:02 UTC 2019\"\n",
       "\n",
       "$About$System$`Model Number`\n",
       "[1] \"x86_64\"\n",
       "\n",
       "$About$System$`Linux Distribution`\n",
       "[1] \"CentOS Linux release 7.6.1810 (Core)\"\n",
       "\n",
       "\n",
       "$About$license\n",
       "$About$license$site\n",
       "[1] \"SAS_VIYA_DATASCIENCE\"\n",
       "\n",
       "$About$license$siteNum\n",
       "[1] 70180938\n",
       "\n",
       "$About$license$expires\n",
       "[1] \"19 février 2021 00 h 00\"\n",
       "\n",
       "$About$license$gracePeriod\n",
       "[1] 45\n",
       "\n",
       "$About$license$warningPeriod\n",
       "[1] 45\n",
       "\n",
       "$About$license$maxCPUs\n",
       "[1] 9999\n",
       "\n",
       "\n",
       "\n",
       "$server\n",
       "  nodes actions\n",
       "1     1      37\n",
       "\n",
       "$nodestatus\n",
       "             name       role uptime running stalled\n",
       "1 viya35.local.fr controller 16,578       0       0\n"
      ]
     },
     "metadata": {},
     "output_type": "display_data"
    }
   ],
   "source": [
    "cas.builtins.serverStatus(conn)"
   ]
  },
  {
   "cell_type": "markdown",
   "metadata": {},
   "source": [
    "## Defini une librairie CAS pointant sur le repertoire contenant tous les fichiers CSV en entree. On definie la source en DNFS, cela signifie que la lecture et l'ecriture des fichiers se fera en multitheading et multi noeud automatiquement. Les formats de fichiers supportes actuellement sur ce mode sont : CSV, PARQUET et SASHDAT."
   ]
  },
  {
   "cell_type": "code",
   "execution_count": 292,
   "metadata": {
    "collapsed": true,
    "jupyter": {
     "outputs_hidden": true
    }
   },
   "outputs": [
    {
     "name": "stderr",
     "output_type": "stream",
     "text": [
      "NOTE: Executing action 'table.addCaslib'.\n",
      "NOTE: 'mycaslib' is now the active caslib.\n",
      "NOTE: Cloud Analytic Services added the caslib 'mycaslib'.\n",
      "NOTE: L'action 'table.addCaslib' a utilisé (Temps d'exécution total) :\n",
      "NOTE:       temps réel              0,001979 secondes\n",
      "NOTE:       temps UC                0,001699 secondes (85,85 %)\n",
      "NOTE:       total nodes             1 (8 cores)\n",
      "NOTE:       mémoire totale           31,26 Go\n",
      "NOTE:       mémoire                 759,03 Ko (0,00 %)\n"
     ]
    },
    {
     "data": {
      "text/html": [
       "<strong>$CASLibInfo</strong> = <table>\n",
       "<thead><tr><th scope=col>Name</th><th scope=col>Type</th><th scope=col>Description</th><th scope=col>Path</th><th scope=col>Definition</th><th scope=col>Subdirs</th><th scope=col>Local</th><th scope=col>Active</th><th scope=col>Personal</th><th scope=col>Hidden</th><th scope=col>Transient</th></tr></thead>\n",
       "<tbody>\n",
       "\t<tr><td>mycaslib                </td><td>DNFS                    </td><td>                        </td><td>/data/data/BDF_SMALL_DB/</td><td>                        </td><td>0                       </td><td>1                       </td><td>1                       </td><td>0                       </td><td>0                       </td><td>0                       </td></tr>\n",
       "</tbody>\n",
       "</table>\n"
      ],
      "text/latex": [
       "\\textbf{\\$CASLibInfo} = \\begin{tabular}{r|lllllllllll}\n",
       " Name & Type & Description & Path & Definition & Subdirs & Local & Active & Personal & Hidden & Transient\\\\\n",
       "\\hline\n",
       "\t mycaslib                     & DNFS                         &                              & /data/data/BDF\\_SMALL\\_DB/ &                              & 0                            & 1                            & 1                            & 0                            & 0                            & 0                           \\\\\n",
       "\\end{tabular}\n"
      ],
      "text/markdown": [
       "**$CASLibInfo** = \n",
       "| Name | Type | Description | Path | Definition | Subdirs | Local | Active | Personal | Hidden | Transient |\n",
       "|---|---|---|---|---|---|---|---|---|---|---|\n",
       "| mycaslib                 | DNFS                     |                          | /data/data/BDF_SMALL_DB/ |                          | 0                        | 1                        | 1                        | 0                        | 0                        | 0                        |\n",
       "\n"
      ],
      "text/plain": [
       "$CASLibInfo\n",
       "      Name Type Description                     Path Definition Subdirs Local\n",
       "1 mycaslib DNFS             /data/data/BDF_SMALL_DB/                  0     1\n",
       "  Active Personal Hidden Transient\n",
       "1      1        0      0         0\n"
      ]
     },
     "metadata": {},
     "output_type": "display_data"
    },
    {
     "name": "stderr",
     "output_type": "stream",
     "text": [
      "NOTE: Executing action 'sessionProp.setSessOpt'.\n",
      "NOTE: 'CASUSER(sasdemo)' is now the active caslib.\n",
      "NOTE: L'action 'sessionProp.setSessOpt' a utilisé (Temps d'exécution total) :\n",
      "NOTE:       temps réel              0,000924 secondes\n",
      "NOTE:       temps UC                0,000699 secondes (75,65 %)\n",
      "NOTE:       total nodes             1 (8 cores)\n",
      "NOTE:       mémoire totale           31,26 Go\n",
      "NOTE:       mémoire                 283,50 Ko (0,00 %)\n"
     ]
    }
   ],
   "source": [
    "cas.table.addCaslib(conn,name=\"mycaslib\", path=\"/data/data/BDF_SMALL_DB\", dataSource={srcType=\"dnfs\"})\n",
    "out <- cas.sessionProp.setSessOpt(conn,caslib='casuser')"
   ]
  },
  {
   "cell_type": "markdown",
   "metadata": {},
   "source": [
    "# Chargement en memoire de tous les fichiers CSV en entree (referentiel et agregats) pour l'utilisation ulterieure."
   ]
  },
  {
   "cell_type": "code",
   "execution_count": 293,
   "metadata": {
    "collapsed": true,
    "jupyter": {
     "outputs_hidden": true
    }
   },
   "outputs": [
    {
     "name": "stderr",
     "output_type": "stream",
     "text": [
      "NOTE: Executing action 'table.fileInfo'.\n",
      "NOTE: L'action 'table.fileInfo' a utilisé (Temps d'exécution total) :\n",
      "NOTE:       temps réel              0,010748 secondes\n",
      "NOTE:       temps UC                0,009747 secondes (90,69 %)\n",
      "NOTE:       total nodes             1 (8 cores)\n",
      "NOTE:       mémoire totale           31,26 Go\n",
      "NOTE:       mémoire                 724,63 Ko (0,00 %)\n"
     ]
    },
    {
     "name": "stdout",
     "output_type": "stream",
     "text": [
      "[1] \"D1\"\n"
     ]
    },
    {
     "name": "stderr",
     "output_type": "stream",
     "text": [
      "NOTE: Executing action 'table.dropTable'.\n",
      "NOTE: L'action 'table.dropTable' a utilisé (Temps d'exécution total) :\n",
      "NOTE:       temps réel              0,001834 secondes\n",
      "NOTE:       temps UC                0,001269 secondes (69,19 %)\n",
      "NOTE:       total nodes             1 (8 cores)\n",
      "NOTE:       mémoire totale           31,26 Go\n",
      "NOTE:       mémoire                 299,41 Ko (0,00 %)\n",
      "NOTE: Executing action 'table.loadTable'.\n",
      "NOTE: Cloud Analytic Services made the DNFS file D1.csv available as table D1 in caslib CASUSER(sasdemo).\n",
      "NOTE: L'action 'table.loadTable' a utilisé (Temps d'exécution total) :\n",
      "NOTE:       temps réel              0,664763 secondes\n",
      "NOTE:       temps UC                3,895599 secondes (586,01 %)\n",
      "NOTE:       total nodes             1 (8 cores)\n",
      "NOTE:       mémoire totale           31,26 Go\n",
      "NOTE:       mémoire                 165,61 Mo (0,52 %)\n"
     ]
    },
    {
     "name": "stdout",
     "output_type": "stream",
     "text": [
      "[1] \"D2\"\n"
     ]
    },
    {
     "name": "stderr",
     "output_type": "stream",
     "text": [
      "NOTE: Executing action 'table.dropTable'.\n",
      "NOTE: L'action 'table.dropTable' a utilisé (Temps d'exécution total) :\n",
      "NOTE:       temps réel              0,001380 secondes\n",
      "NOTE:       temps UC                0,000623 secondes (45,14 %)\n",
      "NOTE:       total nodes             1 (8 cores)\n",
      "NOTE:       mémoire totale           31,26 Go\n",
      "NOTE:       mémoire                 299,41 Ko (0,00 %)\n",
      "NOTE: Executing action 'table.loadTable'.\n",
      "NOTE: Cloud Analytic Services made the DNFS file D2.csv available as table D2 in caslib CASUSER(sasdemo).\n",
      "NOTE: L'action 'table.loadTable' a utilisé (Temps d'exécution total) :\n",
      "NOTE:       temps réel              0,300356 secondes\n",
      "NOTE:       temps UC                1,100956 secondes (366,55 %)\n",
      "NOTE:       total nodes             1 (8 cores)\n",
      "NOTE:       mémoire totale           31,26 Go\n",
      "NOTE:       mémoire                 148,14 Mo (0,46 %)\n"
     ]
    },
    {
     "name": "stdout",
     "output_type": "stream",
     "text": [
      "[1] \"D3\"\n"
     ]
    },
    {
     "name": "stderr",
     "output_type": "stream",
     "text": [
      "NOTE: Executing action 'table.dropTable'.\n",
      "NOTE: L'action 'table.dropTable' a utilisé (Temps d'exécution total) :\n",
      "NOTE:       temps réel              0,000890 secondes\n",
      "NOTE:       temps UC                0,000594 secondes (66,74 %)\n",
      "NOTE:       total nodes             1 (8 cores)\n",
      "NOTE:       mémoire totale           31,26 Go\n",
      "NOTE:       mémoire                 299,41 Ko (0,00 %)\n",
      "NOTE: Executing action 'table.loadTable'.\n",
      "NOTE: Cloud Analytic Services made the DNFS file D3.csv available as table D3 in caslib CASUSER(sasdemo).\n",
      "NOTE: L'action 'table.loadTable' a utilisé (Temps d'exécution total) :\n",
      "NOTE:       temps réel              0,472995 secondes\n",
      "NOTE:       temps UC                2,729680 secondes (577,11 %)\n",
      "NOTE:       total nodes             1 (8 cores)\n",
      "NOTE:       mémoire totale           31,26 Go\n",
      "NOTE:       mémoire                 164,00 Mo (0,51 %)\n"
     ]
    },
    {
     "name": "stdout",
     "output_type": "stream",
     "text": [
      "[1] \"D\"\n"
     ]
    },
    {
     "name": "stderr",
     "output_type": "stream",
     "text": [
      "NOTE: Executing action 'table.dropTable'.\n",
      "NOTE: L'action 'table.dropTable' a utilisé (Temps d'exécution total) :\n",
      "NOTE:       temps réel              0,001114 secondes\n",
      "NOTE:       temps UC                0,000652 secondes (58,53 %)\n",
      "NOTE:       total nodes             1 (8 cores)\n",
      "NOTE:       mémoire totale           31,26 Go\n",
      "NOTE:       mémoire                 299,41 Ko (0,00 %)\n",
      "NOTE: Executing action 'table.loadTable'.\n",
      "NOTE: Cloud Analytic Services made the DNFS file D.csv available as table D in caslib CASUSER(sasdemo).\n",
      "NOTE: L'action 'table.loadTable' a utilisé (Temps d'exécution total) :\n",
      "NOTE:       temps réel              0,676963 secondes\n",
      "NOTE:       temps UC                4,096022 secondes (605,06 %)\n",
      "NOTE:       total nodes             1 (8 cores)\n",
      "NOTE:       mémoire totale           31,26 Go\n",
      "NOTE:       mémoire                 174,48 Mo (0,55 %)\n"
     ]
    },
    {
     "name": "stdout",
     "output_type": "stream",
     "text": [
      "[1] \"F\"\n"
     ]
    },
    {
     "name": "stderr",
     "output_type": "stream",
     "text": [
      "NOTE: Executing action 'table.dropTable'.\n",
      "NOTE: L'action 'table.dropTable' a utilisé (Temps d'exécution total) :\n",
      "NOTE:       temps réel              0,001535 secondes\n",
      "NOTE:       temps UC                0,001183 secondes (77,07 %)\n",
      "NOTE:       total nodes             1 (8 cores)\n",
      "NOTE:       mémoire totale           31,26 Go\n",
      "NOTE:       mémoire                 299,41 Ko (0,00 %)\n",
      "NOTE: Executing action 'table.loadTable'.\n",
      "NOTE: Cloud Analytic Services made the DNFS file F.csv available as table F in caslib CASUSER(sasdemo).\n",
      "NOTE: L'action 'table.loadTable' a utilisé (Temps d'exécution total) :\n",
      "NOTE:       temps réel              0,170801 secondes\n",
      "NOTE:       temps UC                0,157154 secondes (92,01 %)\n",
      "NOTE:       total nodes             1 (8 cores)\n",
      "NOTE:       mémoire totale           31,26 Go\n",
      "NOTE:       mémoire                 131,27 Mo (0,41 %)\n"
     ]
    },
    {
     "name": "stdout",
     "output_type": "stream",
     "text": [
      "[1] \"O\"\n"
     ]
    },
    {
     "name": "stderr",
     "output_type": "stream",
     "text": [
      "NOTE: Executing action 'table.dropTable'.\n",
      "NOTE: L'action 'table.dropTable' a utilisé (Temps d'exécution total) :\n",
      "NOTE:       temps réel              0,001736 secondes\n",
      "NOTE:       temps UC                0,001365 secondes (78,63 %)\n",
      "NOTE:       total nodes             1 (8 cores)\n",
      "NOTE:       mémoire totale           31,26 Go\n",
      "NOTE:       mémoire                 301,94 Ko (0,00 %)\n",
      "NOTE: Executing action 'table.loadTable'.\n",
      "NOTE: Cloud Analytic Services made the DNFS file O.csv available as table O in caslib CASUSER(sasdemo).\n",
      "NOTE: L'action 'table.loadTable' a utilisé (Temps d'exécution total) :\n",
      "NOTE:       temps réel              0,776626 secondes\n",
      "NOTE:       temps UC                4,535487 secondes (584,00 %)\n",
      "NOTE:       total nodes             1 (8 cores)\n",
      "NOTE:       mémoire totale           31,26 Go\n",
      "NOTE:       mémoire                 168,62 Mo (0,53 %)\n"
     ]
    },
    {
     "name": "stdout",
     "output_type": "stream",
     "text": [
      "[1] \"P\"\n"
     ]
    },
    {
     "name": "stderr",
     "output_type": "stream",
     "text": [
      "NOTE: Executing action 'table.dropTable'.\n",
      "NOTE: L'action 'table.dropTable' a utilisé (Temps d'exécution total) :\n",
      "NOTE:       temps réel              0,000699 secondes\n",
      "NOTE:       temps UC                0,000486 secondes (69,53 %)\n",
      "NOTE:       total nodes             1 (8 cores)\n",
      "NOTE:       mémoire totale           31,26 Go\n",
      "NOTE:       mémoire                 299,41 Ko (0,00 %)\n",
      "NOTE: Executing action 'table.loadTable'.\n",
      "NOTE: Cloud Analytic Services made the DNFS file P.csv available as table P in caslib CASUSER(sasdemo).\n",
      "NOTE: L'action 'table.loadTable' a utilisé (Temps d'exécution total) :\n",
      "NOTE:       temps réel              0,302288 secondes\n",
      "NOTE:       temps UC                1,598718 secondes (528,87 %)\n",
      "NOTE:       total nodes             1 (8 cores)\n",
      "NOTE:       mémoire totale           31,26 Go\n",
      "NOTE:       mémoire                 156,48 Mo (0,49 %)\n"
     ]
    },
    {
     "name": "stdout",
     "output_type": "stream",
     "text": [
      "[1] \"U1\"\n"
     ]
    },
    {
     "name": "stderr",
     "output_type": "stream",
     "text": [
      "NOTE: Executing action 'table.dropTable'.\n",
      "NOTE: L'action 'table.dropTable' a utilisé (Temps d'exécution total) :\n",
      "NOTE:       temps réel              0,001794 secondes\n",
      "NOTE:       temps UC                0,001420 secondes (79,15 %)\n",
      "NOTE:       total nodes             1 (8 cores)\n",
      "NOTE:       mémoire totale           31,26 Go\n",
      "NOTE:       mémoire                 299,41 Ko (0,00 %)\n",
      "NOTE: Executing action 'table.loadTable'.\n",
      "NOTE: Cloud Analytic Services made the DNFS file U1.csv available as table U1 in caslib CASUSER(sasdemo).\n",
      "NOTE: L'action 'table.loadTable' a utilisé (Temps d'exécution total) :\n",
      "NOTE:       temps réel              0,425544 secondes\n",
      "NOTE:       temps UC                2,449676 secondes (575,66 %)\n",
      "NOTE:       total nodes             1 (8 cores)\n",
      "NOTE:       mémoire totale           31,26 Go\n",
      "NOTE:       mémoire                 161,33 Mo (0,50 %)\n"
     ]
    },
    {
     "name": "stdout",
     "output_type": "stream",
     "text": [
      "[1] \"U2\"\n"
     ]
    },
    {
     "name": "stderr",
     "output_type": "stream",
     "text": [
      "NOTE: Executing action 'table.dropTable'.\n",
      "NOTE: L'action 'table.dropTable' a utilisé (Temps d'exécution total) :\n",
      "NOTE:       temps réel              0,001773 secondes\n",
      "NOTE:       temps UC                0,001159 secondes (65,37 %)\n",
      "NOTE:       total nodes             1 (8 cores)\n",
      "NOTE:       mémoire totale           31,26 Go\n",
      "NOTE:       mémoire                 299,41 Ko (0,00 %)\n",
      "NOTE: Executing action 'table.loadTable'.\n",
      "NOTE: Cloud Analytic Services made the DNFS file U2.csv available as table U2 in caslib CASUSER(sasdemo).\n",
      "NOTE: L'action 'table.loadTable' a utilisé (Temps d'exécution total) :\n",
      "NOTE:       temps réel              0,433693 secondes\n",
      "NOTE:       temps UC                2,227685 secondes (513,65 %)\n",
      "NOTE:       total nodes             1 (8 cores)\n",
      "NOTE:       mémoire totale           31,26 Go\n",
      "NOTE:       mémoire                 161,43 Mo (0,50 %)\n"
     ]
    },
    {
     "name": "stdout",
     "output_type": "stream",
     "text": [
      "[1] \"U3\"\n"
     ]
    },
    {
     "name": "stderr",
     "output_type": "stream",
     "text": [
      "NOTE: Executing action 'table.dropTable'.\n",
      "NOTE: L'action 'table.dropTable' a utilisé (Temps d'exécution total) :\n",
      "NOTE:       temps réel              0,000806 secondes\n",
      "NOTE:       temps UC                0,000471 secondes (58,44 %)\n",
      "NOTE:       total nodes             1 (8 cores)\n",
      "NOTE:       mémoire totale           31,26 Go\n",
      "NOTE:       mémoire                 299,41 Ko (0,00 %)\n",
      "NOTE: Executing action 'table.loadTable'.\n",
      "NOTE: Cloud Analytic Services made the DNFS file U3.csv available as table U3 in caslib CASUSER(sasdemo).\n",
      "NOTE: L'action 'table.loadTable' a utilisé (Temps d'exécution total) :\n",
      "NOTE:       temps réel              0,239844 secondes\n",
      "NOTE:       temps UC                0,880050 secondes (366,93 %)\n",
      "NOTE:       total nodes             1 (8 cores)\n",
      "NOTE:       mémoire totale           31,26 Go\n",
      "NOTE:       mémoire                 147,03 Mo (0,46 %)\n"
     ]
    },
    {
     "name": "stdout",
     "output_type": "stream",
     "text": [
      "[1] \"Z\"\n"
     ]
    },
    {
     "name": "stderr",
     "output_type": "stream",
     "text": [
      "NOTE: Executing action 'table.dropTable'.\n",
      "NOTE: L'action 'table.dropTable' a utilisé (Temps d'exécution total) :\n",
      "NOTE:       temps réel              0,000666 secondes\n",
      "NOTE:       temps UC                0,000512 secondes (76,88 %)\n",
      "NOTE:       total nodes             1 (8 cores)\n",
      "NOTE:       mémoire totale           31,26 Go\n",
      "NOTE:       mémoire                 299,41 Ko (0,00 %)\n",
      "NOTE: Executing action 'table.loadTable'.\n",
      "NOTE: Cloud Analytic Services made the DNFS file Z.csv available as table Z in caslib CASUSER(sasdemo).\n",
      "NOTE: L'action 'table.loadTable' a utilisé (Temps d'exécution total) :\n",
      "NOTE:       temps réel              0,219675 secondes\n",
      "NOTE:       temps UC                0,817578 secondes (372,18 %)\n",
      "NOTE:       total nodes             1 (8 cores)\n",
      "NOTE:       mémoire totale           31,26 Go\n",
      "NOTE:       mémoire                 148,14 Mo (0,46 %)\n"
     ]
    },
    {
     "name": "stdout",
     "output_type": "stream",
     "text": [
      "[1] \"TablePaysZone\"\n"
     ]
    },
    {
     "name": "stderr",
     "output_type": "stream",
     "text": [
      "NOTE: Executing action 'table.dropTable'.\n",
      "NOTE: L'action 'table.dropTable' a utilisé (Temps d'exécution total) :\n",
      "NOTE:       temps réel              0,000770 secondes\n",
      "NOTE:       temps UC                0,000598 secondes (77,66 %)\n",
      "NOTE:       total nodes             1 (8 cores)\n",
      "NOTE:       mémoire totale           31,26 Go\n",
      "NOTE:       mémoire                 301,94 Ko (0,00 %)\n",
      "NOTE: Executing action 'table.loadTable'.\n",
      "NOTE: Cloud Analytic Services made the DNFS file TablePaysZone.csv available as table TABLEPAYSZONE in caslib CASUSER(sasdemo).\n",
      "NOTE: L'action 'table.loadTable' a utilisé (Temps d'exécution total) :\n",
      "NOTE:       temps réel              0,081532 secondes\n",
      "NOTE:       temps UC                0,075297 secondes (92,35 %)\n",
      "NOTE:       total nodes             1 (8 cores)\n",
      "NOTE:       mémoire totale           31,26 Go\n",
      "NOTE:       mémoire                 129,52 Mo (0,40 %)\n"
     ]
    },
    {
     "name": "stdout",
     "output_type": "stream",
     "text": [
      "[1] \"PlanAgregation\"\n"
     ]
    },
    {
     "name": "stderr",
     "output_type": "stream",
     "text": [
      "NOTE: Executing action 'table.dropTable'.\n",
      "NOTE: L'action 'table.dropTable' a utilisé (Temps d'exécution total) :\n",
      "NOTE:       temps réel              0,001693 secondes\n",
      "NOTE:       temps UC                0,001317 secondes (77,79 %)\n",
      "NOTE:       total nodes             1 (8 cores)\n",
      "NOTE:       mémoire totale           31,26 Go\n",
      "NOTE:       mémoire                 301,94 Ko (0,00 %)\n",
      "NOTE: Executing action 'table.loadTable'.\n",
      "NOTE: Cloud Analytic Services made the DNFS file PlanAgregation.csv available as table PLANAGREGATION in caslib CASUSER(sasdemo).\n",
      "NOTE: L'action 'table.loadTable' a utilisé (Temps d'exécution total) :\n",
      "NOTE:       temps réel              0,065805 secondes\n",
      "NOTE:       temps UC                0,060334 secondes (91,69 %)\n",
      "NOTE:       total nodes             1 (8 cores)\n",
      "NOTE:       mémoire totale           31,26 Go\n",
      "NOTE:       mémoire                 129,72 Mo (0,41 %)\n"
     ]
    }
   ],
   "source": [
    "import_all_csv_in_memory(conn, 'mycaslib','casuser')"
   ]
  },
  {
   "cell_type": "code",
   "execution_count": 307,
   "metadata": {},
   "outputs": [
    {
     "name": "stderr",
     "output_type": "stream",
     "text": [
      "NOTE: Executing action 'table.tableInfo'.\n",
      "NOTE: L'action 'table.tableInfo' a utilisé (Temps d'exécution total) :\n",
      "NOTE:       temps réel              0,003663 secondes\n",
      "NOTE:       temps UC                0,002934 secondes (80,10 %)\n",
      "NOTE:       total nodes             1 (8 cores)\n",
      "NOTE:       mémoire totale           31,26 Go\n",
      "NOTE:       mémoire                 726,41 Ko (0,00 %)\n"
     ]
    },
    {
     "data": {
      "text/html": [
       "<strong>$TableInfo</strong> = <table>\n",
       "<thead><tr><th scope=col>Name</th><th scope=col>Rows</th><th scope=col>Columns</th><th scope=col>IndexedColumns</th><th scope=col>Encoding</th><th scope=col>CreateTimeFormatted</th><th scope=col>ModTimeFormatted</th><th scope=col>AccessTimeFormatted</th><th scope=col>JavaCharSet</th><th scope=col>CreateTime</th><th scope=col>...</th><th scope=col>Repeated</th><th scope=col>View</th><th scope=col>MultiPart</th><th scope=col>SourceName</th><th scope=col>SourceCaslib</th><th scope=col>Compressed</th><th scope=col>Creator</th><th scope=col>Modifier</th><th scope=col>SourceModTimeFormatted</th><th scope=col>SourceModTime</th></tr></thead>\n",
       "<tbody>\n",
       "\t<tr><td>D1                       </td><td> 216482                  </td><td> 8                       </td><td>0                        </td><td>utf-8                    </td><td>2020-04-17T23:30:44+02:00</td><td>2020-04-17T23:30:44+02:00</td><td>2020-04-17T23:33:42+02:00</td><td>UTF8                     </td><td>1902778244               </td><td>...                      </td><td>0                        </td><td>0                        </td><td>0                        </td><td>D1.csv                   </td><td>mycaslib                 </td><td>0                        </td><td>sasdemo                  </td><td>                         </td><td>2020-04-06T15:46:33+02:00</td><td>1901799993               </td></tr>\n",
       "\t<tr><td>D2                       </td><td>  64725                  </td><td> 8                       </td><td>0                        </td><td>utf-8                    </td><td>2020-04-17T23:30:45+02:00</td><td>2020-04-17T23:30:45+02:00</td><td>2020-04-17T23:33:42+02:00</td><td>UTF8                     </td><td>1902778245               </td><td>...                      </td><td>0                        </td><td>0                        </td><td>0                        </td><td>D2.csv                   </td><td>mycaslib                 </td><td>0                        </td><td>sasdemo                  </td><td>                         </td><td>2020-04-06T15:46:51+02:00</td><td>1901800011               </td></tr>\n",
       "\t<tr><td>D3                       </td><td> 181969                  </td><td> 8                       </td><td>0                        </td><td>utf-8                    </td><td>2020-04-17T23:30:45+02:00</td><td>2020-04-17T23:30:45+02:00</td><td>2020-04-17T23:33:43+02:00</td><td>UTF8                     </td><td>1902778245               </td><td>...                      </td><td>0                        </td><td>0                        </td><td>0                        </td><td>D3.csv                   </td><td>mycaslib                 </td><td>0                        </td><td>sasdemo                  </td><td>                         </td><td>2020-04-06T15:47:37+02:00</td><td>1901800057               </td></tr>\n",
       "\t<tr><td>D                        </td><td> 320389                  </td><td> 8                       </td><td>0                        </td><td>utf-8                    </td><td>2020-04-17T23:30:46+02:00</td><td>2020-04-17T23:30:46+02:00</td><td>2020-04-17T23:33:43+02:00</td><td>UTF8                     </td><td>1902778246               </td><td>...                      </td><td>0                        </td><td>0                        </td><td>0                        </td><td>D.csv                    </td><td>mycaslib                 </td><td>0                        </td><td>sasdemo                  </td><td>                         </td><td>2020-04-06T15:49:03+02:00</td><td>1901800143               </td></tr>\n",
       "\t<tr><td>F                        </td><td>   5974                  </td><td> 8                       </td><td>0                        </td><td>utf-8                    </td><td>2020-04-17T23:30:47+02:00</td><td>2020-04-17T23:30:47+02:00</td><td>2020-04-17T23:33:43+02:00</td><td>UTF8                     </td><td>1902778247               </td><td>...                      </td><td>0                        </td><td>0                        </td><td>0                        </td><td>F.csv                    </td><td>mycaslib                 </td><td>0                        </td><td>sasdemo                  </td><td>                         </td><td>2020-04-06T15:49:06+02:00</td><td>1901800146               </td></tr>\n",
       "\t<tr><td>O                        </td><td> 283449                  </td><td> 8                       </td><td>0                        </td><td>utf-8                    </td><td>2020-04-17T23:30:47+02:00</td><td>2020-04-17T23:30:47+02:00</td><td>2020-04-17T23:33:44+02:00</td><td>UTF8                     </td><td>1902778247               </td><td>...                      </td><td>0                        </td><td>0                        </td><td>0                        </td><td>O.csv                    </td><td>mycaslib                 </td><td>0                        </td><td>sasdemo                  </td><td>                         </td><td>2020-04-06T15:50:16+02:00</td><td>1901800216               </td></tr>\n",
       "\t<tr><td>P                        </td><td>  95308                  </td><td> 8                       </td><td>0                        </td><td>utf-8                    </td><td>2020-04-17T23:30:48+02:00</td><td>2020-04-17T23:30:48+02:00</td><td>2020-04-17T23:33:44+02:00</td><td>UTF8                     </td><td>1902778248               </td><td>...                      </td><td>0                        </td><td>0                        </td><td>0                        </td><td>P.csv                    </td><td>mycaslib                 </td><td>0                        </td><td>sasdemo                  </td><td>                         </td><td>2020-04-06T15:50:38+02:00</td><td>1901800238               </td></tr>\n",
       "\t<tr><td>U1                       </td><td> 148350                  </td><td> 8                       </td><td>0                        </td><td>utf-8                    </td><td>2020-04-17T23:30:49+02:00</td><td>2020-04-17T23:30:49+02:00</td><td>2020-04-17T23:33:44+02:00</td><td>UTF8                     </td><td>1902778249               </td><td>...                      </td><td>0                        </td><td>0                        </td><td>0                        </td><td>U1.csv                   </td><td>mycaslib                 </td><td>0                        </td><td>sasdemo                  </td><td>                         </td><td>2020-04-06T15:51:17+02:00</td><td>1901800277               </td></tr>\n",
       "\t<tr><td>U2                       </td><td> 133907                  </td><td> 8                       </td><td>0                        </td><td>utf-8                    </td><td>2020-04-17T23:30:49+02:00</td><td>2020-04-17T23:30:49+02:00</td><td>2020-04-17T23:33:44+02:00</td><td>UTF8                     </td><td>1902778249               </td><td>...                      </td><td>0                        </td><td>0                        </td><td>0                        </td><td>U2.csv                   </td><td>mycaslib                 </td><td>0                        </td><td>sasdemo                  </td><td>                         </td><td>2020-04-06T15:51:52+02:00</td><td>1901800312               </td></tr>\n",
       "\t<tr><td>U3                       </td><td>  60779                  </td><td> 8                       </td><td>0                        </td><td>utf-8                    </td><td>2020-04-17T23:30:50+02:00</td><td>2020-04-17T23:30:50+02:00</td><td>2020-04-17T23:33:45+02:00</td><td>UTF8                     </td><td>1902778250               </td><td>...                      </td><td>0                        </td><td>0                        </td><td>0                        </td><td>U3.csv                   </td><td>mycaslib                 </td><td>0                        </td><td>sasdemo                  </td><td>                         </td><td>2020-04-06T15:52:09+02:00</td><td>1901800329               </td></tr>\n",
       "\t<tr><td>Z                        </td><td>  64869                  </td><td> 8                       </td><td>0                        </td><td>utf-8                    </td><td>2020-04-17T23:30:50+02:00</td><td>2020-04-17T23:30:50+02:00</td><td>2020-04-17T23:33:45+02:00</td><td>UTF8                     </td><td>1902778250               </td><td>...                      </td><td>0                        </td><td>0                        </td><td>0                        </td><td>Z.csv                    </td><td>mycaslib                 </td><td>0                        </td><td>sasdemo                  </td><td>                         </td><td>2020-04-06T15:52:26+02:00</td><td>1901800346               </td></tr>\n",
       "\t<tr><td>TABLEPAYSZONE            </td><td>   3953                  </td><td> 5                       </td><td>0                        </td><td>utf-8                    </td><td>2020-04-17T23:30:51+02:00</td><td>2020-04-17T23:30:51+02:00</td><td>2020-04-18T00:41:00+02:00</td><td>UTF8                     </td><td>1902778251               </td><td>...                      </td><td>0                        </td><td>0                        </td><td>0                        </td><td>TablePaysZone.csv        </td><td>mycaslib                 </td><td>0                        </td><td>sasdemo                  </td><td>                         </td><td>2020-04-07T08:51:52+02:00</td><td>1901861512               </td></tr>\n",
       "\t<tr><td>PLANAGREGATION           </td><td>    533                  </td><td>41                       </td><td>0                        </td><td>utf-8                    </td><td>2020-04-17T23:30:51+02:00</td><td>2020-04-17T23:30:51+02:00</td><td>2020-04-18T00:41:13+02:00</td><td>UTF8                     </td><td>1902778251               </td><td>...                      </td><td>0                        </td><td>0                        </td><td>0                        </td><td>PlanAgregation.csv       </td><td>mycaslib                 </td><td>0                        </td><td>sasdemo                  </td><td>                         </td><td>2020-04-07T08:51:52+02:00</td><td>1901861512               </td></tr>\n",
       "\t<tr><td>AGGTTECATEGORIE          </td><td>1576201                  </td><td> 9                       </td><td>0                        </td><td>utf-8                    </td><td>2020-04-17T23:33:42+02:00</td><td>2020-04-17T23:33:42+02:00</td><td>2020-04-18T00:43:26+02:00</td><td>UTF8                     </td><td>1902778422               </td><td>...                      </td><td>0                        </td><td>0                        </td><td>0                        </td><td>                         </td><td>                         </td><td>0                        </td><td>sasdemo                  </td><td>                         </td><td>                         </td><td>       NaN               </td></tr>\n",
       "\t<tr><td>AGGTTECATEGORIE_FREQ     </td><td>     11                  </td><td> 5                       </td><td>0                        </td><td>utf-8                    </td><td>2020-04-17T23:35:17+02:00</td><td>2020-04-17T23:35:17+02:00</td><td>2020-04-17T23:35:17+02:00</td><td>UTF8                     </td><td>1902778517               </td><td>...                      </td><td>0                        </td><td>0                        </td><td>0                        </td><td>                         </td><td>                         </td><td>0                        </td><td>sasdemo                  </td><td>                         </td><td>                         </td><td>       NaN               </td></tr>\n",
       "\t<tr><td>PLANAGGPARAM             </td><td>2639427                  </td><td> 3                       </td><td>0                        </td><td>utf-8                    </td><td>2020-04-18T00:16:45+02:00</td><td>2020-04-18T00:16:45+02:00</td><td>2020-04-18T00:43:28+02:00</td><td>UTF8                     </td><td>1902781005               </td><td>...                      </td><td>0                        </td><td>0                        </td><td>0                        </td><td>                         </td><td>                         </td><td>0                        </td><td>sasdemo                  </td><td>                         </td><td>2020-04-18T00:16:45+02:00</td><td>1902781005               </td></tr>\n",
       "\t<tr><td>AGG_MENS_TEMP            </td><td>1576201                  </td><td> 9                       </td><td>0                        </td><td>utf-8                    </td><td>2020-04-18T00:43:26+02:00</td><td>2020-04-18T00:43:26+02:00</td><td>2020-04-18T00:43:28+02:00</td><td>UTF8                     </td><td>1902782606               </td><td>...                      </td><td>0                        </td><td>0                        </td><td>0                        </td><td>                         </td><td>                         </td><td>0                        </td><td>sasdemo                  </td><td>                         </td><td>                         </td><td>       NaN               </td></tr>\n",
       "\t<tr><td>TMP_AGG                  </td><td>1578041                  </td><td>10                       </td><td>0                        </td><td>utf-8                    </td><td>2020-04-18T00:43:28+02:00</td><td>2020-04-18T00:43:28+02:00</td><td>2020-04-18T00:43:47+02:00</td><td>UTF8                     </td><td>1902782608               </td><td>...                      </td><td>0                        </td><td>0                        </td><td>0                        </td><td>                         </td><td>                         </td><td>0                        </td><td>sasdemo                  </td><td>                         </td><td>                         </td><td>       NaN               </td></tr>\n",
       "\t<tr><td>AGG_MENS                 </td><td>   8588                  </td><td> 8                       </td><td>0                        </td><td>utf-8                    </td><td>2020-04-18T00:43:47+02:00</td><td>2020-04-18T00:43:47+02:00</td><td>2020-04-18T00:43:54+02:00</td><td>UTF8                     </td><td>1902782627               </td><td>...                      </td><td>0                        </td><td>0                        </td><td>0                        </td><td>                         </td><td>                         </td><td>0                        </td><td>sasdemo                  </td><td>                         </td><td>                         </td><td>       NaN               </td></tr>\n",
       "\t<tr><td>AGG_FINALE               </td><td>   8588                  </td><td> 9                       </td><td>0                        </td><td>utf-8                    </td><td>2020-04-18T00:43:54+02:00</td><td>2020-04-18T00:43:54+02:00</td><td>2020-04-18T00:43:54+02:00</td><td>UTF8                     </td><td>1902782634               </td><td>...                      </td><td>0                        </td><td>0                        </td><td>0                        </td><td>                         </td><td>                         </td><td>0                        </td><td>sasdemo                  </td><td>                         </td><td>                         </td><td>       NaN               </td></tr>\n",
       "</tbody>\n",
       "</table>\n"
      ],
      "text/latex": [
       "\\textbf{\\$TableInfo} = \\begin{tabular}{r|lllllllllllllllllllllll}\n",
       " Name & Rows & Columns & IndexedColumns & Encoding & CreateTimeFormatted & ModTimeFormatted & AccessTimeFormatted & JavaCharSet & CreateTime & ... & Repeated & View & MultiPart & SourceName & SourceCaslib & Compressed & Creator & Modifier & SourceModTimeFormatted & SourceModTime\\\\\n",
       "\\hline\n",
       "\t D1                        &  216482                   &  8                        & 0                         & utf-8                     & 2020-04-17T23:30:44+02:00 & 2020-04-17T23:30:44+02:00 & 2020-04-17T23:33:42+02:00 & UTF8                      & 1902778244                & ...                       & 0                         & 0                         & 0                         & D1.csv                    & mycaslib                  & 0                         & sasdemo                   &                           & 2020-04-06T15:46:33+02:00 & 1901799993               \\\\\n",
       "\t D2                        &   64725                   &  8                        & 0                         & utf-8                     & 2020-04-17T23:30:45+02:00 & 2020-04-17T23:30:45+02:00 & 2020-04-17T23:33:42+02:00 & UTF8                      & 1902778245                & ...                       & 0                         & 0                         & 0                         & D2.csv                    & mycaslib                  & 0                         & sasdemo                   &                           & 2020-04-06T15:46:51+02:00 & 1901800011               \\\\\n",
       "\t D3                        &  181969                   &  8                        & 0                         & utf-8                     & 2020-04-17T23:30:45+02:00 & 2020-04-17T23:30:45+02:00 & 2020-04-17T23:33:43+02:00 & UTF8                      & 1902778245                & ...                       & 0                         & 0                         & 0                         & D3.csv                    & mycaslib                  & 0                         & sasdemo                   &                           & 2020-04-06T15:47:37+02:00 & 1901800057               \\\\\n",
       "\t D                         &  320389                   &  8                        & 0                         & utf-8                     & 2020-04-17T23:30:46+02:00 & 2020-04-17T23:30:46+02:00 & 2020-04-17T23:33:43+02:00 & UTF8                      & 1902778246                & ...                       & 0                         & 0                         & 0                         & D.csv                     & mycaslib                  & 0                         & sasdemo                   &                           & 2020-04-06T15:49:03+02:00 & 1901800143               \\\\\n",
       "\t F                         &    5974                   &  8                        & 0                         & utf-8                     & 2020-04-17T23:30:47+02:00 & 2020-04-17T23:30:47+02:00 & 2020-04-17T23:33:43+02:00 & UTF8                      & 1902778247                & ...                       & 0                         & 0                         & 0                         & F.csv                     & mycaslib                  & 0                         & sasdemo                   &                           & 2020-04-06T15:49:06+02:00 & 1901800146               \\\\\n",
       "\t O                         &  283449                   &  8                        & 0                         & utf-8                     & 2020-04-17T23:30:47+02:00 & 2020-04-17T23:30:47+02:00 & 2020-04-17T23:33:44+02:00 & UTF8                      & 1902778247                & ...                       & 0                         & 0                         & 0                         & O.csv                     & mycaslib                  & 0                         & sasdemo                   &                           & 2020-04-06T15:50:16+02:00 & 1901800216               \\\\\n",
       "\t P                         &   95308                   &  8                        & 0                         & utf-8                     & 2020-04-17T23:30:48+02:00 & 2020-04-17T23:30:48+02:00 & 2020-04-17T23:33:44+02:00 & UTF8                      & 1902778248                & ...                       & 0                         & 0                         & 0                         & P.csv                     & mycaslib                  & 0                         & sasdemo                   &                           & 2020-04-06T15:50:38+02:00 & 1901800238               \\\\\n",
       "\t U1                        &  148350                   &  8                        & 0                         & utf-8                     & 2020-04-17T23:30:49+02:00 & 2020-04-17T23:30:49+02:00 & 2020-04-17T23:33:44+02:00 & UTF8                      & 1902778249                & ...                       & 0                         & 0                         & 0                         & U1.csv                    & mycaslib                  & 0                         & sasdemo                   &                           & 2020-04-06T15:51:17+02:00 & 1901800277               \\\\\n",
       "\t U2                        &  133907                   &  8                        & 0                         & utf-8                     & 2020-04-17T23:30:49+02:00 & 2020-04-17T23:30:49+02:00 & 2020-04-17T23:33:44+02:00 & UTF8                      & 1902778249                & ...                       & 0                         & 0                         & 0                         & U2.csv                    & mycaslib                  & 0                         & sasdemo                   &                           & 2020-04-06T15:51:52+02:00 & 1901800312               \\\\\n",
       "\t U3                        &   60779                   &  8                        & 0                         & utf-8                     & 2020-04-17T23:30:50+02:00 & 2020-04-17T23:30:50+02:00 & 2020-04-17T23:33:45+02:00 & UTF8                      & 1902778250                & ...                       & 0                         & 0                         & 0                         & U3.csv                    & mycaslib                  & 0                         & sasdemo                   &                           & 2020-04-06T15:52:09+02:00 & 1901800329               \\\\\n",
       "\t Z                         &   64869                   &  8                        & 0                         & utf-8                     & 2020-04-17T23:30:50+02:00 & 2020-04-17T23:30:50+02:00 & 2020-04-17T23:33:45+02:00 & UTF8                      & 1902778250                & ...                       & 0                         & 0                         & 0                         & Z.csv                     & mycaslib                  & 0                         & sasdemo                   &                           & 2020-04-06T15:52:26+02:00 & 1901800346               \\\\\n",
       "\t TABLEPAYSZONE             &    3953                   &  5                        & 0                         & utf-8                     & 2020-04-17T23:30:51+02:00 & 2020-04-17T23:30:51+02:00 & 2020-04-18T00:41:00+02:00 & UTF8                      & 1902778251                & ...                       & 0                         & 0                         & 0                         & TablePaysZone.csv         & mycaslib                  & 0                         & sasdemo                   &                           & 2020-04-07T08:51:52+02:00 & 1901861512               \\\\\n",
       "\t PLANAGREGATION            &     533                   & 41                        & 0                         & utf-8                     & 2020-04-17T23:30:51+02:00 & 2020-04-17T23:30:51+02:00 & 2020-04-18T00:41:13+02:00 & UTF8                      & 1902778251                & ...                       & 0                         & 0                         & 0                         & PlanAgregation.csv        & mycaslib                  & 0                         & sasdemo                   &                           & 2020-04-07T08:51:52+02:00 & 1901861512               \\\\\n",
       "\t AGGTTECATEGORIE           & 1576201                   &  9                        & 0                         & utf-8                     & 2020-04-17T23:33:42+02:00 & 2020-04-17T23:33:42+02:00 & 2020-04-18T00:43:26+02:00 & UTF8                      & 1902778422                & ...                       & 0                         & 0                         & 0                         &                           &                           & 0                         & sasdemo                   &                           &                           &        NaN               \\\\\n",
       "\t AGGTTECATEGORIE\\_FREQ    &      11                   &  5                        & 0                         & utf-8                     & 2020-04-17T23:35:17+02:00 & 2020-04-17T23:35:17+02:00 & 2020-04-17T23:35:17+02:00 & UTF8                      & 1902778517                & ...                       & 0                         & 0                         & 0                         &                           &                           & 0                         & sasdemo                   &                           &                           &        NaN               \\\\\n",
       "\t PLANAGGPARAM              & 2639427                   &  3                        & 0                         & utf-8                     & 2020-04-18T00:16:45+02:00 & 2020-04-18T00:16:45+02:00 & 2020-04-18T00:43:28+02:00 & UTF8                      & 1902781005                & ...                       & 0                         & 0                         & 0                         &                           &                           & 0                         & sasdemo                   &                           & 2020-04-18T00:16:45+02:00 & 1902781005               \\\\\n",
       "\t AGG\\_MENS\\_TEMP         & 1576201                   &  9                        & 0                         & utf-8                     & 2020-04-18T00:43:26+02:00 & 2020-04-18T00:43:26+02:00 & 2020-04-18T00:43:28+02:00 & UTF8                      & 1902782606                & ...                       & 0                         & 0                         & 0                         &                           &                           & 0                         & sasdemo                   &                           &                           &        NaN               \\\\\n",
       "\t TMP\\_AGG                 & 1578041                   & 10                        & 0                         & utf-8                     & 2020-04-18T00:43:28+02:00 & 2020-04-18T00:43:28+02:00 & 2020-04-18T00:43:47+02:00 & UTF8                      & 1902782608                & ...                       & 0                         & 0                         & 0                         &                           &                           & 0                         & sasdemo                   &                           &                           &        NaN               \\\\\n",
       "\t AGG\\_MENS                &    8588                   &  8                        & 0                         & utf-8                     & 2020-04-18T00:43:47+02:00 & 2020-04-18T00:43:47+02:00 & 2020-04-18T00:43:54+02:00 & UTF8                      & 1902782627                & ...                       & 0                         & 0                         & 0                         &                           &                           & 0                         & sasdemo                   &                           &                           &        NaN               \\\\\n",
       "\t AGG\\_FINALE              &    8588                   &  9                        & 0                         & utf-8                     & 2020-04-18T00:43:54+02:00 & 2020-04-18T00:43:54+02:00 & 2020-04-18T00:43:54+02:00 & UTF8                      & 1902782634                & ...                       & 0                         & 0                         & 0                         &                           &                           & 0                         & sasdemo                   &                           &                           &        NaN               \\\\\n",
       "\\end{tabular}\n"
      ],
      "text/markdown": [
       "**$TableInfo** = \n",
       "| Name | Rows | Columns | IndexedColumns | Encoding | CreateTimeFormatted | ModTimeFormatted | AccessTimeFormatted | JavaCharSet | CreateTime | ... | Repeated | View | MultiPart | SourceName | SourceCaslib | Compressed | Creator | Modifier | SourceModTimeFormatted | SourceModTime |\n",
       "|---|---|---|---|---|---|---|---|---|---|---|---|---|---|---|---|---|---|---|---|---|\n",
       "| D1                        |  216482                   |  8                        | 0                         | utf-8                     | 2020-04-17T23:30:44+02:00 | 2020-04-17T23:30:44+02:00 | 2020-04-17T23:33:42+02:00 | UTF8                      | 1902778244                | ...                       | 0                         | 0                         | 0                         | D1.csv                    | mycaslib                  | 0                         | sasdemo                   |                           | 2020-04-06T15:46:33+02:00 | 1901799993                |\n",
       "| D2                        |   64725                   |  8                        | 0                         | utf-8                     | 2020-04-17T23:30:45+02:00 | 2020-04-17T23:30:45+02:00 | 2020-04-17T23:33:42+02:00 | UTF8                      | 1902778245                | ...                       | 0                         | 0                         | 0                         | D2.csv                    | mycaslib                  | 0                         | sasdemo                   |                           | 2020-04-06T15:46:51+02:00 | 1901800011                |\n",
       "| D3                        |  181969                   |  8                        | 0                         | utf-8                     | 2020-04-17T23:30:45+02:00 | 2020-04-17T23:30:45+02:00 | 2020-04-17T23:33:43+02:00 | UTF8                      | 1902778245                | ...                       | 0                         | 0                         | 0                         | D3.csv                    | mycaslib                  | 0                         | sasdemo                   |                           | 2020-04-06T15:47:37+02:00 | 1901800057                |\n",
       "| D                         |  320389                   |  8                        | 0                         | utf-8                     | 2020-04-17T23:30:46+02:00 | 2020-04-17T23:30:46+02:00 | 2020-04-17T23:33:43+02:00 | UTF8                      | 1902778246                | ...                       | 0                         | 0                         | 0                         | D.csv                     | mycaslib                  | 0                         | sasdemo                   |                           | 2020-04-06T15:49:03+02:00 | 1901800143                |\n",
       "| F                         |    5974                   |  8                        | 0                         | utf-8                     | 2020-04-17T23:30:47+02:00 | 2020-04-17T23:30:47+02:00 | 2020-04-17T23:33:43+02:00 | UTF8                      | 1902778247                | ...                       | 0                         | 0                         | 0                         | F.csv                     | mycaslib                  | 0                         | sasdemo                   |                           | 2020-04-06T15:49:06+02:00 | 1901800146                |\n",
       "| O                         |  283449                   |  8                        | 0                         | utf-8                     | 2020-04-17T23:30:47+02:00 | 2020-04-17T23:30:47+02:00 | 2020-04-17T23:33:44+02:00 | UTF8                      | 1902778247                | ...                       | 0                         | 0                         | 0                         | O.csv                     | mycaslib                  | 0                         | sasdemo                   |                           | 2020-04-06T15:50:16+02:00 | 1901800216                |\n",
       "| P                         |   95308                   |  8                        | 0                         | utf-8                     | 2020-04-17T23:30:48+02:00 | 2020-04-17T23:30:48+02:00 | 2020-04-17T23:33:44+02:00 | UTF8                      | 1902778248                | ...                       | 0                         | 0                         | 0                         | P.csv                     | mycaslib                  | 0                         | sasdemo                   |                           | 2020-04-06T15:50:38+02:00 | 1901800238                |\n",
       "| U1                        |  148350                   |  8                        | 0                         | utf-8                     | 2020-04-17T23:30:49+02:00 | 2020-04-17T23:30:49+02:00 | 2020-04-17T23:33:44+02:00 | UTF8                      | 1902778249                | ...                       | 0                         | 0                         | 0                         | U1.csv                    | mycaslib                  | 0                         | sasdemo                   |                           | 2020-04-06T15:51:17+02:00 | 1901800277                |\n",
       "| U2                        |  133907                   |  8                        | 0                         | utf-8                     | 2020-04-17T23:30:49+02:00 | 2020-04-17T23:30:49+02:00 | 2020-04-17T23:33:44+02:00 | UTF8                      | 1902778249                | ...                       | 0                         | 0                         | 0                         | U2.csv                    | mycaslib                  | 0                         | sasdemo                   |                           | 2020-04-06T15:51:52+02:00 | 1901800312                |\n",
       "| U3                        |   60779                   |  8                        | 0                         | utf-8                     | 2020-04-17T23:30:50+02:00 | 2020-04-17T23:30:50+02:00 | 2020-04-17T23:33:45+02:00 | UTF8                      | 1902778250                | ...                       | 0                         | 0                         | 0                         | U3.csv                    | mycaslib                  | 0                         | sasdemo                   |                           | 2020-04-06T15:52:09+02:00 | 1901800329                |\n",
       "| Z                         |   64869                   |  8                        | 0                         | utf-8                     | 2020-04-17T23:30:50+02:00 | 2020-04-17T23:30:50+02:00 | 2020-04-17T23:33:45+02:00 | UTF8                      | 1902778250                | ...                       | 0                         | 0                         | 0                         | Z.csv                     | mycaslib                  | 0                         | sasdemo                   |                           | 2020-04-06T15:52:26+02:00 | 1901800346                |\n",
       "| TABLEPAYSZONE             |    3953                   |  5                        | 0                         | utf-8                     | 2020-04-17T23:30:51+02:00 | 2020-04-17T23:30:51+02:00 | 2020-04-18T00:41:00+02:00 | UTF8                      | 1902778251                | ...                       | 0                         | 0                         | 0                         | TablePaysZone.csv         | mycaslib                  | 0                         | sasdemo                   |                           | 2020-04-07T08:51:52+02:00 | 1901861512                |\n",
       "| PLANAGREGATION            |     533                   | 41                        | 0                         | utf-8                     | 2020-04-17T23:30:51+02:00 | 2020-04-17T23:30:51+02:00 | 2020-04-18T00:41:13+02:00 | UTF8                      | 1902778251                | ...                       | 0                         | 0                         | 0                         | PlanAgregation.csv        | mycaslib                  | 0                         | sasdemo                   |                           | 2020-04-07T08:51:52+02:00 | 1901861512                |\n",
       "| AGGTTECATEGORIE           | 1576201                   |  9                        | 0                         | utf-8                     | 2020-04-17T23:33:42+02:00 | 2020-04-17T23:33:42+02:00 | 2020-04-18T00:43:26+02:00 | UTF8                      | 1902778422                | ...                       | 0                         | 0                         | 0                         |                           |                           | 0                         | sasdemo                   |                           |                           |        NaN                |\n",
       "| AGGTTECATEGORIE_FREQ      |      11                   |  5                        | 0                         | utf-8                     | 2020-04-17T23:35:17+02:00 | 2020-04-17T23:35:17+02:00 | 2020-04-17T23:35:17+02:00 | UTF8                      | 1902778517                | ...                       | 0                         | 0                         | 0                         |                           |                           | 0                         | sasdemo                   |                           |                           |        NaN                |\n",
       "| PLANAGGPARAM              | 2639427                   |  3                        | 0                         | utf-8                     | 2020-04-18T00:16:45+02:00 | 2020-04-18T00:16:45+02:00 | 2020-04-18T00:43:28+02:00 | UTF8                      | 1902781005                | ...                       | 0                         | 0                         | 0                         |                           |                           | 0                         | sasdemo                   |                           | 2020-04-18T00:16:45+02:00 | 1902781005                |\n",
       "| AGG_MENS_TEMP             | 1576201                   |  9                        | 0                         | utf-8                     | 2020-04-18T00:43:26+02:00 | 2020-04-18T00:43:26+02:00 | 2020-04-18T00:43:28+02:00 | UTF8                      | 1902782606                | ...                       | 0                         | 0                         | 0                         |                           |                           | 0                         | sasdemo                   |                           |                           |        NaN                |\n",
       "| TMP_AGG                   | 1578041                   | 10                        | 0                         | utf-8                     | 2020-04-18T00:43:28+02:00 | 2020-04-18T00:43:28+02:00 | 2020-04-18T00:43:47+02:00 | UTF8                      | 1902782608                | ...                       | 0                         | 0                         | 0                         |                           |                           | 0                         | sasdemo                   |                           |                           |        NaN                |\n",
       "| AGG_MENS                  |    8588                   |  8                        | 0                         | utf-8                     | 2020-04-18T00:43:47+02:00 | 2020-04-18T00:43:47+02:00 | 2020-04-18T00:43:54+02:00 | UTF8                      | 1902782627                | ...                       | 0                         | 0                         | 0                         |                           |                           | 0                         | sasdemo                   |                           |                           |        NaN                |\n",
       "| AGG_FINALE                |    8588                   |  9                        | 0                         | utf-8                     | 2020-04-18T00:43:54+02:00 | 2020-04-18T00:43:54+02:00 | 2020-04-18T00:43:54+02:00 | UTF8                      | 1902782634                | ...                       | 0                         | 0                         | 0                         |                           |                           | 0                         | sasdemo                   |                           |                           |        NaN                |\n",
       "\n"
      ],
      "text/plain": [
       "$TableInfo\n",
       "                   Name    Rows Columns IndexedColumns Encoding\n",
       "1                    D1  216482       8              0    utf-8\n",
       "2                    D2   64725       8              0    utf-8\n",
       "3                    D3  181969       8              0    utf-8\n",
       "4                     D  320389       8              0    utf-8\n",
       "5                     F    5974       8              0    utf-8\n",
       "6                     O  283449       8              0    utf-8\n",
       "7                     P   95308       8              0    utf-8\n",
       "8                    U1  148350       8              0    utf-8\n",
       "9                    U2  133907       8              0    utf-8\n",
       "10                   U3   60779       8              0    utf-8\n",
       "11                    Z   64869       8              0    utf-8\n",
       "12        TABLEPAYSZONE    3953       5              0    utf-8\n",
       "13       PLANAGREGATION     533      41              0    utf-8\n",
       "14      AGGTTECATEGORIE 1576201       9              0    utf-8\n",
       "15 AGGTTECATEGORIE_FREQ      11       5              0    utf-8\n",
       "16         PLANAGGPARAM 2639427       3              0    utf-8\n",
       "17        AGG_MENS_TEMP 1576201       9              0    utf-8\n",
       "18              TMP_AGG 1578041      10              0    utf-8\n",
       "19             AGG_MENS    8588       8              0    utf-8\n",
       "20           AGG_FINALE    8588       9              0    utf-8\n",
       "         CreateTimeFormatted          ModTimeFormatted\n",
       "1  2020-04-17T23:30:44+02:00 2020-04-17T23:30:44+02:00\n",
       "2  2020-04-17T23:30:45+02:00 2020-04-17T23:30:45+02:00\n",
       "3  2020-04-17T23:30:45+02:00 2020-04-17T23:30:45+02:00\n",
       "4  2020-04-17T23:30:46+02:00 2020-04-17T23:30:46+02:00\n",
       "5  2020-04-17T23:30:47+02:00 2020-04-17T23:30:47+02:00\n",
       "6  2020-04-17T23:30:47+02:00 2020-04-17T23:30:47+02:00\n",
       "7  2020-04-17T23:30:48+02:00 2020-04-17T23:30:48+02:00\n",
       "8  2020-04-17T23:30:49+02:00 2020-04-17T23:30:49+02:00\n",
       "9  2020-04-17T23:30:49+02:00 2020-04-17T23:30:49+02:00\n",
       "10 2020-04-17T23:30:50+02:00 2020-04-17T23:30:50+02:00\n",
       "11 2020-04-17T23:30:50+02:00 2020-04-17T23:30:50+02:00\n",
       "12 2020-04-17T23:30:51+02:00 2020-04-17T23:30:51+02:00\n",
       "13 2020-04-17T23:30:51+02:00 2020-04-17T23:30:51+02:00\n",
       "14 2020-04-17T23:33:42+02:00 2020-04-17T23:33:42+02:00\n",
       "15 2020-04-17T23:35:17+02:00 2020-04-17T23:35:17+02:00\n",
       "16 2020-04-18T00:16:45+02:00 2020-04-18T00:16:45+02:00\n",
       "17 2020-04-18T00:43:26+02:00 2020-04-18T00:43:26+02:00\n",
       "18 2020-04-18T00:43:28+02:00 2020-04-18T00:43:28+02:00\n",
       "19 2020-04-18T00:43:47+02:00 2020-04-18T00:43:47+02:00\n",
       "20 2020-04-18T00:43:54+02:00 2020-04-18T00:43:54+02:00\n",
       "         AccessTimeFormatted JavaCharSet CreateTime    ModTime AccessTime\n",
       "1  2020-04-17T23:33:42+02:00        UTF8 1902778244 1902778244 1902778422\n",
       "2  2020-04-17T23:33:42+02:00        UTF8 1902778245 1902778245 1902778422\n",
       "3  2020-04-17T23:33:43+02:00        UTF8 1902778245 1902778245 1902778423\n",
       "4  2020-04-17T23:33:43+02:00        UTF8 1902778246 1902778246 1902778423\n",
       "5  2020-04-17T23:33:43+02:00        UTF8 1902778247 1902778247 1902778423\n",
       "6  2020-04-17T23:33:44+02:00        UTF8 1902778247 1902778247 1902778424\n",
       "7  2020-04-17T23:33:44+02:00        UTF8 1902778248 1902778248 1902778424\n",
       "8  2020-04-17T23:33:44+02:00        UTF8 1902778249 1902778249 1902778424\n",
       "9  2020-04-17T23:33:44+02:00        UTF8 1902778249 1902778249 1902778424\n",
       "10 2020-04-17T23:33:45+02:00        UTF8 1902778250 1902778250 1902778425\n",
       "11 2020-04-17T23:33:45+02:00        UTF8 1902778250 1902778250 1902778425\n",
       "12 2020-04-18T00:41:00+02:00        UTF8 1902778251 1902778251 1902782460\n",
       "13 2020-04-18T00:41:13+02:00        UTF8 1902778251 1902778251 1902782473\n",
       "14 2020-04-18T00:43:26+02:00        UTF8 1902778422 1902778422 1902782606\n",
       "15 2020-04-17T23:35:17+02:00        UTF8 1902778517 1902778517 1902778517\n",
       "16 2020-04-18T00:43:28+02:00        UTF8 1902781005 1902781005 1902782608\n",
       "17 2020-04-18T00:43:28+02:00        UTF8 1902782606 1902782606 1902782608\n",
       "18 2020-04-18T00:43:47+02:00        UTF8 1902782608 1902782608 1902782627\n",
       "19 2020-04-18T00:43:54+02:00        UTF8 1902782627 1902782627 1902782634\n",
       "20 2020-04-18T00:43:54+02:00        UTF8 1902782634 1902782634 1902782634\n",
       "   Global Repeated View MultiPart         SourceName SourceCaslib Compressed\n",
       "1       0        0    0         0             D1.csv     mycaslib          0\n",
       "2       0        0    0         0             D2.csv     mycaslib          0\n",
       "3       0        0    0         0             D3.csv     mycaslib          0\n",
       "4       0        0    0         0              D.csv     mycaslib          0\n",
       "5       0        0    0         0              F.csv     mycaslib          0\n",
       "6       0        0    0         0              O.csv     mycaslib          0\n",
       "7       0        0    0         0              P.csv     mycaslib          0\n",
       "8       0        0    0         0             U1.csv     mycaslib          0\n",
       "9       0        0    0         0             U2.csv     mycaslib          0\n",
       "10      0        0    0         0             U3.csv     mycaslib          0\n",
       "11      0        0    0         0              Z.csv     mycaslib          0\n",
       "12      0        0    0         0  TablePaysZone.csv     mycaslib          0\n",
       "13      0        0    0         0 PlanAgregation.csv     mycaslib          0\n",
       "14      0        0    0         0                                          0\n",
       "15      0        0    0         0                                          0\n",
       "16      0        0    0         0                                          0\n",
       "17      0        0    0         0                                          0\n",
       "18      0        0    0         0                                          0\n",
       "19      0        0    0         0                                          0\n",
       "20      0        0    0         0                                          0\n",
       "   Creator Modifier    SourceModTimeFormatted SourceModTime\n",
       "1  sasdemo          2020-04-06T15:46:33+02:00    1901799993\n",
       "2  sasdemo          2020-04-06T15:46:51+02:00    1901800011\n",
       "3  sasdemo          2020-04-06T15:47:37+02:00    1901800057\n",
       "4  sasdemo          2020-04-06T15:49:03+02:00    1901800143\n",
       "5  sasdemo          2020-04-06T15:49:06+02:00    1901800146\n",
       "6  sasdemo          2020-04-06T15:50:16+02:00    1901800216\n",
       "7  sasdemo          2020-04-06T15:50:38+02:00    1901800238\n",
       "8  sasdemo          2020-04-06T15:51:17+02:00    1901800277\n",
       "9  sasdemo          2020-04-06T15:51:52+02:00    1901800312\n",
       "10 sasdemo          2020-04-06T15:52:09+02:00    1901800329\n",
       "11 sasdemo          2020-04-06T15:52:26+02:00    1901800346\n",
       "12 sasdemo          2020-04-07T08:51:52+02:00    1901861512\n",
       "13 sasdemo          2020-04-07T08:51:52+02:00    1901861512\n",
       "14 sasdemo                                              NaN\n",
       "15 sasdemo                                              NaN\n",
       "16 sasdemo          2020-04-18T00:16:45+02:00    1902781005\n",
       "17 sasdemo                                              NaN\n",
       "18 sasdemo                                              NaN\n",
       "19 sasdemo                                              NaN\n",
       "20 sasdemo                                              NaN\n"
      ]
     },
     "metadata": {},
     "output_type": "display_data"
    }
   ],
   "source": [
    "cas.table.tableInfo(conn,caslib=\"casuser\")"
   ]
  },
  {
   "cell_type": "code",
   "execution_count": null,
   "metadata": {},
   "outputs": [],
   "source": [
    "#tablepayszone <- defCasTable(conn, tablename='TABLEPAYSZONE', caslib='casuser')\n",
    "# Test simple de filtrage d'une table CAS\n",
    "#t2 <- tablepayszone[(tablepayszone$code_pays!='1A') | (tablepayszone$code_pays=='1B'),'code_pays']\n",
    "#names(tablepayszone)\n",
    "# La table t2 est une vue CAS executee au moment de la demande sur le serveur CAS\n",
    "#attributes(t2)\n",
    "#head(t2)\n",
    "#nrow(tablepayszone)"
   ]
  },
  {
   "cell_type": "markdown",
   "metadata": {},
   "source": [
    "## Concatenation totale de toutes les tables d'agregat en mémoire pour former une table nommee AGGTTECATEGORIE"
   ]
  },
  {
   "cell_type": "code",
   "execution_count": 295,
   "metadata": {
    "collapsed": true,
    "jupyter": {
     "outputs_hidden": true
    }
   },
   "outputs": [
    {
     "name": "stderr",
     "output_type": "stream",
     "text": [
      "NOTE: Executing action 'table.tableInfo'.\n",
      "NOTE: L'action 'table.tableInfo' a utilisé (Temps d'exécution total) :\n",
      "NOTE:       temps réel              0,002982 secondes\n",
      "NOTE:       temps UC                0,002584 secondes (86,65 %)\n",
      "NOTE:       total nodes             1 (8 cores)\n",
      "NOTE:       mémoire totale           31,26 Go\n",
      "NOTE:       mémoire                 733,25 Ko (0,00 %)\n",
      "NOTE: Executing action 'table.dropTable'.\n",
      "NOTE: L'action 'table.dropTable' a utilisé (Temps d'exécution total) :\n",
      "NOTE:       temps réel              0,001855 secondes\n",
      "NOTE:       temps UC                0,001289 secondes (69,49 %)\n",
      "NOTE:       total nodes             1 (8 cores)\n",
      "NOTE:       mémoire totale           31,26 Go\n",
      "NOTE:       mémoire                 299,41 Ko (0,00 %)\n",
      "NOTE: Executing action 'dataStep.runCode'.\n",
      "NOTE: L'action 'dataStep.runCode' a utilisé (Temps d'exécution total) :\n",
      "NOTE:       temps réel              0,197585 secondes\n",
      "NOTE:       temps UC                0,965543 secondes (488,67 %)\n",
      "NOTE:       total nodes             1 (8 cores)\n",
      "NOTE:       mémoire totale           31,26 Go\n",
      "NOTE:       mémoire                 24,90 Mo (0,08 %)\n",
      "NOTE: Executing action 'dataStep.runCode'.\n",
      "NOTE: L'action 'dataStep.runCode' a utilisé (Temps d'exécution total) :\n",
      "NOTE:       temps réel              0,132446 secondes\n",
      "NOTE:       temps UC                0,412585 secondes (311,51 %)\n",
      "NOTE:       total nodes             1 (8 cores)\n",
      "NOTE:       mémoire totale           31,26 Go\n",
      "NOTE:       mémoire                 5,84 Mo (0,02 %)\n",
      "NOTE: Executing action 'dataStep.runCode'.\n",
      "NOTE: L'action 'dataStep.runCode' a utilisé (Temps d'exécution total) :\n",
      "NOTE:       temps réel              0,208453 secondes\n",
      "NOTE:       temps UC                0,816977 secondes (391,92 %)\n",
      "NOTE:       total nodes             1 (8 cores)\n",
      "NOTE:       mémoire totale           31,26 Go\n",
      "NOTE:       mémoire                 5,44 Mo (0,02 %)\n",
      "NOTE: Executing action 'dataStep.runCode'.\n",
      "NOTE: L'action 'dataStep.runCode' a utilisé (Temps d'exécution total) :\n",
      "NOTE:       temps réel              0,250543 secondes\n",
      "NOTE:       temps UC                1,358461 secondes (542,21 %)\n",
      "NOTE:       total nodes             1 (8 cores)\n",
      "NOTE:       mémoire totale           31,26 Go\n",
      "NOTE:       mémoire                 5,46 Mo (0,02 %)\n",
      "NOTE: Executing action 'dataStep.runCode'.\n",
      "NOTE: L'action 'dataStep.runCode' a utilisé (Temps d'exécution total) :\n",
      "NOTE:       temps réel              0,076271 secondes\n",
      "NOTE:       temps UC                0,098778 secondes (129,51 %)\n",
      "NOTE:       total nodes             1 (8 cores)\n",
      "NOTE:       mémoire totale           31,26 Go\n",
      "NOTE:       mémoire                 4,84 Mo (0,02 %)\n",
      "NOTE: Executing action 'dataStep.runCode'.\n",
      "NOTE: L'action 'dataStep.runCode' a utilisé (Temps d'exécution total) :\n",
      "NOTE:       temps réel              0,263786 secondes\n",
      "NOTE:       temps UC                1,227238 secondes (465,24 %)\n",
      "NOTE:       total nodes             1 (8 cores)\n",
      "NOTE:       mémoire totale           31,26 Go\n",
      "NOTE:       mémoire                 5,85 Mo (0,02 %)\n",
      "NOTE: Executing action 'dataStep.runCode'.\n",
      "NOTE: L'action 'dataStep.runCode' a utilisé (Temps d'exécution total) :\n",
      "NOTE:       temps réel              0,121179 secondes\n",
      "NOTE:       temps UC                0,377509 secondes (311,53 %)\n",
      "NOTE:       total nodes             1 (8 cores)\n",
      "NOTE:       mémoire totale           31,26 Go\n",
      "NOTE:       mémoire                 5,46 Mo (0,02 %)\n",
      "NOTE: Executing action 'dataStep.runCode'.\n",
      "NOTE: L'action 'dataStep.runCode' a utilisé (Temps d'exécution total) :\n",
      "NOTE:       temps réel              0,131122 secondes\n",
      "NOTE:       temps UC                0,550462 secondes (419,81 %)\n",
      "NOTE:       total nodes             1 (8 cores)\n",
      "NOTE:       mémoire totale           31,26 Go\n",
      "NOTE:       mémoire                 5,27 Mo (0,02 %)\n",
      "NOTE: Executing action 'dataStep.runCode'.\n",
      "NOTE: L'action 'dataStep.runCode' a utilisé (Temps d'exécution total) :\n",
      "NOTE:       temps réel              0,130572 secondes\n",
      "NOTE:       temps UC                0,475875 secondes (364,45 %)\n",
      "NOTE:       total nodes             1 (8 cores)\n",
      "NOTE:       mémoire totale           31,26 Go\n",
      "NOTE:       mémoire                 5,27 Mo (0,02 %)\n",
      "NOTE: Executing action 'dataStep.runCode'.\n",
      "NOTE: L'action 'dataStep.runCode' a utilisé (Temps d'exécution total) :\n",
      "NOTE:       temps réel              0,054118 secondes\n",
      "NOTE:       temps UC                0,173489 secondes (320,58 %)\n",
      "NOTE:       total nodes             1 (8 cores)\n",
      "NOTE:       mémoire totale           31,26 Go\n",
      "NOTE:       mémoire                 5,31 Mo (0,02 %)\n",
      "NOTE: Executing action 'dataStep.runCode'.\n",
      "NOTE: L'action 'dataStep.runCode' a utilisé (Temps d'exécution total) :\n",
      "NOTE:       temps réel              0,066597 secondes\n",
      "NOTE:       temps UC                0,208533 secondes (313,13 %)\n",
      "NOTE:       total nodes             1 (8 cores)\n",
      "NOTE:       mémoire totale           31,26 Go\n",
      "NOTE:       mémoire                 6,83 Mo (0,02 %)\n",
      "NOTE: Executing action 'table.columnInfo'.\n",
      "NOTE: L'action 'table.columnInfo' a utilisé (Temps d'exécution total) :\n",
      "NOTE:       temps réel              0,003524 secondes\n",
      "NOTE:       temps UC                0,003125 secondes (88,68 %)\n",
      "NOTE:       total nodes             1 (8 cores)\n",
      "NOTE:       mémoire totale           31,26 Go\n",
      "NOTE:       mémoire                 850,56 Ko (0,00 %)\n",
      "NOTE: Executing action 'simple.numRows'.\n",
      "NOTE: L'action 'simple.numRows' a utilisé (Temps d'exécution total) :\n",
      "NOTE:       temps réel              0,004258 secondes\n",
      "NOTE:       temps UC                0,003207 secondes (75,32 %)\n",
      "NOTE:       total nodes             1 (8 cores)\n",
      "NOTE:       mémoire totale           31,26 Go\n",
      "NOTE:       mémoire                 464,09 Ko (0,00 %)\n"
     ]
    },
    {
     "data": {
      "text/html": [
       "1576201"
      ],
      "text/latex": [
       "1576201"
      ],
      "text/markdown": [
       "1576201"
      ],
      "text/plain": [
       "[1] 1576201"
      ]
     },
     "metadata": {},
     "output_type": "display_data"
    }
   ],
   "source": [
    "#cas.table.tableInfo(conn,caslib='casuser')$TableInfo[,c('Name','Rows')]\n",
    "cas_concat_all_tables(conn, \"casuser\",\"casuser\",\"AGGTTECATEGORIE\")\n",
    "table_AggregationMensuelleTouteCategorie <- defCasTable(conn, tablename='AGGTTECATEGORIE', caslib='casuser')\n",
    "nrow(table_AggregationMensuelleTouteCategorie)"
   ]
  },
  {
   "cell_type": "code",
   "execution_count": null,
   "metadata": {
    "jupyter": {
     "source_hidden": true
    }
   },
   "outputs": [],
   "source": [
    "\n",
    "sauvegarder_cas_table(conn, 'casuser', 'CONCAT_TAB', 'casuser','concat_tab.parquet')\n",
    "\n",
    "# Exemples d'utilisation des fonctions de base R profitant du moteur in-memory CAS\n",
    "\n",
    "cas.table.loadTable(conn, casout=list(caslib='casuser',name='CONCAT_TAB_PARQUET'), caslib='casuser', path='concat_tab.parquet')\n",
    "concat_tab_parquet <- defCasTable(conn, tablename='concat_tab_parquet', caslib = 'casuser')\n",
    "\n",
    "cas.table.loadTable(conn, casout=list(caslib='casuser',name='CONCAT_TAB_PARQUET'), caslib='casuser', path='concat_tab.parquet')\n",
    "\n",
    "summary(concat_tab_parquet)\n",
    "nrow(concat_tab_parquet)\n",
    "names(concat_tab_parquet)\n",
    "\n",
    "# Transfert CAS table and convert it to R data frame\n",
    "\n",
    "concat_tab_dt <- to.casDataFrame(concat_tab_parquet,obs=10000000)\n",
    "\n",
    "dim(concat_tab_dt)"
   ]
  },
  {
   "cell_type": "markdown",
   "metadata": {},
   "source": [
    "## Produire la repartition en nombre d'enregistrements par categorie a partir de l'agregation faite en memoire par le moteur CAS sur la table globale AGGTTECATEGORIE et la recuperation de ces agregat en entree de la fonction PIE de R"
   ]
  },
  {
   "cell_type": "code",
   "execution_count": 296,
   "metadata": {
    "collapsed": true,
    "jupyter": {
     "outputs_hidden": true
    }
   },
   "outputs": [
    {
     "name": "stderr",
     "output_type": "stream",
     "text": [
      "NOTE: Executing action 'simple.freq'.\n",
      "NOTE: L'action 'simple.freq' a utilisé (Temps d'exécution total) :\n",
      "NOTE:       temps réel              0,234174 secondes\n",
      "NOTE:       temps UC                1,343290 secondes (573,63 %)\n",
      "NOTE:       total nodes             1 (8 cores)\n",
      "NOTE:       mémoire totale           31,26 Go\n",
      "NOTE:       mémoire                 3,92 Mo (0,01 %)\n"
     ]
    },
    {
     "data": {
      "text/html": [
       "<strong>$OutputCasTables</strong> = <table>\n",
       "<thead><tr><th scope=col>casLib</th><th scope=col>Name</th><th scope=col>Rows</th><th scope=col>Columns</th></tr></thead>\n",
       "<tbody>\n",
       "\t<tr><td>CASUSER(sasdemo)    </td><td>AGGTTECATEGORIE_freq</td><td>11                  </td><td>5                   </td></tr>\n",
       "</tbody>\n",
       "</table>\n"
      ],
      "text/latex": [
       "\\textbf{\\$OutputCasTables} = \\begin{tabular}{r|llll}\n",
       " casLib & Name & Rows & Columns\\\\\n",
       "\\hline\n",
       "\t CASUSER(sasdemo)       & AGGTTECATEGORIE\\_freq & 11                     & 5                     \\\\\n",
       "\\end{tabular}\n"
      ],
      "text/markdown": [
       "**$OutputCasTables** = \n",
       "| casLib | Name | Rows | Columns |\n",
       "|---|---|---|---|\n",
       "| CASUSER(sasdemo)     | AGGTTECATEGORIE_freq | 11                   | 5                    |\n",
       "\n"
      ],
      "text/plain": [
       "$OutputCasTables\n",
       "            casLib                 Name Rows Columns\n",
       "1 CASUSER(sasdemo) AGGTTECATEGORIE_freq   11       5\n"
      ]
     },
     "metadata": {},
     "output_type": "display_data"
    },
    {
     "name": "stderr",
     "output_type": "stream",
     "text": [
      "NOTE: Executing action 'table.fetch'.\n",
      "NOTE: L'action 'table.fetch' a utilisé (Temps d'exécution total) :\n",
      "NOTE:       temps réel              0,007276 secondes\n",
      "NOTE:       temps UC                0,006586 secondes (90,52 %)\n",
      "NOTE:       total nodes             1 (8 cores)\n",
      "NOTE:       mémoire totale           31,26 Go\n",
      "NOTE:       mémoire                 2,15 Mo (0,01 %)\n"
     ]
    },
    {
     "name": "stdout",
     "output_type": "stream",
     "text": [
      "$Fetch\n",
      "   _Index_  _Column_ _Charvar_ _Fmtvar_ _Level_ _Frequency_\n",
      "1        1 tablename         D        D       7      320389\n",
      "2        2 tablename         O        O       5      283449\n",
      "3        3 tablename        D1       D1       9      216482\n",
      "4        4 tablename        D3       D3       4      181969\n",
      "5        5 tablename        U1       U1      11      148350\n",
      "6        6 tablename        U2       U2       1      133907\n",
      "7        7 tablename         P        P      10       95308\n",
      "8        8 tablename         Z        Z       3       64869\n",
      "9        9 tablename        D2       D2       8       64725\n",
      "10      10 tablename        U3       U3       2       60779\n",
      "11      11 tablename         F        F       6        5974\n",
      "\n"
     ]
    },
    {
     "data": {
      "image/png": "[encoded data removed]",
      "text/plain": [
       "Plot with title “Rows by table name”"
      ]
     },
     "metadata": {},
     "output_type": "display_data"
    }
   ],
   "source": [
    "cas.simple.freq(conn, inputs = c(\"tablename\"),table = c(name = \"AGGTTECATEGORIE\"),casout = c(name = \"AGGTTECATEGORIE_freq\", replace = TRUE)) \n",
    "res <- cas.table.fetch(conn, table = \"AGGTTECATEGORIE_freq\", sortBy = list(list(name = \"_Frequency_\",order = \"descending\")))\n",
    "print(res)\n",
    "piedata <- res$Fetch                                              # \n",
    "names(piedata) <- gsub(\"_\", \"\", names(piedata))\n",
    "piedata <- piedata[order(piedata$Frequency),]\n",
    "total <- sum(piedata$Frequency)\n",
    "piedata$Percent <- scales::percent(piedata$Frequency / total)\n",
    "fillcolors = c(\"#6F7EB3\", \"#D05B5B\", \"#66A5A0\", \"#A9865B\",\"#B689CD\", \"#BABC5C\")\n",
    "par(mar = c(3, 0, 1.5, 0), xpd=TRUE)\n",
    "pie(piedata$Frequency,labels = piedata$Percent, col=fillcolors, radius=0.85, clockwise=TRUE, init.angle=0, main=\"Rows by table name\")\n",
    "legend(x=-0.85, y=-1, horiz = FALSE, piedata$Charvar, fill = fillcolors, ncol=3)"
   ]
  },
  {
   "cell_type": "markdown",
   "metadata": {},
   "source": [
    "## Declaration des table CAS en tant qu'objet de type CASTable en R"
   ]
  },
  {
   "cell_type": "code",
   "execution_count": 297,
   "metadata": {
    "collapsed": true,
    "jupyter": {
     "outputs_hidden": true
    }
   },
   "outputs": [
    {
     "name": "stderr",
     "output_type": "stream",
     "text": [
      "NOTE: Executing action 'table.columnInfo'.\n",
      "NOTE: L'action 'table.columnInfo' a utilisé (Temps d'exécution total) :\n",
      "NOTE:       temps réel              0,002097 secondes\n",
      "NOTE:       temps UC                0,001765 secondes (84,17 %)\n",
      "NOTE:       total nodes             1 (8 cores)\n",
      "NOTE:       mémoire totale           31,26 Go\n",
      "NOTE:       mémoire                 851,25 Ko (0,00 %)\n",
      "NOTE: Executing action 'table.columnInfo'.\n",
      "NOTE: L'action 'table.columnInfo' a utilisé (Temps d'exécution total) :\n",
      "NOTE:       temps réel              0,001954 secondes\n",
      "NOTE:       temps UC                0,001669 secondes (85,41 %)\n",
      "NOTE:       total nodes             1 (8 cores)\n",
      "NOTE:       mémoire totale           31,26 Go\n",
      "NOTE:       mémoire                 861,81 Ko (0,00 %)\n",
      "NOTE: Executing action 'table.fetch'.\n",
      "NOTE: L'action 'table.fetch' a utilisé (Temps d'exécution total) :\n",
      "NOTE:       temps réel              0,003249 secondes\n",
      "NOTE:       temps UC                0,002941 secondes (90,52 %)\n",
      "NOTE:       total nodes             1 (8 cores)\n",
      "NOTE:       mémoire totale           31,26 Go\n",
      "NOTE:       mémoire                 1,02 Mo (0,00 %)\n"
     ]
    },
    {
     "data": {
      "text/html": [
       "<table>\n",
       "<thead><tr><th scope=col>code_pays</th><th scope=col>libelle</th><th scope=col>code_zone</th><th scope=col>Niveau</th><th scope=col>regle</th></tr></thead>\n",
       "<tbody>\n",
       "\t<tr><td>1A                               </td><td>International organisations      </td><td>1A                               </td><td>1                                </td><td>                                 </td></tr>\n",
       "\t<tr><td>1B                               </td><td>UN organisations                 </td><td>1B                               </td><td>1                                </td><td>                                 </td></tr>\n",
       "\t<tr><td>1C                               </td><td>IMF (International Monetary Fund)</td><td>1A                               </td><td>2                                </td><td>                                 </td></tr>\n",
       "\t<tr><td>1C                               </td><td>IMF (International Monetary Fund)</td><td>1B                               </td><td>2                                </td><td>                                 </td></tr>\n",
       "\t<tr><td>1C                               </td><td>IMF (International Monetary Fund)</td><td>9A                               </td><td>2                                </td><td>                                 </td></tr>\n",
       "\t<tr><td>1C                               </td><td>IMF (International Monetary Fund)</td><td>D4                               </td><td>2                                </td><td>                                 </td></tr>\n",
       "</tbody>\n",
       "</table>\n"
      ],
      "text/latex": [
       "\\begin{tabular}{r|lllll}\n",
       " code\\_pays & libelle & code\\_zone & Niveau & regle\\\\\n",
       "\\hline\n",
       "\t 1A                                & International organisations       & 1A                                & 1                                 &                                  \\\\\n",
       "\t 1B                                & UN organisations                  & 1B                                & 1                                 &                                  \\\\\n",
       "\t 1C                                & IMF (International Monetary Fund) & 1A                                & 2                                 &                                  \\\\\n",
       "\t 1C                                & IMF (International Monetary Fund) & 1B                                & 2                                 &                                  \\\\\n",
       "\t 1C                                & IMF (International Monetary Fund) & 9A                                & 2                                 &                                  \\\\\n",
       "\t 1C                                & IMF (International Monetary Fund) & D4                                & 2                                 &                                  \\\\\n",
       "\\end{tabular}\n"
      ],
      "text/markdown": [
       "\n",
       "| code_pays | libelle | code_zone | Niveau | regle |\n",
       "|---|---|---|---|---|\n",
       "| 1A                                | International organisations       | 1A                                | 1                                 |                                   |\n",
       "| 1B                                | UN organisations                  | 1B                                | 1                                 |                                   |\n",
       "| 1C                                | IMF (International Monetary Fund) | 1A                                | 2                                 |                                   |\n",
       "| 1C                                | IMF (International Monetary Fund) | 1B                                | 2                                 |                                   |\n",
       "| 1C                                | IMF (International Monetary Fund) | 9A                                | 2                                 |                                   |\n",
       "| 1C                                | IMF (International Monetary Fund) | D4                                | 2                                 |                                   |\n",
       "\n"
      ],
      "text/plain": [
       "  code_pays libelle                           code_zone Niveau regle\n",
       "1 1A        International organisations       1A        1           \n",
       "2 1B        UN organisations                  1B        1           \n",
       "3 1C        IMF (International Monetary Fund) 1A        2           \n",
       "4 1C        IMF (International Monetary Fund) 1B        2           \n",
       "5 1C        IMF (International Monetary Fund) 9A        2           \n",
       "6 1C        IMF (International Monetary Fund) D4        2           "
      ]
     },
     "metadata": {},
     "output_type": "display_data"
    },
    {
     "name": "stderr",
     "output_type": "stream",
     "text": [
      "NOTE: Executing action 'table.fetch'.\n",
      "NOTE: L'action 'table.fetch' a utilisé (Temps d'exécution total) :\n",
      "NOTE:       temps réel              0,009709 secondes\n",
      "NOTE:       temps UC                0,008754 secondes (90,16 %)\n",
      "NOTE:       total nodes             1 (8 cores)\n",
      "NOTE:       mémoire totale           31,26 Go\n",
      "NOTE:       mémoire                 1,21 Mo (0,00 %)\n"
     ]
    },
    {
     "data": {
      "text/html": [
       "<table>\n",
       "<thead><tr><th scope=col>code_sortie</th><th scope=col>code_entree_1</th><th scope=col>formule_1</th><th scope=col>code_entree_2</th><th scope=col>formule_2</th><th scope=col>code_entree_3</th><th scope=col>formule_3</th><th scope=col>code_entree_4</th><th scope=col>formule_4</th><th scope=col>code_entree_5</th><th scope=col>...</th><th scope=col>code_entree_16</th><th scope=col>formule_16</th><th scope=col>code_entree_17</th><th scope=col>formule_17</th><th scope=col>code_entree_18</th><th scope=col>formule_18</th><th scope=col>code_entree_19</th><th scope=col>formule_19</th><th scope=col>code_entree_20</th><th scope=col>formule_20</th></tr></thead>\n",
       "<tbody>\n",
       "\t<tr><td>_Z.N.FR.W1.S1.S1.T.B.D4P._T.F.T.EUR._T._Z.C._Z._Z._T.A  </td><td>_Z.N.FR.W1.S1.S1.T.B.D4P.D.F.T.EUR._T._Z.C._Z._Z._T.A   </td><td>1                                                       </td><td>_Z.N.FR.W1.S1.S1.T.B.D4P.P.F.T.EUR._T._Z.C._Z._Z._T.A   </td><td>1                                                       </td><td>_Z.N.FR.W1.S1.S1.T.B.D4P.O.F.T.EUR._T._Z.C._Z._Z._T.A   </td><td>1                                                       </td><td>_Z.N.FR.W1.S1._Z.T.B.D4P.R.F.T.EUR._T._Z.C._Z._Z._T.A   </td><td>1                                                       </td><td>                                                        </td><td>...                                                     </td><td>                                                        </td><td>                                                        </td><td>                                                        </td><td>                                                        </td><td>                                                        </td><td>                                                        </td><td>                                                        </td><td>                                                        </td><td>                                                        </td><td>                                                        </td></tr>\n",
       "\t<tr><td>_Z.N.FR._Z.S1.S1.T.C.D4P._T.F.T.EUR._T._Z.C._Z._Z._T.A  </td><td>_Z.N.FR._Z.S1.S1.T.C.D4P.D.F.T.EUR._T._Z.C._Z._Z._T.A   </td><td>1                                                       </td><td>_Z.N.FR._Z.S1.S1.T.C.D4P.P.F.T.EUR._T._Z.C._Z._Z._T.A   </td><td>1                                                       </td><td>_Z.N.FR._Z.S1.S1.T.C.D4P.O.F.T.EUR._T._Z.C._Z._Z._T.A   </td><td>1                                                       </td><td>_Z.N.FR._Z.S1._Z.T.C.D4P.R.F.T.EUR._T._Z.C._Z._Z._T.A   </td><td>1                                                       </td><td>                                                        </td><td>...                                                     </td><td>                                                        </td><td>                                                        </td><td>                                                        </td><td>                                                        </td><td>                                                        </td><td>                                                        </td><td>                                                        </td><td>                                                        </td><td>                                                        </td><td>                                                        </td></tr>\n",
       "\t<tr><td>_Z.N.FR.W1.S1.S1.T.D.D4P._T.F.T.EUR._T._Z.C._Z._Z._T.A  </td><td>_Z.N.FR.W1.S1.S1.T.D.D4P.D.F.T.EUR._T._Z.C._Z._Z._T.A   </td><td>1                                                       </td><td>_Z.N.FR.W1.S1.S1.T.D.D4P.P.F.T.EUR._T._Z.C._Z._Z._T.A   </td><td>1                                                       </td><td>_Z.N.FR.W1.S1.S1.T.D.D4P.O.F.T.EUR._T._Z.C._Z._Z._T.A   </td><td>1                                                       </td><td>_Z.N.FR.W1.S1._Z.T.D.D4P.R.F.T.EUR._T._Z.C._Z._Z._T.A   </td><td>1                                                       </td><td>                                                        </td><td>...                                                     </td><td>                                                        </td><td>                                                        </td><td>                                                        </td><td>                                                        </td><td>                                                        </td><td>                                                        </td><td>                                                        </td><td>                                                        </td><td>                                                        </td><td>                                                        </td></tr>\n",
       "\t<tr><td>_Z.N.FR.W1.S121.S1.T.B.D4P._T.F.T.EUR._T._Z.C._Z._Z._T.A</td><td>_Z.N.FR.W1.S121.S1.T.B.D4P.D.F.T.EUR._T._Z.C._Z._Z._T.A </td><td>1                                                       </td><td>_Z.N.FR.W1.S121.S1.T.B.D4P.P.F.T.EUR._T._Z.C._Z._Z._T.A </td><td>1                                                       </td><td>_Z.N.FR.W1.S121.S1.T.B.D4P.O.F.T.EUR._T._Z.C._Z._Z._T.A </td><td>1                                                       </td><td>_Z.N.FR.W1.S121._Z.T.B.D4P.R.F.T.EUR._T._Z.C._Z._Z._T.A </td><td>1                                                       </td><td>                                                        </td><td>...                                                     </td><td>                                                        </td><td>                                                        </td><td>                                                        </td><td>                                                        </td><td>                                                        </td><td>                                                        </td><td>                                                        </td><td>                                                        </td><td>                                                        </td><td>                                                        </td></tr>\n",
       "\t<tr><td>_Z.N.FR._Z.S121.S1.T.C.D4P._T.F.T.EUR._T._Z.C._Z._Z._T.A</td><td>_Z.N.FR._Z.S121.S1.T.C.D4P.D.F.T.EUR._T._Z.C._Z._Z._T.A </td><td>1                                                       </td><td>_Z.N.FR._Z.S121.S1.T.C.D4P.P.F.T.EUR._T._Z.C._Z._Z._T.A </td><td>1                                                       </td><td>_Z.N.FR._Z.S121.S1.T.C.D4P.O.F.T.EUR._T._Z.C._Z._Z._T.A </td><td>1                                                       </td><td>_Z.N.FR._Z.S121._Z.T.C.D4P.R.F.T.EUR._T._Z.C._Z._Z._T.A </td><td>1                                                       </td><td>                                                        </td><td>...                                                     </td><td>                                                        </td><td>                                                        </td><td>                                                        </td><td>                                                        </td><td>                                                        </td><td>                                                        </td><td>                                                        </td><td>                                                        </td><td>                                                        </td><td>                                                        </td></tr>\n",
       "\t<tr><td>_Z.N.FR.W1.S121.S1.T.D.D4P._T.F.T.EUR._T._Z.C._Z._Z._T.A</td><td>_Z.N.FR.W1.S121.S1.T.D.D4P.D.F.T.EUR._T._Z.C._Z._Z._T.A </td><td>1                                                       </td><td>_Z.N.FR.W1.S121.S1.T.D.D4P.P.F.T.EUR._T._Z.C._Z._Z._T.A </td><td>1                                                       </td><td>_Z.N.FR.W1.S121.S1.T.D.D4P.O.F.T.EUR._T._Z.C._Z._Z._T.A </td><td>1                                                       </td><td>_Z.N.FR.W1.S121._Z.T.D.D4P.R.F.T.EUR._T._Z.C._Z._Z._T.A </td><td>1                                                       </td><td>                                                        </td><td>...                                                     </td><td>                                                        </td><td>                                                        </td><td>                                                        </td><td>                                                        </td><td>                                                        </td><td>                                                        </td><td>                                                        </td><td>                                                        </td><td>                                                        </td><td>                                                        </td></tr>\n",
       "</tbody>\n",
       "</table>\n"
      ],
      "text/latex": [
       "\\begin{tabular}{r|lllllllllllllllllllllllllllllllllllllllll}\n",
       " code\\_sortie & code\\_entree\\_1 & formule\\_1 & code\\_entree\\_2 & formule\\_2 & code\\_entree\\_3 & formule\\_3 & code\\_entree\\_4 & formule\\_4 & code\\_entree\\_5 & ... & code\\_entree\\_16 & formule\\_16 & code\\_entree\\_17 & formule\\_17 & code\\_entree\\_18 & formule\\_18 & code\\_entree\\_19 & formule\\_19 & code\\_entree\\_20 & formule\\_20\\\\\n",
       "\\hline\n",
       "\t \\_Z.N.FR.W1.S1.S1.T.B.D4P.\\_T.F.T.EUR.\\_T.\\_Z.C.\\_Z.\\_Z.\\_T.A   & \\_Z.N.FR.W1.S1.S1.T.B.D4P.D.F.T.EUR.\\_T.\\_Z.C.\\_Z.\\_Z.\\_T.A      & 1                                                                      & \\_Z.N.FR.W1.S1.S1.T.B.D4P.P.F.T.EUR.\\_T.\\_Z.C.\\_Z.\\_Z.\\_T.A      & 1                                                                      & \\_Z.N.FR.W1.S1.S1.T.B.D4P.O.F.T.EUR.\\_T.\\_Z.C.\\_Z.\\_Z.\\_T.A      & 1                                                                      & \\_Z.N.FR.W1.S1.\\_Z.T.B.D4P.R.F.T.EUR.\\_T.\\_Z.C.\\_Z.\\_Z.\\_T.A    & 1                                                                      &                                                                        & ...                                                                    &                                                                        &                                                                        &                                                                        &                                                                        &                                                                        &                                                                        &                                                                        &                                                                        &                                                                        &                                                                       \\\\\n",
       "\t \\_Z.N.FR.\\_Z.S1.S1.T.C.D4P.\\_T.F.T.EUR.\\_T.\\_Z.C.\\_Z.\\_Z.\\_T.A   & \\_Z.N.FR.\\_Z.S1.S1.T.C.D4P.D.F.T.EUR.\\_T.\\_Z.C.\\_Z.\\_Z.\\_T.A      & 1                                                                        & \\_Z.N.FR.\\_Z.S1.S1.T.C.D4P.P.F.T.EUR.\\_T.\\_Z.C.\\_Z.\\_Z.\\_T.A      & 1                                                                        & \\_Z.N.FR.\\_Z.S1.S1.T.C.D4P.O.F.T.EUR.\\_T.\\_Z.C.\\_Z.\\_Z.\\_T.A      & 1                                                                        & \\_Z.N.FR.\\_Z.S1.\\_Z.T.C.D4P.R.F.T.EUR.\\_T.\\_Z.C.\\_Z.\\_Z.\\_T.A    & 1                                                                        &                                                                          & ...                                                                      &                                                                          &                                                                          &                                                                          &                                                                          &                                                                          &                                                                          &                                                                          &                                                                          &                                                                          &                                                                         \\\\\n",
       "\t \\_Z.N.FR.W1.S1.S1.T.D.D4P.\\_T.F.T.EUR.\\_T.\\_Z.C.\\_Z.\\_Z.\\_T.A   & \\_Z.N.FR.W1.S1.S1.T.D.D4P.D.F.T.EUR.\\_T.\\_Z.C.\\_Z.\\_Z.\\_T.A      & 1                                                                      & \\_Z.N.FR.W1.S1.S1.T.D.D4P.P.F.T.EUR.\\_T.\\_Z.C.\\_Z.\\_Z.\\_T.A      & 1                                                                      & \\_Z.N.FR.W1.S1.S1.T.D.D4P.O.F.T.EUR.\\_T.\\_Z.C.\\_Z.\\_Z.\\_T.A      & 1                                                                      & \\_Z.N.FR.W1.S1.\\_Z.T.D.D4P.R.F.T.EUR.\\_T.\\_Z.C.\\_Z.\\_Z.\\_T.A    & 1                                                                      &                                                                        & ...                                                                    &                                                                        &                                                                        &                                                                        &                                                                        &                                                                        &                                                                        &                                                                        &                                                                        &                                                                        &                                                                       \\\\\n",
       "\t \\_Z.N.FR.W1.S121.S1.T.B.D4P.\\_T.F.T.EUR.\\_T.\\_Z.C.\\_Z.\\_Z.\\_T.A & \\_Z.N.FR.W1.S121.S1.T.B.D4P.D.F.T.EUR.\\_T.\\_Z.C.\\_Z.\\_Z.\\_T.A    & 1                                                                      & \\_Z.N.FR.W1.S121.S1.T.B.D4P.P.F.T.EUR.\\_T.\\_Z.C.\\_Z.\\_Z.\\_T.A    & 1                                                                      & \\_Z.N.FR.W1.S121.S1.T.B.D4P.O.F.T.EUR.\\_T.\\_Z.C.\\_Z.\\_Z.\\_T.A    & 1                                                                      & \\_Z.N.FR.W1.S121.\\_Z.T.B.D4P.R.F.T.EUR.\\_T.\\_Z.C.\\_Z.\\_Z.\\_T.A  & 1                                                                      &                                                                        & ...                                                                    &                                                                        &                                                                        &                                                                        &                                                                        &                                                                        &                                                                        &                                                                        &                                                                        &                                                                        &                                                                       \\\\\n",
       "\t \\_Z.N.FR.\\_Z.S121.S1.T.C.D4P.\\_T.F.T.EUR.\\_T.\\_Z.C.\\_Z.\\_Z.\\_T.A & \\_Z.N.FR.\\_Z.S121.S1.T.C.D4P.D.F.T.EUR.\\_T.\\_Z.C.\\_Z.\\_Z.\\_T.A    & 1                                                                        & \\_Z.N.FR.\\_Z.S121.S1.T.C.D4P.P.F.T.EUR.\\_T.\\_Z.C.\\_Z.\\_Z.\\_T.A    & 1                                                                        & \\_Z.N.FR.\\_Z.S121.S1.T.C.D4P.O.F.T.EUR.\\_T.\\_Z.C.\\_Z.\\_Z.\\_T.A    & 1                                                                        & \\_Z.N.FR.\\_Z.S121.\\_Z.T.C.D4P.R.F.T.EUR.\\_T.\\_Z.C.\\_Z.\\_Z.\\_T.A  & 1                                                                        &                                                                          & ...                                                                      &                                                                          &                                                                          &                                                                          &                                                                          &                                                                          &                                                                          &                                                                          &                                                                          &                                                                          &                                                                         \\\\\n",
       "\t \\_Z.N.FR.W1.S121.S1.T.D.D4P.\\_T.F.T.EUR.\\_T.\\_Z.C.\\_Z.\\_Z.\\_T.A & \\_Z.N.FR.W1.S121.S1.T.D.D4P.D.F.T.EUR.\\_T.\\_Z.C.\\_Z.\\_Z.\\_T.A    & 1                                                                      & \\_Z.N.FR.W1.S121.S1.T.D.D4P.P.F.T.EUR.\\_T.\\_Z.C.\\_Z.\\_Z.\\_T.A    & 1                                                                      & \\_Z.N.FR.W1.S121.S1.T.D.D4P.O.F.T.EUR.\\_T.\\_Z.C.\\_Z.\\_Z.\\_T.A    & 1                                                                      & \\_Z.N.FR.W1.S121.\\_Z.T.D.D4P.R.F.T.EUR.\\_T.\\_Z.C.\\_Z.\\_Z.\\_T.A  & 1                                                                      &                                                                        & ...                                                                    &                                                                        &                                                                        &                                                                        &                                                                        &                                                                        &                                                                        &                                                                        &                                                                        &                                                                        &                                                                       \\\\\n",
       "\\end{tabular}\n"
      ],
      "text/markdown": [
       "\n",
       "| code_sortie | code_entree_1 | formule_1 | code_entree_2 | formule_2 | code_entree_3 | formule_3 | code_entree_4 | formule_4 | code_entree_5 | ... | code_entree_16 | formule_16 | code_entree_17 | formule_17 | code_entree_18 | formule_18 | code_entree_19 | formule_19 | code_entree_20 | formule_20 |\n",
       "|---|---|---|---|---|---|---|---|---|---|---|---|---|---|---|---|---|---|---|---|---|\n",
       "| _Z.N.FR.W1.S1.S1.T.B.D4P._T.F.T.EUR._T._Z.C._Z._Z._T.A   | _Z.N.FR.W1.S1.S1.T.B.D4P.D.F.T.EUR._T._Z.C._Z._Z._T.A    | 1                                                        | _Z.N.FR.W1.S1.S1.T.B.D4P.P.F.T.EUR._T._Z.C._Z._Z._T.A    | 1                                                        | _Z.N.FR.W1.S1.S1.T.B.D4P.O.F.T.EUR._T._Z.C._Z._Z._T.A    | 1                                                        | _Z.N.FR.W1.S1._Z.T.B.D4P.R.F.T.EUR._T._Z.C._Z._Z._T.A    | 1                                                        |                                                          | ...                                                      |                                                          |                                                          |                                                          |                                                          |                                                          |                                                          |                                                          |                                                          |                                                          |                                                          |\n",
       "| _Z.N.FR._Z.S1.S1.T.C.D4P._T.F.T.EUR._T._Z.C._Z._Z._T.A   | _Z.N.FR._Z.S1.S1.T.C.D4P.D.F.T.EUR._T._Z.C._Z._Z._T.A    | 1                                                        | _Z.N.FR._Z.S1.S1.T.C.D4P.P.F.T.EUR._T._Z.C._Z._Z._T.A    | 1                                                        | _Z.N.FR._Z.S1.S1.T.C.D4P.O.F.T.EUR._T._Z.C._Z._Z._T.A    | 1                                                        | _Z.N.FR._Z.S1._Z.T.C.D4P.R.F.T.EUR._T._Z.C._Z._Z._T.A    | 1                                                        |                                                          | ...                                                      |                                                          |                                                          |                                                          |                                                          |                                                          |                                                          |                                                          |                                                          |                                                          |                                                          |\n",
       "| _Z.N.FR.W1.S1.S1.T.D.D4P._T.F.T.EUR._T._Z.C._Z._Z._T.A   | _Z.N.FR.W1.S1.S1.T.D.D4P.D.F.T.EUR._T._Z.C._Z._Z._T.A    | 1                                                        | _Z.N.FR.W1.S1.S1.T.D.D4P.P.F.T.EUR._T._Z.C._Z._Z._T.A    | 1                                                        | _Z.N.FR.W1.S1.S1.T.D.D4P.O.F.T.EUR._T._Z.C._Z._Z._T.A    | 1                                                        | _Z.N.FR.W1.S1._Z.T.D.D4P.R.F.T.EUR._T._Z.C._Z._Z._T.A    | 1                                                        |                                                          | ...                                                      |                                                          |                                                          |                                                          |                                                          |                                                          |                                                          |                                                          |                                                          |                                                          |                                                          |\n",
       "| _Z.N.FR.W1.S121.S1.T.B.D4P._T.F.T.EUR._T._Z.C._Z._Z._T.A | _Z.N.FR.W1.S121.S1.T.B.D4P.D.F.T.EUR._T._Z.C._Z._Z._T.A  | 1                                                        | _Z.N.FR.W1.S121.S1.T.B.D4P.P.F.T.EUR._T._Z.C._Z._Z._T.A  | 1                                                        | _Z.N.FR.W1.S121.S1.T.B.D4P.O.F.T.EUR._T._Z.C._Z._Z._T.A  | 1                                                        | _Z.N.FR.W1.S121._Z.T.B.D4P.R.F.T.EUR._T._Z.C._Z._Z._T.A  | 1                                                        |                                                          | ...                                                      |                                                          |                                                          |                                                          |                                                          |                                                          |                                                          |                                                          |                                                          |                                                          |                                                          |\n",
       "| _Z.N.FR._Z.S121.S1.T.C.D4P._T.F.T.EUR._T._Z.C._Z._Z._T.A | _Z.N.FR._Z.S121.S1.T.C.D4P.D.F.T.EUR._T._Z.C._Z._Z._T.A  | 1                                                        | _Z.N.FR._Z.S121.S1.T.C.D4P.P.F.T.EUR._T._Z.C._Z._Z._T.A  | 1                                                        | _Z.N.FR._Z.S121.S1.T.C.D4P.O.F.T.EUR._T._Z.C._Z._Z._T.A  | 1                                                        | _Z.N.FR._Z.S121._Z.T.C.D4P.R.F.T.EUR._T._Z.C._Z._Z._T.A  | 1                                                        |                                                          | ...                                                      |                                                          |                                                          |                                                          |                                                          |                                                          |                                                          |                                                          |                                                          |                                                          |                                                          |\n",
       "| _Z.N.FR.W1.S121.S1.T.D.D4P._T.F.T.EUR._T._Z.C._Z._Z._T.A | _Z.N.FR.W1.S121.S1.T.D.D4P.D.F.T.EUR._T._Z.C._Z._Z._T.A  | 1                                                        | _Z.N.FR.W1.S121.S1.T.D.D4P.P.F.T.EUR._T._Z.C._Z._Z._T.A  | 1                                                        | _Z.N.FR.W1.S121.S1.T.D.D4P.O.F.T.EUR._T._Z.C._Z._Z._T.A  | 1                                                        | _Z.N.FR.W1.S121._Z.T.D.D4P.R.F.T.EUR._T._Z.C._Z._Z._T.A  | 1                                                        |                                                          | ...                                                      |                                                          |                                                          |                                                          |                                                          |                                                          |                                                          |                                                          |                                                          |                                                          |                                                          |\n",
       "\n"
      ],
      "text/plain": [
       "  code_sortie                                             \n",
       "1 _Z.N.FR.W1.S1.S1.T.B.D4P._T.F.T.EUR._T._Z.C._Z._Z._T.A  \n",
       "2 _Z.N.FR._Z.S1.S1.T.C.D4P._T.F.T.EUR._T._Z.C._Z._Z._T.A  \n",
       "3 _Z.N.FR.W1.S1.S1.T.D.D4P._T.F.T.EUR._T._Z.C._Z._Z._T.A  \n",
       "4 _Z.N.FR.W1.S121.S1.T.B.D4P._T.F.T.EUR._T._Z.C._Z._Z._T.A\n",
       "5 _Z.N.FR._Z.S121.S1.T.C.D4P._T.F.T.EUR._T._Z.C._Z._Z._T.A\n",
       "6 _Z.N.FR.W1.S121.S1.T.D.D4P._T.F.T.EUR._T._Z.C._Z._Z._T.A\n",
       "  code_entree_1                                           formule_1\n",
       "1 _Z.N.FR.W1.S1.S1.T.B.D4P.D.F.T.EUR._T._Z.C._Z._Z._T.A   1        \n",
       "2 _Z.N.FR._Z.S1.S1.T.C.D4P.D.F.T.EUR._T._Z.C._Z._Z._T.A   1        \n",
       "3 _Z.N.FR.W1.S1.S1.T.D.D4P.D.F.T.EUR._T._Z.C._Z._Z._T.A   1        \n",
       "4 _Z.N.FR.W1.S121.S1.T.B.D4P.D.F.T.EUR._T._Z.C._Z._Z._T.A 1        \n",
       "5 _Z.N.FR._Z.S121.S1.T.C.D4P.D.F.T.EUR._T._Z.C._Z._Z._T.A 1        \n",
       "6 _Z.N.FR.W1.S121.S1.T.D.D4P.D.F.T.EUR._T._Z.C._Z._Z._T.A 1        \n",
       "  code_entree_2                                           formule_2\n",
       "1 _Z.N.FR.W1.S1.S1.T.B.D4P.P.F.T.EUR._T._Z.C._Z._Z._T.A   1        \n",
       "2 _Z.N.FR._Z.S1.S1.T.C.D4P.P.F.T.EUR._T._Z.C._Z._Z._T.A   1        \n",
       "3 _Z.N.FR.W1.S1.S1.T.D.D4P.P.F.T.EUR._T._Z.C._Z._Z._T.A   1        \n",
       "4 _Z.N.FR.W1.S121.S1.T.B.D4P.P.F.T.EUR._T._Z.C._Z._Z._T.A 1        \n",
       "5 _Z.N.FR._Z.S121.S1.T.C.D4P.P.F.T.EUR._T._Z.C._Z._Z._T.A 1        \n",
       "6 _Z.N.FR.W1.S121.S1.T.D.D4P.P.F.T.EUR._T._Z.C._Z._Z._T.A 1        \n",
       "  code_entree_3                                           formule_3\n",
       "1 _Z.N.FR.W1.S1.S1.T.B.D4P.O.F.T.EUR._T._Z.C._Z._Z._T.A   1        \n",
       "2 _Z.N.FR._Z.S1.S1.T.C.D4P.O.F.T.EUR._T._Z.C._Z._Z._T.A   1        \n",
       "3 _Z.N.FR.W1.S1.S1.T.D.D4P.O.F.T.EUR._T._Z.C._Z._Z._T.A   1        \n",
       "4 _Z.N.FR.W1.S121.S1.T.B.D4P.O.F.T.EUR._T._Z.C._Z._Z._T.A 1        \n",
       "5 _Z.N.FR._Z.S121.S1.T.C.D4P.O.F.T.EUR._T._Z.C._Z._Z._T.A 1        \n",
       "6 _Z.N.FR.W1.S121.S1.T.D.D4P.O.F.T.EUR._T._Z.C._Z._Z._T.A 1        \n",
       "  code_entree_4                                           formule_4\n",
       "1 _Z.N.FR.W1.S1._Z.T.B.D4P.R.F.T.EUR._T._Z.C._Z._Z._T.A   1        \n",
       "2 _Z.N.FR._Z.S1._Z.T.C.D4P.R.F.T.EUR._T._Z.C._Z._Z._T.A   1        \n",
       "3 _Z.N.FR.W1.S1._Z.T.D.D4P.R.F.T.EUR._T._Z.C._Z._Z._T.A   1        \n",
       "4 _Z.N.FR.W1.S121._Z.T.B.D4P.R.F.T.EUR._T._Z.C._Z._Z._T.A 1        \n",
       "5 _Z.N.FR._Z.S121._Z.T.C.D4P.R.F.T.EUR._T._Z.C._Z._Z._T.A 1        \n",
       "6 _Z.N.FR.W1.S121._Z.T.D.D4P.R.F.T.EUR._T._Z.C._Z._Z._T.A 1        \n",
       "  code_entree_5 ... code_entree_16 formule_16 code_entree_17 formule_17\n",
       "1               ...                                                    \n",
       "2               ...                                                    \n",
       "3               ...                                                    \n",
       "4               ...                                                    \n",
       "5               ...                                                    \n",
       "6               ...                                                    \n",
       "  code_entree_18 formule_18 code_entree_19 formule_19 code_entree_20 formule_20\n",
       "1                                                                              \n",
       "2                                                                              \n",
       "3                                                                              \n",
       "4                                                                              \n",
       "5                                                                              \n",
       "6                                                                              "
      ]
     },
     "metadata": {},
     "output_type": "display_data"
    }
   ],
   "source": [
    "table_pays_zone <- defCasTable(conn, tablename='TABLEPAYSZONE', caslib='casuser')\n",
    "table_planAggregation <- defCasTable(conn, tablename='PLANAGREGATION', caslib='casuser')\n",
    "head(table_pays_zone)\n",
    "head(table_planAggregation)"
   ]
  },
  {
   "cell_type": "markdown",
   "metadata": {},
   "source": [
    "# Code principal basé sur le programme R existant"
   ]
  },
  {
   "cell_type": "markdown",
   "metadata": {},
   "source": [
    "## Fonction de traitement principal"
   ]
  },
  {
   "cell_type": "code",
   "execution_count": 302,
   "metadata": {},
   "outputs": [],
   "source": [
    "traitement_principal <- function(freq, RevFin, PeriodeFin, planAggregation,ReferencePiZones, Repertoire, ConnectionSecureDB)\n",
    "{\n",
    "  Frequence <- freq\n",
    "  HeureDebut <- Sys.time()\n",
    "  An = as.numeric(ExtractString(PeriodeFin, 1, 4))\n",
    "  print(\"ETAPE DATA: LECTURE TABLE PI_ZONE\")\n",
    "  print(Sys.time())\n",
    "  TablePiZone <- recuperation_traitement_table_code_pays(ReferencePiZones, ConnectionSecureDB)\n",
    "  #return(TablePiZone)\n",
    "  print(\" TAILLE TABLE TablePaysZone\")\n",
    "  print(dim(TablePiZone))\n",
    "  print(Sys.time())\n",
    "  print(\"LECTURE ET MISE EN FORME DES FICHIERS D'AGGREGATION CODE SERIE\")\n",
    "  print(Sys.time())\n",
    "  # planAggregation <- \"PlanAggregation.csv\"\n",
    "  planAgregationCodeSerie <- lecture_fichier_aggregation_codeSerie(planAggregation, connectionSecureDB)\n",
    "  # # write_delim(planAgregationCodeSerie, \"planAgregationCodeSerie.csv\", delim=\";\")\n",
    "  print(\" TAILLE TABLE planAgregationCodeSerie\")\n",
    "  print(dim(planAgregationCodeSerie))\n",
    "  print(Sys.time())\n",
    "  print(\"JOINTURE PLAN D'AGGREGATION\")\n",
    "  PlanAggregationParametre <- parametrage_aggregation_code_serie(planAgregationCodeSerie, TablePiZone, freq)\n",
    "  # # write_delim(PlanAggregationParametre, \"PlanAggregationParametre.csv\", delim=\";\")\n",
    "  print(\"Taille plan d'agregation\")\n",
    "  print(dim(PlanAggregationParametre))\n",
    "\n",
    "  # Ecriture du dataframe de sortie en table CAS pour les futures jointures\n",
    "  PlanAggregationParametreCAS <- as.casTable(conn, PlanAggregationParametre,'PLANAGGPARAM')\n",
    "  print(dim(PlanAggregationParametreCAS))\n",
    "    \n",
    "  print(\"ESTIMATION NOMBRE DE PERIODE ET DE DEBUT DE TRAITEMENT\")\n",
    "  result_nbperiode_moisdebut <- detection_nbPeriode_moisDebut(freq, RevFin, PeriodeFin)\n",
    "  NbrePeriode <- result_nbperiode_moisdebut$nbper\n",
    "  MoisDebut <- as.numeric(result_nbperiode_moisdebut$moisDebut)\n",
    "  print(MoisDebut)\n",
    "  \n",
    "  rm(result_nbperiode_moisdebut)\n",
    "  \n",
    "  print(\"BOUCLE DU LES MOIS\")\n",
    "\n",
    " # On supprime la table d'agregat finale si elle existe avant de la reconstruire de la boucle mensuelle suivante   \n",
    " cas.table.dropTable(conn, caslib='casuser', name='AGG_FINALE', quiet=TRUE)\n",
    "    \n",
    "  for(mois in MoisDebut:(MoisDebut+NbrePeriode-1))\n",
    "  {\n",
    "     print(paste0(\"     Mois debut \", MoisDebut))\n",
    "     print(paste0(\"     Mois fin \", (MoisDebut+NbrePeriode-1)))\n",
    "     print(paste0(\"     Mois en cours de traitement: \", mois))\n",
    "     \n",
    "     print(Sys.time())\n",
    "     \n",
    "     print(\"                      lecture\")\n",
    "\n",
    "     AggregationMensuelleTouteCategorie <- lecture_tables_aggregation(freq, Mois, RevFin, PeriodeFin, Repertoire, ConnectionSecureDB,'AGGTTECATEGORIE','AGG_MENS_TEMP')\n",
    "     print(\"Taille table d'agregation\")\n",
    "     print(dim(AggregationMensuelleTouteCategorie))\n",
    "     print(names(AggregationMensuelleTouteCategorie))\n",
    "      \n",
    "     TableIdMixte <- lecture_tables_mixte(freq, Mois, RevFin, PeriodeFin, Repertoire, ConnectionSecureDB,'AGGTTECATEGORIE','AGG_MIXTE')\n",
    "     print(dim(TableIdMixte))\n",
    "     print(names(TableIdMixte))\n",
    "     print(Sys.time())\n",
    "     \n",
    "     print(\"PARAMETRAGE CODE SERIE\") \n",
    "     \n",
    "     print(\"APPLICATION PARAMETRAGE CODE SERIE\") \n",
    "     \n",
    "     AggregationCodeSerieFinaleMensuelle <- application_plan_parametrage_aggregation_code_serie_mensuel('AGG_MENS_TEMP', 'PLANAGGPARAM', ConnectionSecureDB,'AGG_MENS')\n",
    "     print(names(AggregationCodeSerieFinaleMensuelle))\n",
    "      \n",
    "     # On ajoute la table mensuelle à la table globale finale\n",
    "     cas_append2tables(conn, 'casuser', 'AGG_MENS', 'casuser', 'AGG_FINALE')\n",
    "  }\n",
    "  \n",
    "  #   \n",
    "  #   # Use write_delim to compare it to pandas\n",
    "  #   # write_delim(AggregationCodeSerieFinaleMensuelle,\"AggregationCodeSerieFinaleMensuelle.csv\", delim=\";\")\n",
    "  #   \n",
    "  #   print(\"Taille AggregationCodeSerieFinaleMensuelle\")\n",
    "  #   print(dim(AggregationCodeSerieFinaleMensuelle))\n",
    "  #   print(Sys.time())\n",
    "  #   print(\"SAUVEGARDE DE LA TABLE SORTIE FINALE\") \n",
    "  #   TableASauvegarder <-\n",
    "  #     sauvegarde_donnees_par_categorie_fonctionnelle_et_par_aggregation_code_serie(\n",
    "  #       AggregationCodeSerieFinaleMensuelle,\n",
    "  #       AggregationMensuelleTouteCategorie,\n",
    "  #       TableIdMixte, Freq, Mois, RevFin, An)\n",
    "  #   \n",
    "  #   print(\"FIN DE LA SAUVEGARDE DE LA TABLE SORTIE FINALE\")\n",
    "  #   print(Sys.time())\n",
    "  #   print(\"DEBUT DE L'ECRITURE\")\n",
    "  #   \n",
    "  #   # Use write_delim to compare it to pandas\n",
    "  #   write_delim(TableASauvegarder, 'TableASauvegarder.csv', delim=\";\")\n",
    "  #   \n",
    "  #   print(\"Fin ecriture table finale\")\n",
    "  #   print(Sys.time())\n",
    "  #   \n",
    "  #   print(summary(TableASauvegarder))\n",
    "  #   \n",
    "  #   return(TableASauvegarder)\n",
    "}"
   ]
  },
  {
   "cell_type": "markdown",
   "metadata": {},
   "source": [
    "## Test"
   ]
  },
  {
   "cell_type": "code",
   "execution_count": 306,
   "metadata": {},
   "outputs": [
    {
     "name": "stdout",
     "output_type": "stream",
     "text": [
      "[1] \"ETAPE DATA: LECTURE TABLE PI_ZONE\"\n",
      "[1] \"2020-04-18 00:41:00 CEST\"\n",
      "[1] \"recuperation_traitement_table_code_pays monostream\"\n",
      "[1] \"2020-04-18 00:41:00 CEST\"\n"
     ]
    },
    {
     "name": "stderr",
     "output_type": "stream",
     "text": [
      "NOTE: Executing action 'table.fetch'.\n",
      "NOTE: L'action 'table.fetch' a utilisé (Temps d'exécution total) :\n",
      "NOTE:       temps réel              0,242497 secondes\n",
      "NOTE:       temps UC                0,223621 secondes (92,22 %)\n",
      "NOTE:       total nodes             1 (8 cores)\n",
      "NOTE:       mémoire totale           31,26 Go\n",
      "NOTE:       mémoire                 1,46 Mo (0,00 %)\n",
      "Column 1 ['code_zone'] of item 2 is missing in item 1. Use fill=TRUE to fill with NA (NULL for list columns), or use.names=FALSE to ignore column names. use.names='check' (default from v1.12.2) emits this message and proceeds as if use.names=FALSE for  backwards compatibility. See news item 5 in v1.12.2 for options to control this message.\n"
     ]
    },
    {
     "name": "stdout",
     "output_type": "stream",
     "text": [
      "[1] \"end recuperation_traitement_table_code_pays monostream\"\n",
      "[1] \"2020-04-18 00:41:13 CEST\"\n",
      "[1] \" TAILLE TABLE TablePaysZone\"\n",
      "[1] 445   3\n",
      "[1] \"2020-04-18 00:41:13 CEST\"\n",
      "[1] \"LECTURE ET MISE EN FORME DES FICHIERS D'AGGREGATION CODE SERIE\"\n",
      "[1] \"2020-04-18 00:41:13 CEST\"\n",
      "[1] \"lecture_fichier_aggregation_codeSerie monostream\"\n"
     ]
    },
    {
     "name": "stderr",
     "output_type": "stream",
     "text": [
      "NOTE: Executing action 'table.fetch'.\n",
      "NOTE: L'action 'table.fetch' a utilisé (Temps d'exécution total) :\n",
      "NOTE:       temps réel              0,048210 secondes\n",
      "NOTE:       temps UC                0,042483 secondes (88,12 %)\n",
      "NOTE:       total nodes             1 (8 cores)\n",
      "NOTE:       mémoire totale           31,26 Go\n",
      "NOTE:       mémoire                 1,21 Mo (0,00 %)\n"
     ]
    },
    {
     "name": "stdout",
     "output_type": "stream",
     "text": [
      "[1] \" TAILLE TABLE planAgregationCodeSerie\"\n",
      "[1] 2697    3\n",
      "[1] \"2020-04-18 00:41:23 CEST\"\n",
      "[1] \"JOINTURE PLAN D'AGGREGATION\"\n",
      "[1] \"parametrage_aggregation_code_serie monostream\"\n",
      "[1] \"2020-04-18 00:41:23 CEST\"\n",
      "[1] \"Recuperation des positions et longueur parents dans les codes\"\n",
      "[1] \"Recuperation des positions et longueur des parametres dans les codes\"\n",
      "[1] \"2020-04-18 00:41:26 CEST\"\n",
      "[1] \"Recuperation des positions et longueur des index dans les codes\"\n",
      "[1] \"2020-04-18 00:41:27 CEST\"\n",
      "[1] \"10 GB\"\n",
      "[1] \"Creation des variables cd2_, cd3_, cd1_, refsec, countsec par decoupage des codes\"\n",
      "[1] \"2020-04-18 00:41:28 CEST\"\n",
      "[1] \"Modification conditionnelle des valeurs de code entree et code sortie\"\n",
      "[1] \"2020-04-18 00:41:28 CEST\"\n",
      "[1] \"Jointure de la table AggregationTable TablePiZone\"\n",
      "[1] 7125   20\n",
      " [1] \"code_sortie\"       \"code_entree\"       \"formule\"          \n",
      " [4] \"enfants\"           \"parents\"           \"cle\"              \n",
      " [7] \"ind_\"              \"PositionEnfant\"    \"LongueurEnfant\"   \n",
      "[10] \"PositionParametre\" \"LongueurParametre\" \"PositionIndex\"    \n",
      "[13] \"LongueurIndex\"     \"cd2_\"              \"cd3_\"             \n",
      "[16] \"cd1_\"              \"refsec\"            \"countsec\"         \n",
      "[19] \"selectionLigne1\"   \"selectionLigne3\"  \n",
      "[1] \"Modification conditionelle (lorsque la cle jointure n'existe pas) de code entree et code sortie\"\n",
      "[1] \"2020-04-18 00:42:46 CEST\"\n",
      "[1] \"TAILLE TABLE PLAN AGREGATION\"\n",
      "[1] 2639427       3\n",
      "[1] \"end parametrage_aggregation_code_serie monostream\"\n",
      "[1] \"2020-04-18 00:42:46 CEST\"\n",
      "[1] \"Taille plan d'agregation\"\n",
      "[1] 2639427       3\n"
     ]
    },
    {
     "name": "stderr",
     "output_type": "stream",
     "text": [
      "Warning message in if (class(data) == \"character\") {:\n",
      "“la condition a une longueur > 1 et seul le premier élément est utilisé”NOTE: Executing action 'table.columnInfo'.\n",
      "NOTE: L'action 'table.columnInfo' a utilisé (Temps d'exécution total) :\n",
      "NOTE:       temps réel              0,003376 secondes\n",
      "NOTE:       temps UC                0,002938 secondes (87,03 %)\n",
      "NOTE:       total nodes             1 (8 cores)\n",
      "NOTE:       mémoire totale           31,26 Go\n",
      "NOTE:       mémoire                 845,06 Ko (0,00 %)\n",
      "NOTE: Executing action 'simple.numRows'.\n",
      "NOTE: L'action 'simple.numRows' a utilisé (Temps d'exécution total) :\n",
      "NOTE:       temps réel              0,001095 secondes\n",
      "NOTE:       temps UC                0,000878 secondes (80,18 %)\n",
      "NOTE:       total nodes             1 (8 cores)\n",
      "NOTE:       mémoire totale           31,26 Go\n",
      "NOTE:       mémoire                 433,53 Ko (0,00 %)\n"
     ]
    },
    {
     "name": "stdout",
     "output_type": "stream",
     "text": [
      "[1] 2639427       3\n",
      "[1] \"ESTIMATION NOMBRE DE PERIODE ET DE DEBUT DE TRAITEMENT\"\n",
      "[1] \"detection_nbPeriode_moisDebut monostream\"\n",
      "[1] 201812\n",
      "[1] \"BOUCLE DU LES MOIS\"\n"
     ]
    },
    {
     "name": "stderr",
     "output_type": "stream",
     "text": [
      "NOTE: Executing action 'table.dropTable'.\n",
      "NOTE: L'action 'table.dropTable' a utilisé (Temps d'exécution total) :\n",
      "NOTE:       temps réel              0,000929 secondes\n",
      "NOTE:       temps UC                0,000570 secondes (61,36 %)\n",
      "NOTE:       total nodes             1 (8 cores)\n",
      "NOTE:       mémoire totale           31,26 Go\n",
      "NOTE:       mémoire                 300,38 Ko (0,00 %)\n"
     ]
    },
    {
     "name": "stdout",
     "output_type": "stream",
     "text": [
      "[1] \"     Mois debut 201812\"\n",
      "[1] \"     Mois fin 201812\"\n",
      "[1] \"     Mois en cours de traitement: 201812\"\n",
      "[1] \"2020-04-18 00:43:25 CEST\"\n",
      "[1] \"                      lecture\"\n",
      "[1] \"lecture_tables_aggregation monostream\"\n",
      "[1] \"2020-04-18 00:43:25 CEST\"\n",
      "[1] \"10 GB\"\n",
      "[1] \"CHARGEMENT DES TABLES D'AGGREGATION, monostream\"\n",
      "[1] \"2020-04-18 00:43:25 CEST\"\n",
      "[1] \"TABLES AGREGATION LU DE LA TABLE CAS AGGTTECATEGORIE\"\n"
     ]
    },
    {
     "name": "stderr",
     "output_type": "stream",
     "text": [
      "NOTE: Executing action 'fedSql.execDirect'.\n",
      "NOTE: Table AGG_MENS_TEMP was created in caslib CASUSER(sasdemo) with 1576201 rows returned.\n",
      "NOTE: L'action 'fedSql.execDirect' a utilisé (Temps d'exécution total) :\n",
      "NOTE:       temps réel              1,924185 secondes\n",
      "NOTE:       temps UC                11,921108 secondes (619,54 %)\n",
      "NOTE:       total nodes             1 (8 cores)\n",
      "NOTE:       mémoire totale           31,26 Go\n",
      "NOTE:       mémoire                 34,86 Mo (0,11 %)\n"
     ]
    },
    {
     "name": "stdout",
     "output_type": "stream",
     "text": [
      "[1] \"end lecture_tables_aggregation monostream\"\n",
      "[1] \"2020-04-18 00:43:27 CEST\"\n"
     ]
    },
    {
     "name": "stderr",
     "output_type": "stream",
     "text": [
      "NOTE: Executing action 'table.columnInfo'.\n",
      "NOTE: L'action 'table.columnInfo' a utilisé (Temps d'exécution total) :\n",
      "NOTE:       temps réel              0,001449 secondes\n",
      "NOTE:       temps UC                0,001216 secondes (83,92 %)\n",
      "NOTE:       total nodes             1 (8 cores)\n",
      "NOTE:       mémoire totale           31,26 Go\n",
      "NOTE:       mémoire                 845,38 Ko (0,00 %)\n"
     ]
    },
    {
     "name": "stdout",
     "output_type": "stream",
     "text": [
      "[1] \"Taille table d'agregation\"\n"
     ]
    },
    {
     "name": "stderr",
     "output_type": "stream",
     "text": [
      "NOTE: Executing action 'simple.numRows'.\n",
      "NOTE: L'action 'simple.numRows' a utilisé (Temps d'exécution total) :\n",
      "NOTE:       temps réel              0,001236 secondes\n",
      "NOTE:       temps UC                0,001066 secondes (86,25 %)\n",
      "NOTE:       total nodes             1 (8 cores)\n",
      "NOTE:       mémoire totale           31,26 Go\n",
      "NOTE:       mémoire                 456,91 Ko (0,00 %)\n"
     ]
    },
    {
     "name": "stdout",
     "output_type": "stream",
     "text": [
      "[1] 1576201       9\n",
      "[1] \"code\"         \"montant\"      \"OBS_STATUS\"   \"CONF_STATUS\"  \"Periode_deb\" \n",
      "[6] \"revision_deb\" \"Periode_fin\"  \"revision_fin\" \"tablename\"   \n",
      "[1] \"lecture_tables_mixte monostream\"\n",
      "[1] \"2020-04-18 00:43:28 CEST\"\n",
      "[1] \"10 GB\"\n",
      "[1] \"end lecture_tables_mixte monostream\"\n",
      "[1] \"2020-04-18 00:43:28 CEST\"\n",
      "NULL\n",
      "NULL\n",
      "[1] \"2020-04-18 00:43:28 CEST\"\n",
      "[1] \"PARAMETRAGE CODE SERIE\"\n",
      "[1] \"APPLICATION PARAMETRAGE CODE SERIE\"\n",
      "[1] \"application_plan_parametrage_aggregation_code_serie_mensuel monostream\"\n",
      "[1] \"2020-04-18 00:43:28 CEST\"\n",
      "[1] \"2020-04-18 00:43:28 CEST\"\n",
      "[1] \"Renomage de variables et traitement d'espace dans les chaines de caratere\"\n",
      "[1] \"2020-04-18 00:43:28 CEST\"\n",
      "[1] \"Preparation de la jointure des tables PlanAggregationParametre, AggregationMensuelleTouteCategorie\"\n",
      "[1] \"2020-04-18 00:43:28 CEST\"\n",
      "[1] \"Jointure des tables PlanAggregationParametre, AggregationMensuelleTouteCategorie\"\n"
     ]
    },
    {
     "name": "stderr",
     "output_type": "stream",
     "text": [
      "NOTE: Executing action 'fedSql.execDirect'.\n",
      "NOTE: Table TMP_AGG was created in caslib CASUSER(sasdemo) with 1578041 rows returned.\n",
      "NOTE: L'action 'fedSql.execDirect' a utilisé (Temps d'exécution total) :\n",
      "NOTE:       temps réel              18,931371 secondes\n",
      "NOTE:       temps UC                36,145754 secondes (190,93 %)\n",
      "NOTE:       total nodes             1 (8 cores)\n",
      "NOTE:       mémoire totale           31,26 Go\n",
      "NOTE:       mémoire                 886,70 Mo (2,77 %)\n"
     ]
    },
    {
     "name": "stdout",
     "output_type": "stream",
     "text": [
      "[1] \"Taille de la jointure\"\n",
      "[1] \"2020-04-18 00:43:47 CEST\"\n",
      "[1] \"Calcul des montants ponderes cumules par code_sortie\"\n"
     ]
    },
    {
     "name": "stderr",
     "output_type": "stream",
     "text": [
      "NOTE: Executing action 'fedSql.execDirect'.\n",
      "NOTE: Table AGG_MENS was created in caslib CASUSER(sasdemo) with 8588 rows returned.\n",
      "NOTE: L'action 'fedSql.execDirect' a utilisé (Temps d'exécution total) :\n",
      "NOTE:       temps réel              6,024321 secondes\n",
      "NOTE:       temps UC                31,457656 secondes (522,18 %)\n",
      "NOTE:       total nodes             1 (8 cores)\n",
      "NOTE:       mémoire totale           31,26 Go\n",
      "NOTE:       mémoire                 80,15 Mo (0,25 %)\n",
      "NOTE: Executing action 'table.columnInfo'.\n",
      "NOTE: L'action 'table.columnInfo' a utilisé (Temps d'exécution total) :\n",
      "NOTE:       temps réel              0,003585 secondes\n",
      "NOTE:       temps UC                0,003182 secondes (88,76 %)\n",
      "NOTE:       total nodes             1 (8 cores)\n",
      "NOTE:       mémoire totale           31,26 Go\n",
      "NOTE:       mémoire                 827,00 Ko (0,00 %)\n"
     ]
    },
    {
     "name": "stdout",
     "output_type": "stream",
     "text": [
      "[1] \" TAILLE TABLE CalculAggregationCodeSerieMensuel\"\n"
     ]
    },
    {
     "name": "stderr",
     "output_type": "stream",
     "text": [
      "NOTE: Executing action 'simple.numRows'.\n",
      "NOTE: L'action 'simple.numRows' a utilisé (Temps d'exécution total) :\n",
      "NOTE:       temps réel              0,003391 secondes\n",
      "NOTE:       temps UC                0,003004 secondes (88,59 %)\n",
      "NOTE:       total nodes             1 (8 cores)\n",
      "NOTE:       mémoire totale           31,26 Go\n",
      "NOTE:       mémoire                 439,78 Ko (0,00 %)\n"
     ]
    },
    {
     "name": "stdout",
     "output_type": "stream",
     "text": [
      "[1] 8588    8\n",
      "[1] \"2020-04-18 00:43:53 CEST\"\n",
      "[1] \"CODE_ENTREE\"  \"OBS_STATUS\"   \"CONF_STATUS\"  \"Periode_deb\"  \"revision_deb\"\n",
      "[6] \"Periode_fin\"  \"revision_fin\" \"MONTANT\"     \n"
     ]
    },
    {
     "name": "stderr",
     "output_type": "stream",
     "text": [
      "NOTE: Executing action 'dataStep.runCode'.\n",
      "NOTE: L'action 'dataStep.runCode' a utilisé (Temps d'exécution total) :\n",
      "NOTE:       temps réel              0,044862 secondes\n",
      "NOTE:       temps UC                0,136191 secondes (303,58 %)\n",
      "NOTE:       total nodes             1 (8 cores)\n",
      "NOTE:       mémoire totale           31,26 Go\n",
      "NOTE:       mémoire                 6,14 Mo (0,02 %)\n"
     ]
    },
    {
     "name": "stdout",
     "output_type": "stream",
     "text": [
      "Time difference of 2,897462 mins\n"
     ]
    }
   ],
   "source": [
    "Repertoire <- \"AC156203\"\n",
    "RevFin<- \"SD10\"\n",
    "PeriodeFin <- \"2018Q4\"\n",
    "freq <- \"Q\"\n",
    "planAggregation <- table_planAggregation\n",
    "ReferencePiZones <- table_pays_zone\n",
    "ConnectionSecureDB <- conn # Connexion securisee a la session CAS\n",
    "\n",
    "HeureDebut <- Sys.time()\n",
    "\n",
    "TableASauvegarder <- traitement_principal(freq, RevFin, PeriodeFin, planAggregation,ReferencePiZones, Repertoire, ConnectionSecureDB)\n",
    "\n",
    "Duree <- Sys.time() - HeureDebut\n",
    "\n",
    "print(Duree)"
   ]
  },
  {
   "cell_type": "code",
   "execution_count": 175,
   "metadata": {},
   "outputs": [],
   "source": [
    "# Ferme la session SAS Viya en cours\n",
    "cas.terminate(conn)"
   ]
  },
  {
   "cell_type": "markdown",
   "metadata": {
    "jupyter": {
     "outputs_hidden": true
    }
   },
   "source": [
    "# Fin du notebook"
   ]
  },
  {
   "cell_type": "code",
   "execution_count": 246,
   "metadata": {
    "collapsed": true,
    "jupyter": {
     "outputs_hidden": true
    }
   },
   "outputs": [
    {
     "name": "stderr",
     "output_type": "stream",
     "text": [
      "NOTE: Executing action 'fedSql.execDirect'.\n",
      "NOTE: Table AGG_MENSUEL_TEMP was created in caslib CASUSER(sasdemo) with 64869 rows returned.\n",
      "NOTE: L'action 'fedSql.execDirect' a utilisé (Temps d'exécution total) :\n",
      "NOTE:       temps réel              0,873966 secondes\n",
      "NOTE:       temps UC                1,812452 secondes (207,38 %)\n",
      "NOTE:       total nodes             1 (8 cores)\n",
      "NOTE:       mémoire totale           31,26 Go\n",
      "NOTE:       mémoire                 28,95 Mo (0,09 %)\n"
     ]
    },
    {
     "data": {
      "text/html": [
       "<ol>\n",
       "</ol>\n"
      ],
      "text/latex": [
       "\\begin{enumerate}\n",
       "\\end{enumerate}\n"
      ],
      "text/markdown": [
       "\n",
       "\n"
      ],
      "text/plain": [
       "list()"
      ]
     },
     "metadata": {},
     "output_type": "display_data"
    }
   ],
   "source": [
    "cas.fedSql.execDirect(conn,query=\"create table agg_mensuel_temp {options replication=0 replace=true} as select * from AGGTTECATEGORIE where scan(code, 15) <> '_X' and tablename in ('U','Z')\")"
   ]
  },
  {
   "cell_type": "code",
   "execution_count": 247,
   "metadata": {
    "collapsed": true,
    "jupyter": {
     "outputs_hidden": true
    }
   },
   "outputs": [
    {
     "name": "stderr",
     "output_type": "stream",
     "text": [
      "NOTE: Executing action 'table.columnInfo'.\n",
      "NOTE: L'action 'table.columnInfo' a utilisé (Temps d'exécution total) :\n",
      "NOTE:       temps réel              0,001778 secondes\n",
      "NOTE:       temps UC                0,001584 secondes (89,09 %)\n",
      "NOTE:       total nodes             1 (8 cores)\n",
      "NOTE:       mémoire totale           31,26 Go\n",
      "NOTE:       mémoire                 854,50 Ko (0,00 %)\n",
      "NOTE: Executing action 'simple.numRows'.\n",
      "NOTE: L'action 'simple.numRows' a utilisé (Temps d'exécution total) :\n",
      "NOTE:       temps réel              0,001403 secondes\n",
      "NOTE:       temps UC                0,001289 secondes (91,87 %)\n",
      "NOTE:       total nodes             1 (8 cores)\n",
      "NOTE:       mémoire totale           31,26 Go\n",
      "NOTE:       mémoire                 474,25 Ko (0,00 %)\n"
     ]
    },
    {
     "data": {
      "text/html": [
       "<ol class=list-inline>\n",
       "\t<li>64869</li>\n",
       "\t<li>9</li>\n",
       "</ol>\n"
      ],
      "text/latex": [
       "\\begin{enumerate*}\n",
       "\\item 64869\n",
       "\\item 9\n",
       "\\end{enumerate*}\n"
      ],
      "text/markdown": [
       "1. 64869\n",
       "2. 9\n",
       "\n",
       "\n"
      ],
      "text/plain": [
       "[1] 64869     9"
      ]
     },
     "metadata": {},
     "output_type": "display_data"
    }
   ],
   "source": [
    "agg_mensuel_temp <- defCasTable(conn, tablename='agg_mensuel_temp', caslib='casuser')\n",
    "dim(agg_mensuel_temp)"
   ]
  },
  {
   "cell_type": "code",
   "execution_count": 248,
   "metadata": {},
   "outputs": [
    {
     "data": {
      "text/html": [
       "'COMPBL( code ), COMPBL( montant ), COMPBL( OBS_STATUS ), COMPBL( CONF_STATUS ), COMPBL( Periode_deb ), COMPBL( revision_deb ), COMPBL( Periode_fin ), COMPBL( revision_fin ), COMPBL( tablename )'"
      ],
      "text/latex": [
       "'COMPBL( code ), COMPBL( montant ), COMPBL( OBS\\_STATUS ), COMPBL( CONF\\_STATUS ), COMPBL( Periode\\_deb ), COMPBL( revision\\_deb ), COMPBL( Periode\\_fin ), COMPBL( revision\\_fin ), COMPBL( tablename )'"
      ],
      "text/markdown": [
       "'COMPBL( code ), COMPBL( montant ), COMPBL( OBS_STATUS ), COMPBL( CONF_STATUS ), COMPBL( Periode_deb ), COMPBL( revision_deb ), COMPBL( Periode_fin ), COMPBL( revision_fin ), COMPBL( tablename )'"
      ],
      "text/plain": [
       "[1] \"COMPBL( code ), COMPBL( montant ), COMPBL( OBS_STATUS ), COMPBL( CONF_STATUS ), COMPBL( Periode_deb ), COMPBL( revision_deb ), COMPBL( Periode_fin ), COMPBL( revision_fin ), COMPBL( tablename )\""
      ]
     },
     "metadata": {},
     "output_type": "display_data"
    }
   ],
   "source": [
    "list_col <- names(table_AggregationMensuelleTouteCategorie)\n",
    "\n",
    "l <- paste(\"COMPBL(\",list_col,\"), \",collapse='')\n",
    "l <- substr(l,1,nchar(l)-2)\n",
    "l"
   ]
  },
  {
   "cell_type": "code",
   "execution_count": 266,
   "metadata": {},
   "outputs": [
    {
     "name": "stdout",
     "output_type": "stream",
     "text": [
      "[1] \"select A.*,(A.montant*B.formule) as montantcuml from AGGTTECATEGORIE as A left outer join PLANAGGPARAM as B on (A.code=B.code_entree)\"\n"
     ]
    }
   ],
   "source": [
    "RequeteSQL <- paste0(\"select A.*,sum((A.montant*B.formule)) as montantcuml from AGGTTECATEGORIE as A left outer join PLANAGGPARAM as B on (A.code=B.code_entree)\")\n",
    "print(RequeteSQL)"
   ]
  },
  {
   "cell_type": "code",
   "execution_count": 265,
   "metadata": {},
   "outputs": [
    {
     "data": {
      "text/html": [
       "<ol class=list-inline>\n",
       "\t<li>'code'</li>\n",
       "\t<li>'montant'</li>\n",
       "\t<li>'OBS_STATUS'</li>\n",
       "\t<li>'CONF_STATUS'</li>\n",
       "\t<li>'Periode_deb'</li>\n",
       "\t<li>'revision_deb'</li>\n",
       "\t<li>'Periode_fin'</li>\n",
       "\t<li>'revision_fin'</li>\n",
       "\t<li>'tablename'</li>\n",
       "</ol>\n"
      ],
      "text/latex": [
       "\\begin{enumerate*}\n",
       "\\item 'code'\n",
       "\\item 'montant'\n",
       "\\item 'OBS\\_STATUS'\n",
       "\\item 'CONF\\_STATUS'\n",
       "\\item 'Periode\\_deb'\n",
       "\\item 'revision\\_deb'\n",
       "\\item 'Periode\\_fin'\n",
       "\\item 'revision\\_fin'\n",
       "\\item 'tablename'\n",
       "\\end{enumerate*}\n"
      ],
      "text/markdown": [
       "1. 'code'\n",
       "2. 'montant'\n",
       "3. 'OBS_STATUS'\n",
       "4. 'CONF_STATUS'\n",
       "5. 'Periode_deb'\n",
       "6. 'revision_deb'\n",
       "7. 'Periode_fin'\n",
       "8. 'revision_fin'\n",
       "9. 'tablename'\n",
       "\n",
       "\n"
      ],
      "text/plain": [
       "[1] \"code\"         \"montant\"      \"OBS_STATUS\"   \"CONF_STATUS\"  \"Periode_deb\" \n",
       "[6] \"revision_deb\" \"Periode_fin\"  \"revision_fin\" \"tablename\"   "
      ]
     },
     "metadata": {},
     "output_type": "display_data"
    }
   ],
   "source": [
    "names(table_AggregationMensuelleTouteCategorie)"
   ]
  },
  {
   "cell_type": "code",
   "execution_count": 260,
   "metadata": {},
   "outputs": [
    {
     "name": "stdout",
     "output_type": "stream",
     "text": [
      "[1] \"parametrage_aggregation_code_serie monostream\"\n",
      "[1] \"2020-04-17 20:15:58 CEST\"\n"
     ]
    },
    {
     "ename": "ERROR",
     "evalue": "Error in data.table::data.table(AggregationTable): objet 'planAgregationCodeSerie' introuvable\n",
     "output_type": "error",
     "traceback": [
      "Error in data.table::data.table(AggregationTable): objet 'planAgregationCodeSerie' introuvable\nTraceback:\n",
      "1. parametrage_aggregation_code_serie(planAgregationCodeSerie, TablePiZone, \n .     freq)",
      "2. data.table::data.table(AggregationTable)"
     ]
    }
   ],
   "source": []
  },
  {
   "cell_type": "code",
   "execution_count": 268,
   "metadata": {},
   "outputs": [
    {
     "name": "stderr",
     "output_type": "stream",
     "text": [
      "NOTE: Executing action 'fedSql.execDirect'.\n",
      "NOTE: Table AGG_FINALE was created in caslib CASUSER(sasdemo) with 1578041 rows returned.\n",
      "NOTE: L'action 'fedSql.execDirect' a utilisé (Temps d'exécution total) :\n",
      "NOTE:       temps réel              10,572649 secondes\n",
      "NOTE:       temps UC                25,327584 secondes (239,56 %)\n",
      "NOTE:       total nodes             1 (8 cores)\n",
      "NOTE:       mémoire totale           31,26 Go\n",
      "NOTE:       mémoire                 512,45 Mo (1,60 %)\n"
     ]
    },
    {
     "data": {
      "text/html": [
       "<ol>\n",
       "</ol>\n"
      ],
      "text/latex": [
       "\\begin{enumerate}\n",
       "\\end{enumerate}\n"
      ],
      "text/markdown": [
       "\n",
       "\n"
      ],
      "text/plain": [
       "list()"
      ]
     },
     "metadata": {},
     "output_type": "display_data"
    }
   ],
   "source": [
    "RequeteSqlFinaleCAS <- paste0(\"create table AGG_FINALE {options replication=0 replace=true} as \",RequeteSQL,\";\")\n",
    "cas.fedSql.execDirect(ConnectionSecureDB,query=RequeteSqlFinaleCAS)"
   ]
  },
  {
   "cell_type": "code",
   "execution_count": 275,
   "metadata": {},
   "outputs": [],
   "source": [
    "cas.table.index(ConnectionSecureDB, table='AGGTTECATEGORIE', casOut=list(name='AGGTTECATEGORIE', indexVars=c('code'), replace=TRUE))\n",
    "cas.table.index(ConnectionSecureDB, table='PLANAGGPARAM', casOut=list(name='PLANAGGPARAM', indexVars=c('code_entree'), replace=TRUE))\n",
    "cas.fedSql.execDirect(ConnectionSecureDB,query=RequeteSqlFinaleCAS, method=TRUE)"
   ]
  },
  {
   "cell_type": "code",
   "execution_count": 282,
   "metadata": {},
   "outputs": [],
   "source": [
    "RequeteSQL <- paste0(\"select code as code_entree, min(OBS_STATUS) as OBS_STATUS, min(CONF_STATUS) as CONF_STATUS, min(Periode_deb) as Periode_deb, min(revision_deb) as revision_deb, min(Periode_fin) as Periode_fin, min(revision_fin) as revision_fin, sum(montantcuml) as montant from AGG_FINALE group by code\");\n",
    "RequeteSqlFinaleCAS <- paste0(\"create table AGG_FINALE2 {options replication=0 replace=true} as \",RequeteSQL,\";\")\n",
    "cas.fedSql.execDirect(ConnectionSecureDB,query=RequeteSqlFinaleCAS)"
   ]
  },
  {
   "cell_type": "code",
   "execution_count": 284,
   "metadata": {},
   "outputs": [
    {
     "name": "stderr",
     "output_type": "stream",
     "text": [
      "NOTE: Executing action 'fedSql.execDirect'.\n",
      "NOTE: Table AGG_FINALE2 was created in caslib CASUSER(sasdemo) with 8588 rows returned.\n",
      "NOTE: L'action 'fedSql.execDirect' a utilisé (Temps d'exécution total) :\n",
      "NOTE:       temps réel              4,168444 secondes\n",
      "NOTE:       temps UC                23,500755 secondes (563,78 %)\n",
      "NOTE:       total nodes             1 (8 cores)\n",
      "NOTE:       mémoire totale           31,26 Go\n",
      "NOTE:       mémoire                 80,02 Mo (0,25 %)\n"
     ]
    },
    {
     "data": {
      "text/html": [
       "<ol>\n",
       "</ol>\n"
      ],
      "text/latex": [
       "\\begin{enumerate}\n",
       "\\end{enumerate}\n"
      ],
      "text/markdown": [
       "\n",
       "\n"
      ],
      "text/plain": [
       "list()"
      ]
     },
     "metadata": {},
     "output_type": "display_data"
    }
   ],
   "source": [
    "RequeteSQL <- paste0(\"select code as code_entree, OBS_STATUS,CONF_STATUS, Periode_deb, revision_deb, Periode_fin, revision_fin, sum(montantcuml) as montant from AGG_FINALE group by code,OBS_STATUS,CONF_STATUS, Periode_deb, revision_deb, Periode_fin, revision_fin\");\n",
    "RequeteSqlFinaleCAS <- paste0(\"create table AGG_FINALE2 {options replication=0 replace=true} as \",RequeteSQL,\";\")\n",
    "cas.fedSql.execDirect(ConnectionSecureDB,query=RequeteSqlFinaleCAS)"
   ]
  },
  {
   "cell_type": "code",
   "execution_count": 285,
   "metadata": {},
   "outputs": [
    {
     "name": "stderr",
     "output_type": "stream",
     "text": [
      "NOTE: Executing action 'table.columnInfo'.\n",
      "NOTE: L'action 'table.columnInfo' a utilisé (Temps d'exécution total) :\n",
      "NOTE:       temps réel              0,001909 secondes\n",
      "NOTE:       temps UC                0,001704 secondes (89,26 %)\n",
      "NOTE:       total nodes             1 (8 cores)\n",
      "NOTE:       mémoire totale           31,26 Go\n",
      "NOTE:       mémoire                 857,09 Ko (0,00 %)\n"
     ]
    },
    {
     "data": {
      "text/html": [
       "<ol class=list-inline>\n",
       "\t<li>'code'</li>\n",
       "\t<li>'montant'</li>\n",
       "\t<li>'OBS_STATUS'</li>\n",
       "\t<li>'CONF_STATUS'</li>\n",
       "\t<li>'Periode_deb'</li>\n",
       "\t<li>'revision_deb'</li>\n",
       "\t<li>'Periode_fin'</li>\n",
       "\t<li>'revision_fin'</li>\n",
       "\t<li>'tablename'</li>\n",
       "\t<li>'MONTANTCUML'</li>\n",
       "</ol>\n"
      ],
      "text/latex": [
       "\\begin{enumerate*}\n",
       "\\item 'code'\n",
       "\\item 'montant'\n",
       "\\item 'OBS\\_STATUS'\n",
       "\\item 'CONF\\_STATUS'\n",
       "\\item 'Periode\\_deb'\n",
       "\\item 'revision\\_deb'\n",
       "\\item 'Periode\\_fin'\n",
       "\\item 'revision\\_fin'\n",
       "\\item 'tablename'\n",
       "\\item 'MONTANTCUML'\n",
       "\\end{enumerate*}\n"
      ],
      "text/markdown": [
       "1. 'code'\n",
       "2. 'montant'\n",
       "3. 'OBS_STATUS'\n",
       "4. 'CONF_STATUS'\n",
       "5. 'Periode_deb'\n",
       "6. 'revision_deb'\n",
       "7. 'Periode_fin'\n",
       "8. 'revision_fin'\n",
       "9. 'tablename'\n",
       "10. 'MONTANTCUML'\n",
       "\n",
       "\n"
      ],
      "text/plain": [
       " [1] \"code\"         \"montant\"      \"OBS_STATUS\"   \"CONF_STATUS\"  \"Periode_deb\" \n",
       " [6] \"revision_deb\" \"Periode_fin\"  \"revision_fin\" \"tablename\"    \"MONTANTCUML\" "
      ]
     },
     "metadata": {},
     "output_type": "display_data"
    },
    {
     "name": "stderr",
     "output_type": "stream",
     "text": [
      "NOTE: Executing action 'simple.numRows'.\n",
      "NOTE: L'action 'simple.numRows' a utilisé (Temps d'exécution total) :\n",
      "NOTE:       temps réel              0,001457 secondes\n",
      "NOTE:       temps UC                0,001285 secondes (88,19 %)\n",
      "NOTE:       total nodes             1 (8 cores)\n",
      "NOTE:       mémoire totale           31,26 Go\n",
      "NOTE:       mémoire                 466,28 Ko (0,00 %)\n"
     ]
    },
    {
     "data": {
      "text/html": [
       "<ol class=list-inline>\n",
       "\t<li>1578041</li>\n",
       "\t<li>10</li>\n",
       "</ol>\n"
      ],
      "text/latex": [
       "\\begin{enumerate*}\n",
       "\\item 1578041\n",
       "\\item 10\n",
       "\\end{enumerate*}\n"
      ],
      "text/markdown": [
       "1. 1578041\n",
       "2. 10\n",
       "\n",
       "\n"
      ],
      "text/plain": [
       "[1] 1578041      10"
      ]
     },
     "metadata": {},
     "output_type": "display_data"
    },
    {
     "name": "stderr",
     "output_type": "stream",
     "text": [
      "NOTE: Executing action 'table.columnInfo'.\n",
      "NOTE: L'action 'table.columnInfo' a utilisé (Temps d'exécution total) :\n",
      "NOTE:       temps réel              0,001561 secondes\n",
      "NOTE:       temps UC                0,001384 secondes (88,66 %)\n",
      "NOTE:       total nodes             1 (8 cores)\n",
      "NOTE:       mémoire totale           31,26 Go\n",
      "NOTE:       mémoire                 856,34 Ko (0,00 %)\n"
     ]
    },
    {
     "data": {
      "text/html": [
       "<ol class=list-inline>\n",
       "\t<li>'CODE_ENTREE'</li>\n",
       "\t<li>'OBS_STATUS'</li>\n",
       "\t<li>'CONF_STATUS'</li>\n",
       "\t<li>'Periode_deb'</li>\n",
       "\t<li>'revision_deb'</li>\n",
       "\t<li>'Periode_fin'</li>\n",
       "\t<li>'revision_fin'</li>\n",
       "\t<li>'MONTANT'</li>\n",
       "</ol>\n"
      ],
      "text/latex": [
       "\\begin{enumerate*}\n",
       "\\item 'CODE\\_ENTREE'\n",
       "\\item 'OBS\\_STATUS'\n",
       "\\item 'CONF\\_STATUS'\n",
       "\\item 'Periode\\_deb'\n",
       "\\item 'revision\\_deb'\n",
       "\\item 'Periode\\_fin'\n",
       "\\item 'revision\\_fin'\n",
       "\\item 'MONTANT'\n",
       "\\end{enumerate*}\n"
      ],
      "text/markdown": [
       "1. 'CODE_ENTREE'\n",
       "2. 'OBS_STATUS'\n",
       "3. 'CONF_STATUS'\n",
       "4. 'Periode_deb'\n",
       "5. 'revision_deb'\n",
       "6. 'Periode_fin'\n",
       "7. 'revision_fin'\n",
       "8. 'MONTANT'\n",
       "\n",
       "\n"
      ],
      "text/plain": [
       "[1] \"CODE_ENTREE\"  \"OBS_STATUS\"   \"CONF_STATUS\"  \"Periode_deb\"  \"revision_deb\"\n",
       "[6] \"Periode_fin\"  \"revision_fin\" \"MONTANT\"     "
      ]
     },
     "metadata": {},
     "output_type": "display_data"
    },
    {
     "name": "stderr",
     "output_type": "stream",
     "text": [
      "NOTE: Executing action 'simple.numRows'.\n",
      "NOTE: L'action 'simple.numRows' a utilisé (Temps d'exécution total) :\n",
      "NOTE:       temps réel              0,001450 secondes\n",
      "NOTE:       temps UC                0,001260 secondes (86,90 %)\n",
      "NOTE:       total nodes             1 (8 cores)\n",
      "NOTE:       mémoire totale           31,26 Go\n",
      "NOTE:       mémoire                 466,28 Ko (0,00 %)\n"
     ]
    },
    {
     "data": {
      "text/html": [
       "<ol class=list-inline>\n",
       "\t<li>8588</li>\n",
       "\t<li>8</li>\n",
       "</ol>\n"
      ],
      "text/latex": [
       "\\begin{enumerate*}\n",
       "\\item 8588\n",
       "\\item 8\n",
       "\\end{enumerate*}\n"
      ],
      "text/markdown": [
       "1. 8588\n",
       "2. 8\n",
       "\n",
       "\n"
      ],
      "text/plain": [
       "[1] 8588    8"
      ]
     },
     "metadata": {},
     "output_type": "display_data"
    }
   ],
   "source": [
    "agg_finale_cas <- defCasTable(conn, tablename='AGG_FINALE', caslib='casuser')\n",
    "names(agg_finale_cas)\n",
    "dim(agg_finale_cas)\n",
    "\n",
    "\n",
    "agg_finale_cas2 <- defCasTable(conn, tablename='AGG_FINALE2', caslib='casuser')\n",
    "names(agg_finale_cas2)\n",
    "dim(agg_finale_cas2)"
   ]
  }
 ],
 "metadata": {
  "kernelspec": {
   "display_name": "R",
   "language": "R",
   "name": "ir"
  },
  "language_info": {
   "codemirror_mode": "r",
   "file_extension": ".r",
   "mimetype": "text/x-r-source",
   "name": "R",
   "pygments_lexer": "r",
   "version": "3.6.1"
  }
 },
 "nbformat": 4,
 "nbformat_minor": 4
}
