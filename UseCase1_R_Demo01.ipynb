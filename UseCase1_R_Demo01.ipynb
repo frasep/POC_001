{
 "cells": [
  {
   "cell_type": "code",
   "execution_count": 10,
   "metadata": {},
   "outputs": [
    {
     "data": {
      "text/plain": [
       "               _                           \n",
       "platform       x86_64-conda_cos6-linux-gnu \n",
       "arch           x86_64                      \n",
       "os             linux-gnu                   \n",
       "system         x86_64, linux-gnu           \n",
       "status                                     \n",
       "major          3                           \n",
       "minor          6.1                         \n",
       "year           2019                        \n",
       "month          07                          \n",
       "day            05                          \n",
       "svn rev        76782                       \n",
       "language       R                           \n",
       "version.string R version 3.6.1 (2019-07-05)\n",
       "nickname       Action of the Toes          "
      ]
     },
     "metadata": {},
     "output_type": "display_data"
    }
   ],
   "source": [
    "R.version"
   ]
  },
  {
   "cell_type": "code",
   "execution_count": 11,
   "metadata": {},
   "outputs": [],
   "source": [
    "library(\"dplyr\")\n",
    "library(\"glue\")\n",
    "library(\"stringr\")\n",
    "library(\"rlist\")\n",
    "library(\"data.table\")\n",
    "library(\"readr\")\n",
    "library(\"stringi\")\n",
    "library(\"swat\")"
   ]
  },
  {
   "cell_type": "code",
   "execution_count": 12,
   "metadata": {},
   "outputs": [],
   "source": [
    "source(\"UtilsRCAS.R\")"
   ]
  },
  {
   "cell_type": "markdown",
   "metadata": {},
   "source": [
    "# Connection a l'environnement SAS Viya"
   ]
  },
  {
   "cell_type": "code",
   "execution_count": 13,
   "metadata": {},
   "outputs": [
    {
     "name": "stderr",
     "output_type": "stream",
     "text": [
      "NOTE: Connecting to CAS and generating CAS action functions for loaded\n",
      "      action sets...\n",
      "NOTE: To generate the functions with signatures (for tab completion), set \n",
      "      options(cas.gen.function.sig=TRUE).\n",
      "NOTE: 'CASUSER(sasdemo)' is now the active caslib.\n",
      "NOTE: L'action 'sessionProp.setSessOpt' a utilisé (Temps d'exécution total) :\n",
      "NOTE:       temps réel              0,017107 secondes\n",
      "NOTE:       temps UC                0,016978 secondes (99,25 %)\n",
      "NOTE:       total nodes             1 (8 cores)\n",
      "NOTE:       mémoire totale           31,26 Go\n",
      "NOTE:       mémoire                 362,78 Ko (0,00 %)\n"
     ]
    }
   ],
   "source": [
    "cashost <- '192.168.1.50'\n",
    "casuser <- 'sasdemo'\n",
    "#caspwd <- 'Lprzwb31CA'\n",
    "\n",
    "#cashost <- 'controller'\n",
    "#casuser <- 'sebastien'\n",
    "#caspwd <- 'sebastien2020'\n",
    "\n",
    "conn <- swat::CAS(cashost, 5570, username=casuser)\n",
    "\n",
    "# Activate metric tracing and other session parameters\n",
    "out <- cas.sessionProp.setSessOpt(conn, metrics=TRUE, timeout=1800, caslib='casuser')"
   ]
  },
  {
   "cell_type": "code",
   "execution_count": 14,
   "metadata": {},
   "outputs": [
    {
     "name": "stderr",
     "output_type": "stream",
     "text": [
      "NOTE: Executing action 'builtins.loadActionSet'.\n",
      "NOTE: Added action set 'fedsql'.\n",
      "NOTE: L'action 'builtins.loadActionSet' a utilisé (Temps d'exécution total) :\n",
      "NOTE:       temps réel              0,068936 secondes\n",
      "NOTE:       temps UC                0,021262 secondes (30,84 %)\n",
      "NOTE:       total nodes             1 (8 cores)\n",
      "NOTE:       mémoire totale           31,26 Go\n",
      "NOTE:       mémoire                 267,06 Ko (0,00 %)\n",
      "NOTE: Executing action 'builtins.actionSetInfo'.\n",
      "NOTE: L'action 'builtins.actionSetInfo' a utilisé (Temps d'exécution total) :\n",
      "NOTE:       temps réel              0,008375 secondes\n",
      "NOTE:       temps UC                0,004586 secondes (54,76 %)\n",
      "NOTE:       total nodes             1 (8 cores)\n",
      "NOTE:       mémoire totale           31,26 Go\n",
      "NOTE:       mémoire                 320,09 Ko (0,00 %)\n",
      "NOTE: Executing action 'builtins.listActions'.\n",
      "NOTE: Informations pour l'ensemble d'actions 'fedSql':\n",
      "NOTE:    fedSql\n",
      "NOTE:       execDirect - Submits a SAS FedSQL language statement for immediate execution\n",
      "NOTE: L'action 'builtins.listActions' a utilisé (Temps d'exécution total) :\n",
      "NOTE:       temps réel              0,001869 secondes\n",
      "NOTE:       temps UC                0,001744 secondes (93,31 %)\n",
      "NOTE:       total nodes             1 (8 cores)\n",
      "NOTE:       mémoire totale           31,26 Go\n",
      "NOTE:       mémoire                 311,88 Ko (0,00 %)\n",
      "NOTE: Executing action 'builtins.loadActionSet'.\n",
      "NOTE: Added action set 'aggregation'.\n",
      "NOTE: L'action 'builtins.loadActionSet' a utilisé (Temps d'exécution total) :\n",
      "NOTE:       temps réel              0,020890 secondes\n",
      "NOTE:       temps UC                0,006090 secondes (29,15 %)\n",
      "NOTE:       total nodes             1 (8 cores)\n",
      "NOTE:       mémoire totale           31,26 Go\n",
      "NOTE:       mémoire                 219,16 Ko (0,00 %)\n",
      "NOTE: Executing action 'builtins.actionSetInfo'.\n",
      "NOTE: L'action 'builtins.actionSetInfo' a utilisé (Temps d'exécution total) :\n",
      "NOTE:       temps réel              0,009488 secondes\n",
      "NOTE:       temps UC                0,005527 secondes (58,25 %)\n",
      "NOTE:       total nodes             1 (8 cores)\n",
      "NOTE:       mémoire totale           31,26 Go\n",
      "NOTE:       mémoire                 315,03 Ko (0,00 %)\n",
      "NOTE: Executing action 'builtins.listActions'.\n",
      "NOTE: Informations pour l'ensemble d'actions 'aggregation':\n",
      "NOTE:    aggregation\n",
      "NOTE:       aggregate - Performs aggregation on selected variables\n",
      "NOTE: L'action 'builtins.listActions' a utilisé (Temps d'exécution total) :\n",
      "NOTE:       temps réel              0,008085 secondes\n",
      "NOTE:       temps UC                0,003898 secondes (48,21 %)\n",
      "NOTE:       total nodes             1 (8 cores)\n",
      "NOTE:       mémoire totale           31,26 Go\n",
      "NOTE:       mémoire                 322,03 Ko (0,00 %)\n"
     ]
    }
   ],
   "source": [
    "actionsets <- c('fedsql','aggregation')\n",
    "for(i in actionsets){\n",
    "    loadActionSet(conn, i)\n",
    "}"
   ]
  },
  {
   "cell_type": "code",
   "execution_count": 15,
   "metadata": {},
   "outputs": [
    {
     "name": "stderr",
     "output_type": "stream",
     "text": [
      "NOTE: Executing action 'builtins.serverStatus'.\n",
      "NOTE: Grid node action status report: 1 nodes, 34 total actions executed.\n",
      "NOTE: L'action 'builtins.serverStatus' a utilisé (Temps d'exécution total) :\n",
      "NOTE:       temps réel              0,017094 secondes\n",
      "NOTE:       temps UC                0,006474 secondes (37,87 %)\n",
      "NOTE:       total nodes             1 (8 cores)\n",
      "NOTE:       mémoire totale           31,26 Go\n",
      "NOTE:       mémoire                 316,28 Ko (0,00 %)\n"
     ]
    },
    {
     "data": {
      "text/html": [
       "<dl>\n",
       "\t<dt>$About</dt>\n",
       "\t\t<dd><dl>\n",
       "\t<dt>$CAS</dt>\n",
       "\t\t<dd>'Cloud Analytic Services'</dd>\n",
       "\t<dt>$Version</dt>\n",
       "\t\t<dd>'3.05'</dd>\n",
       "\t<dt>$VersionLong</dt>\n",
       "\t\t<dd>'V.03.05M0P11062019'</dd>\n",
       "\t<dt>$Copyright</dt>\n",
       "\t\t<dd>'Copyright © 2014-2018 SAS Institute Inc. All Rights Reserved.'</dd>\n",
       "\t<dt>$ServerTime</dt>\n",
       "\t\t<dd>'2020-04-24T09:16:44Z'</dd>\n",
       "\t<dt>$System</dt>\n",
       "\t\t<dd><dl>\n",
       "\t<dt>$Hostname</dt>\n",
       "\t\t<dd>'viya35.local.fr'</dd>\n",
       "\t<dt>$`OS Name`</dt>\n",
       "\t\t<dd>'Linux'</dd>\n",
       "\t<dt>$`OS Family`</dt>\n",
       "\t\t<dd>'LIN X64'</dd>\n",
       "\t<dt>$`OS Release`</dt>\n",
       "\t\t<dd>'3.10.0-1062.el7.x86_64'</dd>\n",
       "\t<dt>$`OS Version`</dt>\n",
       "\t\t<dd>'#1 SMP Wed Aug 7 18:08:02 UTC 2019'</dd>\n",
       "\t<dt>$`Model Number`</dt>\n",
       "\t\t<dd>'x86_64'</dd>\n",
       "\t<dt>$`Linux Distribution`</dt>\n",
       "\t\t<dd>'CentOS Linux release 7.6.1810 (Core)'</dd>\n",
       "</dl>\n",
       "</dd>\n",
       "\t<dt>$license</dt>\n",
       "\t\t<dd><dl>\n",
       "\t<dt>$site</dt>\n",
       "\t\t<dd>'SAS_VIYA_DATASCIENCE'</dd>\n",
       "\t<dt>$siteNum</dt>\n",
       "\t\t<dd>70180938</dd>\n",
       "\t<dt>$expires</dt>\n",
       "\t\t<dd>'19 février 2021 00 h 00'</dd>\n",
       "\t<dt>$gracePeriod</dt>\n",
       "\t\t<dd>45</dd>\n",
       "\t<dt>$warningPeriod</dt>\n",
       "\t\t<dd>45</dd>\n",
       "\t<dt>$maxCPUs</dt>\n",
       "\t\t<dd>9999</dd>\n",
       "</dl>\n",
       "</dd>\n",
       "</dl>\n",
       "</dd>\n",
       "\t<dt>$server</dt>\n",
       "\t\t<dd><table>\n",
       "<thead><tr><th scope=col>nodes</th><th scope=col>actions</th></tr></thead>\n",
       "<tbody>\n",
       "\t<tr><td>1 </td><td>34</td></tr>\n",
       "</tbody>\n",
       "</table>\n",
       "</dd>\n",
       "\t<dt>$nodestatus</dt>\n",
       "\t\t<dd><table>\n",
       "<thead><tr><th scope=col>name</th><th scope=col>role</th><th scope=col>uptime</th><th scope=col>running</th><th scope=col>stalled</th></tr></thead>\n",
       "<tbody>\n",
       "\t<tr><td>viya35.local.fr</td><td>controller     </td><td>3.327          </td><td>0              </td><td>0              </td></tr>\n",
       "</tbody>\n",
       "</table>\n",
       "</dd>\n",
       "</dl>\n"
      ],
      "text/latex": [
       "\\begin{description}\n",
       "\\item[\\$About] \\begin{description}\n",
       "\\item[\\$CAS] 'Cloud Analytic Services'\n",
       "\\item[\\$Version] '3.05'\n",
       "\\item[\\$VersionLong] 'V.03.05M0P11062019'\n",
       "\\item[\\$Copyright] 'Copyright © 2014-2018 SAS Institute Inc. All Rights Reserved.'\n",
       "\\item[\\$ServerTime] '2020-04-24T09:16:44Z'\n",
       "\\item[\\$System] \\begin{description}\n",
       "\\item[\\$Hostname] 'viya35.local.fr'\n",
       "\\item[\\$`OS Name`] 'Linux'\n",
       "\\item[\\$`OS Family`] 'LIN X64'\n",
       "\\item[\\$`OS Release`] '3.10.0-1062.el7.x86\\_64'\n",
       "\\item[\\$`OS Version`] '\\#1 SMP Wed Aug 7 18:08:02 UTC 2019'\n",
       "\\item[\\$`Model Number`] 'x86\\_64'\n",
       "\\item[\\$`Linux Distribution`] 'CentOS Linux release 7.6.1810 (Core)'\n",
       "\\end{description}\n",
       "\n",
       "\\item[\\$license] \\begin{description}\n",
       "\\item[\\$site] 'SAS\\_VIYA\\_DATASCIENCE'\n",
       "\\item[\\$siteNum] 70180938\n",
       "\\item[\\$expires] '19 février 2021 00 h 00'\n",
       "\\item[\\$gracePeriod] 45\n",
       "\\item[\\$warningPeriod] 45\n",
       "\\item[\\$maxCPUs] 9999\n",
       "\\end{description}\n",
       "\n",
       "\\end{description}\n",
       "\n",
       "\\item[\\$server] \\begin{tabular}{r|ll}\n",
       " nodes & actions\\\\\n",
       "\\hline\n",
       "\t 1  & 34\\\\\n",
       "\\end{tabular}\n",
       "\n",
       "\\item[\\$nodestatus] \\begin{tabular}{r|lllll}\n",
       " name & role & uptime & running & stalled\\\\\n",
       "\\hline\n",
       "\t viya35.local.fr & controller      & 3.327           & 0               & 0              \\\\\n",
       "\\end{tabular}\n",
       "\n",
       "\\end{description}\n"
      ],
      "text/markdown": [
       "$About\n",
       ":   $CAS\n",
       ":   'Cloud Analytic Services'\n",
       "$Version\n",
       ":   '3.05'\n",
       "$VersionLong\n",
       ":   'V.03.05M0P11062019'\n",
       "$Copyright\n",
       ":   'Copyright © 2014-2018 SAS Institute Inc. All Rights Reserved.'\n",
       "$ServerTime\n",
       ":   '2020-04-24T09:16:44Z'\n",
       "$System\n",
       ":   $Hostname\n",
       ":   'viya35.local.fr'\n",
       "$`OS Name`\n",
       ":   'Linux'\n",
       "$`OS Family`\n",
       ":   'LIN X64'\n",
       "$`OS Release`\n",
       ":   '3.10.0-1062.el7.x86_64'\n",
       "$`OS Version`\n",
       ":   '#1 SMP Wed Aug 7 18:08:02 UTC 2019'\n",
       "$`Model Number`\n",
       ":   'x86_64'\n",
       "$`Linux Distribution`\n",
       ":   'CentOS Linux release 7.6.1810 (Core)'\n",
       "\n",
       "\n",
       "\n",
       "$license\n",
       ":   $site\n",
       ":   'SAS_VIYA_DATASCIENCE'\n",
       "$siteNum\n",
       ":   70180938\n",
       "$expires\n",
       ":   '19 février 2021 00 h 00'\n",
       "$gracePeriod\n",
       ":   45\n",
       "$warningPeriod\n",
       ":   45\n",
       "$maxCPUs\n",
       ":   9999\n",
       "\n",
       "\n",
       "\n",
       "\n",
       "\n",
       "\n",
       "$server\n",
       ":   \n",
       "| nodes | actions |\n",
       "|---|---|\n",
       "| 1  | 34 |\n",
       "\n",
       "\n",
       "$nodestatus\n",
       ":   \n",
       "| name | role | uptime | running | stalled |\n",
       "|---|---|---|---|---|\n",
       "| viya35.local.fr | controller      | 3.327           | 0               | 0               |\n",
       "\n",
       "\n",
       "\n",
       "\n"
      ],
      "text/plain": [
       "$About\n",
       "$About$CAS\n",
       "[1] \"Cloud Analytic Services\"\n",
       "\n",
       "$About$Version\n",
       "[1] \"3.05\"\n",
       "\n",
       "$About$VersionLong\n",
       "[1] \"V.03.05M0P11062019\"\n",
       "\n",
       "$About$Copyright\n",
       "[1] \"Copyright © 2014-2018 SAS Institute Inc. All Rights Reserved.\"\n",
       "\n",
       "$About$ServerTime\n",
       "[1] \"2020-04-24T09:16:44Z\"\n",
       "\n",
       "$About$System\n",
       "$About$System$Hostname\n",
       "[1] \"viya35.local.fr\"\n",
       "\n",
       "$About$System$`OS Name`\n",
       "[1] \"Linux\"\n",
       "\n",
       "$About$System$`OS Family`\n",
       "[1] \"LIN X64\"\n",
       "\n",
       "$About$System$`OS Release`\n",
       "[1] \"3.10.0-1062.el7.x86_64\"\n",
       "\n",
       "$About$System$`OS Version`\n",
       "[1] \"#1 SMP Wed Aug 7 18:08:02 UTC 2019\"\n",
       "\n",
       "$About$System$`Model Number`\n",
       "[1] \"x86_64\"\n",
       "\n",
       "$About$System$`Linux Distribution`\n",
       "[1] \"CentOS Linux release 7.6.1810 (Core)\"\n",
       "\n",
       "\n",
       "$About$license\n",
       "$About$license$site\n",
       "[1] \"SAS_VIYA_DATASCIENCE\"\n",
       "\n",
       "$About$license$siteNum\n",
       "[1] 70180938\n",
       "\n",
       "$About$license$expires\n",
       "[1] \"19 février 2021 00 h 00\"\n",
       "\n",
       "$About$license$gracePeriod\n",
       "[1] 45\n",
       "\n",
       "$About$license$warningPeriod\n",
       "[1] 45\n",
       "\n",
       "$About$license$maxCPUs\n",
       "[1] 9999\n",
       "\n",
       "\n",
       "\n",
       "$server\n",
       "  nodes actions\n",
       "1     1      34\n",
       "\n",
       "$nodestatus\n",
       "             name       role uptime running stalled\n",
       "1 viya35.local.fr controller  3.327       0       0\n"
      ]
     },
     "metadata": {},
     "output_type": "display_data"
    }
   ],
   "source": [
    "cas.builtins.serverStatus(conn)"
   ]
  },
  {
   "cell_type": "markdown",
   "metadata": {},
   "source": [
    "## Defini une librairie CAS pointant sur le repertoire contenant tous les fichiers CSV en entree. On definie la source en DNFS, cela signifie que la lecture et l'ecriture des fichiers se fera en multitheading et multi noeud automatiquement. Les formats de fichiers supportes actuellement sur ce mode sont : CSV, PARQUET et SASHDAT."
   ]
  },
  {
   "cell_type": "code",
   "execution_count": 16,
   "metadata": {},
   "outputs": [
    {
     "name": "stderr",
     "output_type": "stream",
     "text": [
      "NOTE: Executing action 'table.addCaslib'.\n",
      "NOTE: 'mycaslib' is now the active caslib.\n",
      "NOTE: Cloud Analytic Services added the caslib 'mycaslib'.\n",
      "NOTE: L'action 'table.addCaslib' a utilisé (Temps d'exécution total) :\n",
      "NOTE:       temps réel              0,004761 secondes\n",
      "NOTE:       temps UC                0,004631 secondes (97,27 %)\n",
      "NOTE:       total nodes             1 (8 cores)\n",
      "NOTE:       mémoire totale           31,26 Go\n",
      "NOTE:       mémoire                 741,13 Ko (0,00 %)\n"
     ]
    },
    {
     "data": {
      "text/html": [
       "<strong>$CASLibInfo</strong> = <table>\n",
       "<thead><tr><th scope=col>Name</th><th scope=col>Type</th><th scope=col>Description</th><th scope=col>Path</th><th scope=col>Definition</th><th scope=col>Subdirs</th><th scope=col>Local</th><th scope=col>Active</th><th scope=col>Personal</th><th scope=col>Hidden</th><th scope=col>Transient</th></tr></thead>\n",
       "<tbody>\n",
       "\t<tr><td>mycaslib                </td><td>DNFS                    </td><td>                        </td><td>/data/data/BDF_SMALL_DB/</td><td>                        </td><td>0                       </td><td>1                       </td><td>1                       </td><td>0                       </td><td>0                       </td><td>0                       </td></tr>\n",
       "</tbody>\n",
       "</table>\n"
      ],
      "text/latex": [
       "\\textbf{\\$CASLibInfo} = \\begin{tabular}{r|lllllllllll}\n",
       " Name & Type & Description & Path & Definition & Subdirs & Local & Active & Personal & Hidden & Transient\\\\\n",
       "\\hline\n",
       "\t mycaslib                     & DNFS                         &                              & /data/data/BDF\\_SMALL\\_DB/ &                              & 0                            & 1                            & 1                            & 0                            & 0                            & 0                           \\\\\n",
       "\\end{tabular}\n"
      ],
      "text/markdown": [
       "**$CASLibInfo** = \n",
       "| Name | Type | Description | Path | Definition | Subdirs | Local | Active | Personal | Hidden | Transient |\n",
       "|---|---|---|---|---|---|---|---|---|---|---|\n",
       "| mycaslib                 | DNFS                     |                          | /data/data/BDF_SMALL_DB/ |                          | 0                        | 1                        | 1                        | 0                        | 0                        | 0                        |\n",
       "\n"
      ],
      "text/plain": [
       "$CASLibInfo\n",
       "      Name Type Description                     Path Definition Subdirs Local\n",
       "1 mycaslib DNFS             /data/data/BDF_SMALL_DB/                  0     1\n",
       "  Active Personal Hidden Transient\n",
       "1      1        0      0         0\n"
      ]
     },
     "metadata": {},
     "output_type": "display_data"
    },
    {
     "name": "stderr",
     "output_type": "stream",
     "text": [
      "NOTE: Executing action 'sessionProp.setSessOpt'.\n",
      "NOTE: 'CASUSER(sasdemo)' is now the active caslib.\n",
      "NOTE: L'action 'sessionProp.setSessOpt' a utilisé (Temps d'exécution total) :\n",
      "NOTE:       temps réel              0,002462 secondes\n",
      "NOTE:       temps UC                0,002023 secondes (82,17 %)\n",
      "NOTE:       total nodes             1 (8 cores)\n",
      "NOTE:       mémoire totale           31,26 Go\n",
      "NOTE:       mémoire                 265,13 Ko (0,00 %)\n"
     ]
    }
   ],
   "source": [
    "HeureDebut <- Sys.time()\n",
    "\n",
    "cas.table.addCaslib(conn,name=\"mycaslib\", path=\"/data/data/BDF_SMALL_DB\", dataSource={srcType=\"dnfs\"})\n",
    "#cas.table.addCaslib(conn,name=\"mycaslib\", path=\"/SAS/BDF\", dataSource={srcType=\"dnfs\"})\n",
    "out <- cas.sessionProp.setSessOpt(conn,caslib='casuser')"
   ]
  },
  {
   "cell_type": "markdown",
   "metadata": {},
   "source": [
    "# Chargement en memoire de tous les fichiers CSV en entree (referentiel et agregats) pour l'utilisation ulterieure."
   ]
  },
  {
   "cell_type": "code",
   "execution_count": 17,
   "metadata": {},
   "outputs": [
    {
     "name": "stderr",
     "output_type": "stream",
     "text": [
      "NOTE: Executing action 'table.fileInfo'.\n",
      "NOTE: L'action 'table.fileInfo' a utilisé (Temps d'exécution total) :\n",
      "NOTE:       temps réel              0,003360 secondes\n",
      "NOTE:       temps UC                0,003156 secondes (93,93 %)\n",
      "NOTE:       total nodes             1 (8 cores)\n",
      "NOTE:       mémoire totale           31,26 Go\n",
      "NOTE:       mémoire                 703,06 Ko (0,00 %)\n"
     ]
    },
    {
     "name": "stdout",
     "output_type": "stream",
     "text": [
      "[1] \"D1\"\n"
     ]
    },
    {
     "name": "stderr",
     "output_type": "stream",
     "text": [
      "NOTE: Executing action 'table.dropTable'.\n",
      "NOTE: L'action 'table.dropTable' a utilisé (Temps d'exécution total) :\n",
      "NOTE:       temps réel              0,000826 secondes\n",
      "NOTE:       temps UC                0,000591 secondes (71,55 %)\n",
      "NOTE:       total nodes             1 (8 cores)\n",
      "NOTE:       mémoire totale           31,26 Go\n",
      "NOTE:       mémoire                 281,03 Ko (0,00 %)\n",
      "NOTE: Executing action 'table.loadTable'.\n",
      "NOTE: Cloud Analytic Services made the DNFS file D1.csv available as table D1 in caslib CASUSER(sasdemo).\n",
      "NOTE: L'action 'table.loadTable' a utilisé (Temps d'exécution total) :\n",
      "NOTE:       temps réel              1,668531 secondes\n",
      "NOTE:       temps UC                6,484963 secondes (388,66 %)\n",
      "NOTE:       total nodes             1 (8 cores)\n",
      "NOTE:       mémoire totale           31,26 Go\n",
      "NOTE:       mémoire                 165,59 Mo (0,52 %)\n"
     ]
    },
    {
     "name": "stdout",
     "output_type": "stream",
     "text": [
      "[1] \"D2\"\n"
     ]
    },
    {
     "name": "stderr",
     "output_type": "stream",
     "text": [
      "NOTE: Executing action 'table.dropTable'.\n",
      "NOTE: L'action 'table.dropTable' a utilisé (Temps d'exécution total) :\n",
      "NOTE:       temps réel              0,000853 secondes\n",
      "NOTE:       temps UC                0,000624 secondes (73,15 %)\n",
      "NOTE:       total nodes             1 (8 cores)\n",
      "NOTE:       mémoire totale           31,26 Go\n",
      "NOTE:       mémoire                 299,41 Ko (0,00 %)\n",
      "NOTE: Executing action 'table.loadTable'.\n",
      "NOTE: Cloud Analytic Services made the DNFS file D2.csv available as table D2 in caslib CASUSER(sasdemo).\n",
      "NOTE: L'action 'table.loadTable' a utilisé (Temps d'exécution total) :\n",
      "NOTE:       temps réel              0,375177 secondes\n",
      "NOTE:       temps UC                1,341192 secondes (357,48 %)\n",
      "NOTE:       total nodes             1 (8 cores)\n",
      "NOTE:       mémoire totale           31,26 Go\n",
      "NOTE:       mémoire                 148,14 Mo (0,46 %)\n"
     ]
    },
    {
     "name": "stdout",
     "output_type": "stream",
     "text": [
      "[1] \"D3\"\n"
     ]
    },
    {
     "name": "stderr",
     "output_type": "stream",
     "text": [
      "NOTE: Executing action 'table.dropTable'.\n",
      "NOTE: L'action 'table.dropTable' a utilisé (Temps d'exécution total) :\n",
      "NOTE:       temps réel              0,000692 secondes\n",
      "NOTE:       temps UC                0,000558 secondes (80,64 %)\n",
      "NOTE:       total nodes             1 (8 cores)\n",
      "NOTE:       mémoire totale           31,26 Go\n",
      "NOTE:       mémoire                 299,41 Ko (0,00 %)\n",
      "NOTE: Executing action 'table.loadTable'.\n",
      "NOTE: Cloud Analytic Services made the DNFS file D3.csv available as table D3 in caslib CASUSER(sasdemo).\n",
      "NOTE: L'action 'table.loadTable' a utilisé (Temps d'exécution total) :\n",
      "NOTE:       temps réel              1,245800 secondes\n",
      "NOTE:       temps UC                6,195510 secondes (497,31 %)\n",
      "NOTE:       total nodes             1 (8 cores)\n",
      "NOTE:       mémoire totale           31,26 Go\n",
      "NOTE:       mémoire                 164,00 Mo (0,51 %)\n"
     ]
    },
    {
     "name": "stdout",
     "output_type": "stream",
     "text": [
      "[1] \"D\"\n"
     ]
    },
    {
     "name": "stderr",
     "output_type": "stream",
     "text": [
      "NOTE: Executing action 'table.dropTable'.\n",
      "NOTE: L'action 'table.dropTable' a utilisé (Temps d'exécution total) :\n",
      "NOTE:       temps réel              0,000730 secondes\n",
      "NOTE:       temps UC                0,000584 secondes (80,00 %)\n",
      "NOTE:       total nodes             1 (8 cores)\n",
      "NOTE:       mémoire totale           31,26 Go\n",
      "NOTE:       mémoire                 299,41 Ko (0,00 %)\n",
      "NOTE: Executing action 'table.loadTable'.\n",
      "NOTE: Cloud Analytic Services made the DNFS file D.csv available as table D in caslib CASUSER(sasdemo).\n",
      "NOTE: L'action 'table.loadTable' a utilisé (Temps d'exécution total) :\n",
      "NOTE:       temps réel              1,881551 secondes\n",
      "NOTE:       temps UC                8,431969 secondes (448,14 %)\n",
      "NOTE:       total nodes             1 (8 cores)\n",
      "NOTE:       mémoire totale           31,26 Go\n",
      "NOTE:       mémoire                 174,48 Mo (0,55 %)\n"
     ]
    },
    {
     "name": "stdout",
     "output_type": "stream",
     "text": [
      "[1] \"F\"\n"
     ]
    },
    {
     "name": "stderr",
     "output_type": "stream",
     "text": [
      "NOTE: Executing action 'table.dropTable'.\n",
      "NOTE: L'action 'table.dropTable' a utilisé (Temps d'exécution total) :\n",
      "NOTE:       temps réel              0,001028 secondes\n",
      "NOTE:       temps UC                0,000707 secondes (68,77 %)\n",
      "NOTE:       total nodes             1 (8 cores)\n",
      "NOTE:       mémoire totale           31,26 Go\n",
      "NOTE:       mémoire                 283,56 Ko (0,00 %)\n",
      "NOTE: Executing action 'table.loadTable'.\n",
      "NOTE: Cloud Analytic Services made the DNFS file F.csv available as table F in caslib CASUSER(sasdemo).\n",
      "NOTE: L'action 'table.loadTable' a utilisé (Temps d'exécution total) :\n",
      "NOTE:       temps réel              0,128558 secondes\n",
      "NOTE:       temps UC                0,121457 secondes (94,48 %)\n",
      "NOTE:       total nodes             1 (8 cores)\n",
      "NOTE:       mémoire totale           31,26 Go\n",
      "NOTE:       mémoire                 131,26 Mo (0,41 %)\n"
     ]
    },
    {
     "name": "stdout",
     "output_type": "stream",
     "text": [
      "[1] \"O\"\n"
     ]
    },
    {
     "name": "stderr",
     "output_type": "stream",
     "text": [
      "NOTE: Executing action 'table.dropTable'.\n",
      "NOTE: L'action 'table.dropTable' a utilisé (Temps d'exécution total) :\n",
      "NOTE:       temps réel              0,001930 secondes\n",
      "NOTE:       temps UC                0,001215 secondes (62,95 %)\n",
      "NOTE:       total nodes             1 (8 cores)\n",
      "NOTE:       mémoire totale           31,26 Go\n",
      "NOTE:       mémoire                 281,03 Ko (0,00 %)\n",
      "NOTE: Executing action 'table.loadTable'.\n",
      "NOTE: Cloud Analytic Services made the DNFS file O.csv available as table O in caslib CASUSER(sasdemo).\n",
      "NOTE: L'action 'table.loadTable' a utilisé (Temps d'exécution total) :\n",
      "NOTE:       temps réel              1,608445 secondes\n",
      "NOTE:       temps UC                7,015091 secondes (436,14 %)\n",
      "NOTE:       total nodes             1 (8 cores)\n",
      "NOTE:       mémoire totale           31,26 Go\n",
      "NOTE:       mémoire                 168,61 Mo (0,53 %)\n"
     ]
    },
    {
     "name": "stdout",
     "output_type": "stream",
     "text": [
      "[1] \"P\"\n"
     ]
    },
    {
     "name": "stderr",
     "output_type": "stream",
     "text": [
      "NOTE: Executing action 'table.dropTable'.\n",
      "NOTE: L'action 'table.dropTable' a utilisé (Temps d'exécution total) :\n",
      "NOTE:       temps réel              0,001633 secondes\n",
      "NOTE:       temps UC                0,001335 secondes (81,75 %)\n",
      "NOTE:       total nodes             1 (8 cores)\n",
      "NOTE:       mémoire totale           31,26 Go\n",
      "NOTE:       mémoire                 281,03 Ko (0,00 %)\n",
      "NOTE: Executing action 'table.loadTable'.\n",
      "NOTE: Cloud Analytic Services made the DNFS file P.csv available as table P in caslib CASUSER(sasdemo).\n",
      "NOTE: L'action 'table.loadTable' a utilisé (Temps d'exécution total) :\n",
      "NOTE:       temps réel              0,474480 secondes\n",
      "NOTE:       temps UC                2,122640 secondes (447,36 %)\n",
      "NOTE:       total nodes             1 (8 cores)\n",
      "NOTE:       mémoire totale           31,26 Go\n",
      "NOTE:       mémoire                 156,47 Mo (0,49 %)\n"
     ]
    },
    {
     "name": "stdout",
     "output_type": "stream",
     "text": [
      "[1] \"U1\"\n"
     ]
    },
    {
     "name": "stderr",
     "output_type": "stream",
     "text": [
      "NOTE: Executing action 'table.dropTable'.\n",
      "NOTE: L'action 'table.dropTable' a utilisé (Temps d'exécution total) :\n",
      "NOTE:       temps réel              0,000905 secondes\n",
      "NOTE:       temps UC                0,000728 secondes (80,44 %)\n",
      "NOTE:       total nodes             1 (8 cores)\n",
      "NOTE:       mémoire totale           31,26 Go\n",
      "NOTE:       mémoire                 283,56 Ko (0,00 %)\n",
      "NOTE: Executing action 'table.loadTable'.\n",
      "NOTE: Cloud Analytic Services made the DNFS file U1.csv available as table U1 in caslib CASUSER(sasdemo).\n",
      "NOTE: L'action 'table.loadTable' a utilisé (Temps d'exécution total) :\n",
      "NOTE:       temps réel              1,002005 secondes\n",
      "NOTE:       temps UC                4,651613 secondes (464,23 %)\n",
      "NOTE:       total nodes             1 (8 cores)\n",
      "NOTE:       mémoire totale           31,26 Go\n",
      "NOTE:       mémoire                 161,31 Mo (0,50 %)\n"
     ]
    },
    {
     "name": "stdout",
     "output_type": "stream",
     "text": [
      "[1] \"U2\"\n"
     ]
    },
    {
     "name": "stderr",
     "output_type": "stream",
     "text": [
      "NOTE: Executing action 'table.dropTable'.\n",
      "NOTE: L'action 'table.dropTable' a utilisé (Temps d'exécution total) :\n",
      "NOTE:       temps réel              0,001599 secondes\n",
      "NOTE:       temps UC                0,001214 secondes (75,92 %)\n",
      "NOTE:       total nodes             1 (8 cores)\n",
      "NOTE:       mémoire totale           31,26 Go\n",
      "NOTE:       mémoire                 281,03 Ko (0,00 %)\n",
      "NOTE: Executing action 'table.loadTable'.\n",
      "NOTE: Cloud Analytic Services made the DNFS file U2.csv available as table U2 in caslib CASUSER(sasdemo).\n",
      "NOTE: L'action 'table.loadTable' a utilisé (Temps d'exécution total) :\n",
      "NOTE:       temps réel              1,042795 secondes\n",
      "NOTE:       temps UC                4,089252 secondes (392,14 %)\n",
      "NOTE:       total nodes             1 (8 cores)\n",
      "NOTE:       mémoire totale           31,26 Go\n",
      "NOTE:       mémoire                 161,42 Mo (0,50 %)\n"
     ]
    },
    {
     "name": "stdout",
     "output_type": "stream",
     "text": [
      "[1] \"U3\"\n"
     ]
    },
    {
     "name": "stderr",
     "output_type": "stream",
     "text": [
      "NOTE: Executing action 'table.dropTable'.\n",
      "NOTE: L'action 'table.dropTable' a utilisé (Temps d'exécution total) :\n",
      "NOTE:       temps réel              0,001332 secondes\n",
      "NOTE:       temps UC                0,000579 secondes (43,47 %)\n",
      "NOTE:       total nodes             1 (8 cores)\n",
      "NOTE:       mémoire totale           31,26 Go\n",
      "NOTE:       mémoire                 281,03 Ko (0,00 %)\n",
      "NOTE: Executing action 'table.loadTable'.\n",
      "NOTE: Cloud Analytic Services made the DNFS file U3.csv available as table U3 in caslib CASUSER(sasdemo).\n",
      "NOTE: L'action 'table.loadTable' a utilisé (Temps d'exécution total) :\n",
      "NOTE:       temps réel              0,321591 secondes\n",
      "NOTE:       temps UC                1,079586 secondes (335,70 %)\n",
      "NOTE:       total nodes             1 (8 cores)\n",
      "NOTE:       mémoire totale           31,26 Go\n",
      "NOTE:       mémoire                 147,02 Mo (0,46 %)\n"
     ]
    },
    {
     "name": "stdout",
     "output_type": "stream",
     "text": [
      "[1] \"Z\"\n"
     ]
    },
    {
     "name": "stderr",
     "output_type": "stream",
     "text": [
      "NOTE: Executing action 'table.dropTable'.\n",
      "NOTE: L'action 'table.dropTable' a utilisé (Temps d'exécution total) :\n",
      "NOTE:       temps réel              0,000678 secondes\n",
      "NOTE:       temps UC                0,000573 secondes (84,51 %)\n",
      "NOTE:       total nodes             1 (8 cores)\n",
      "NOTE:       mémoire totale           31,26 Go\n",
      "NOTE:       mémoire                 281,03 Ko (0,00 %)\n",
      "NOTE: Executing action 'table.loadTable'.\n",
      "NOTE: Cloud Analytic Services made the DNFS file Z.csv available as table Z in caslib CASUSER(sasdemo).\n",
      "NOTE: L'action 'table.loadTable' a utilisé (Temps d'exécution total) :\n",
      "NOTE:       temps réel              0,445888 secondes\n",
      "NOTE:       temps UC                1,506852 secondes (337,94 %)\n",
      "NOTE:       total nodes             1 (8 cores)\n",
      "NOTE:       mémoire totale           31,26 Go\n",
      "NOTE:       mémoire                 148,13 Mo (0,46 %)\n"
     ]
    },
    {
     "name": "stdout",
     "output_type": "stream",
     "text": [
      "[1] \"TablePaysZone\"\n"
     ]
    },
    {
     "name": "stderr",
     "output_type": "stream",
     "text": [
      "NOTE: Executing action 'table.dropTable'.\n",
      "NOTE: L'action 'table.dropTable' a utilisé (Temps d'exécution total) :\n",
      "NOTE:       temps réel              0,001336 secondes\n",
      "NOTE:       temps UC                0,000798 secondes (59,73 %)\n",
      "NOTE:       total nodes             1 (8 cores)\n",
      "NOTE:       mémoire totale           31,26 Go\n",
      "NOTE:       mémoire                 281,03 Ko (0,00 %)\n",
      "NOTE: Executing action 'table.loadTable'.\n",
      "NOTE: Cloud Analytic Services made the DNFS file TablePaysZone.csv available as table TABLEPAYSZONE in caslib CASUSER(sasdemo).\n",
      "NOTE: L'action 'table.loadTable' a utilisé (Temps d'exécution total) :\n",
      "NOTE:       temps réel              0,050436 secondes\n",
      "NOTE:       temps UC                0,046209 secondes (91,62 %)\n",
      "NOTE:       total nodes             1 (8 cores)\n",
      "NOTE:       mémoire totale           31,26 Go\n",
      "NOTE:       mémoire                 129,51 Mo (0,40 %)\n"
     ]
    },
    {
     "name": "stdout",
     "output_type": "stream",
     "text": [
      "[1] \"PlanAgregation\"\n"
     ]
    },
    {
     "name": "stderr",
     "output_type": "stream",
     "text": [
      "NOTE: Executing action 'table.dropTable'.\n",
      "NOTE: L'action 'table.dropTable' a utilisé (Temps d'exécution total) :\n",
      "NOTE:       temps réel              0,001560 secondes\n",
      "NOTE:       temps UC                0,000463 secondes (29,68 %)\n",
      "NOTE:       total nodes             1 (8 cores)\n",
      "NOTE:       mémoire totale           31,26 Go\n",
      "NOTE:       mémoire                 281,03 Ko (0,00 %)\n",
      "NOTE: Executing action 'table.loadTable'.\n",
      "NOTE: Cloud Analytic Services made the DNFS file PlanAgregation.csv available as table PLANAGREGATION in caslib CASUSER(sasdemo).\n",
      "NOTE: L'action 'table.loadTable' a utilisé (Temps d'exécution total) :\n",
      "NOTE:       temps réel              0,078094 secondes\n",
      "NOTE:       temps UC                0,075295 secondes (96,42 %)\n",
      "NOTE:       total nodes             1 (8 cores)\n",
      "NOTE:       mémoire totale           31,26 Go\n",
      "NOTE:       mémoire                 129,71 Mo (0,41 %)\n"
     ]
    }
   ],
   "source": [
    "import_all_csv_in_memory(conn, 'mycaslib','casuser')"
   ]
  },
  {
   "cell_type": "code",
   "execution_count": 18,
   "metadata": {},
   "outputs": [
    {
     "name": "stderr",
     "output_type": "stream",
     "text": [
      "NOTE: Executing action 'table.tableInfo'.\n",
      "NOTE: L'action 'table.tableInfo' a utilisé (Temps d'exécution total) :\n",
      "NOTE:       temps réel              0,005580 secondes\n",
      "NOTE:       temps UC                0,005308 secondes (95,13 %)\n",
      "NOTE:       total nodes             1 (8 cores)\n",
      "NOTE:       mémoire totale           31,26 Go\n",
      "NOTE:       mémoire                 720,34 Ko (0,00 %)\n"
     ]
    },
    {
     "data": {
      "text/html": [
       "<strong>$TableInfo</strong> = <table>\n",
       "<thead><tr><th scope=col>Name</th><th scope=col>Rows</th><th scope=col>Columns</th><th scope=col>IndexedColumns</th><th scope=col>Encoding</th><th scope=col>CreateTimeFormatted</th><th scope=col>ModTimeFormatted</th><th scope=col>AccessTimeFormatted</th><th scope=col>JavaCharSet</th><th scope=col>CreateTime</th><th scope=col>...</th><th scope=col>Repeated</th><th scope=col>View</th><th scope=col>MultiPart</th><th scope=col>SourceName</th><th scope=col>SourceCaslib</th><th scope=col>Compressed</th><th scope=col>Creator</th><th scope=col>Modifier</th><th scope=col>SourceModTimeFormatted</th><th scope=col>SourceModTime</th></tr></thead>\n",
       "<tbody>\n",
       "\t<tr><td>D1                       </td><td>216482                   </td><td> 8                       </td><td>0                        </td><td>utf-8                    </td><td>2020-04-24T11:16:45+02:00</td><td>2020-04-24T11:16:45+02:00</td><td>2020-04-24T11:16:45+02:00</td><td>UTF8                     </td><td>1903339005               </td><td>...                      </td><td>0                        </td><td>0                        </td><td>0                        </td><td>D1.csv                   </td><td>mycaslib                 </td><td>0                        </td><td>sasdemo                  </td><td>                         </td><td>2020-04-06T15:46:33+02:00</td><td>1901799993               </td></tr>\n",
       "\t<tr><td>D2                       </td><td> 64725                   </td><td> 8                       </td><td>0                        </td><td>utf-8                    </td><td>2020-04-24T11:16:47+02:00</td><td>2020-04-24T11:16:47+02:00</td><td>2020-04-24T11:16:47+02:00</td><td>UTF8                     </td><td>1903339007               </td><td>...                      </td><td>0                        </td><td>0                        </td><td>0                        </td><td>D2.csv                   </td><td>mycaslib                 </td><td>0                        </td><td>sasdemo                  </td><td>                         </td><td>2020-04-06T15:46:51+02:00</td><td>1901800011               </td></tr>\n",
       "\t<tr><td>D3                       </td><td>181969                   </td><td> 8                       </td><td>0                        </td><td>utf-8                    </td><td>2020-04-24T11:16:48+02:00</td><td>2020-04-24T11:16:48+02:00</td><td>2020-04-24T11:16:48+02:00</td><td>UTF8                     </td><td>1903339008               </td><td>...                      </td><td>0                        </td><td>0                        </td><td>0                        </td><td>D3.csv                   </td><td>mycaslib                 </td><td>0                        </td><td>sasdemo                  </td><td>                         </td><td>2020-04-06T15:47:37+02:00</td><td>1901800057               </td></tr>\n",
       "\t<tr><td>D                        </td><td>320389                   </td><td> 8                       </td><td>0                        </td><td>utf-8                    </td><td>2020-04-24T11:16:49+02:00</td><td>2020-04-24T11:16:49+02:00</td><td>2020-04-24T11:16:49+02:00</td><td>UTF8                     </td><td>1903339009               </td><td>...                      </td><td>0                        </td><td>0                        </td><td>0                        </td><td>D.csv                    </td><td>mycaslib                 </td><td>0                        </td><td>sasdemo                  </td><td>                         </td><td>2020-04-06T15:49:03+02:00</td><td>1901800143               </td></tr>\n",
       "\t<tr><td>F                        </td><td>  5974                   </td><td> 8                       </td><td>0                        </td><td>utf-8                    </td><td>2020-04-24T11:16:51+02:00</td><td>2020-04-24T11:16:51+02:00</td><td>2020-04-24T11:16:51+02:00</td><td>UTF8                     </td><td>1903339011               </td><td>...                      </td><td>0                        </td><td>0                        </td><td>0                        </td><td>F.csv                    </td><td>mycaslib                 </td><td>0                        </td><td>sasdemo                  </td><td>                         </td><td>2020-04-06T15:49:06+02:00</td><td>1901800146               </td></tr>\n",
       "\t<tr><td>O                        </td><td>283449                   </td><td> 8                       </td><td>0                        </td><td>utf-8                    </td><td>2020-04-24T11:16:52+02:00</td><td>2020-04-24T11:16:52+02:00</td><td>2020-04-24T11:16:52+02:00</td><td>UTF8                     </td><td>1903339012               </td><td>...                      </td><td>0                        </td><td>0                        </td><td>0                        </td><td>O.csv                    </td><td>mycaslib                 </td><td>0                        </td><td>sasdemo                  </td><td>                         </td><td>2020-04-06T15:50:16+02:00</td><td>1901800216               </td></tr>\n",
       "\t<tr><td>P                        </td><td> 95308                   </td><td> 8                       </td><td>0                        </td><td>utf-8                    </td><td>2020-04-24T11:16:54+02:00</td><td>2020-04-24T11:16:54+02:00</td><td>2020-04-24T11:16:54+02:00</td><td>UTF8                     </td><td>1903339014               </td><td>...                      </td><td>0                        </td><td>0                        </td><td>0                        </td><td>P.csv                    </td><td>mycaslib                 </td><td>0                        </td><td>sasdemo                  </td><td>                         </td><td>2020-04-06T15:50:38+02:00</td><td>1901800238               </td></tr>\n",
       "\t<tr><td>U1                       </td><td>148350                   </td><td> 8                       </td><td>0                        </td><td>utf-8                    </td><td>2020-04-24T11:16:54+02:00</td><td>2020-04-24T11:16:54+02:00</td><td>2020-04-24T11:16:54+02:00</td><td>UTF8                     </td><td>1903339014               </td><td>...                      </td><td>0                        </td><td>0                        </td><td>0                        </td><td>U1.csv                   </td><td>mycaslib                 </td><td>0                        </td><td>sasdemo                  </td><td>                         </td><td>2020-04-06T15:51:17+02:00</td><td>1901800277               </td></tr>\n",
       "\t<tr><td>U2                       </td><td>133907                   </td><td> 8                       </td><td>0                        </td><td>utf-8                    </td><td>2020-04-24T11:16:56+02:00</td><td>2020-04-24T11:16:56+02:00</td><td>2020-04-24T11:16:56+02:00</td><td>UTF8                     </td><td>1903339016               </td><td>...                      </td><td>0                        </td><td>0                        </td><td>0                        </td><td>U2.csv                   </td><td>mycaslib                 </td><td>0                        </td><td>sasdemo                  </td><td>                         </td><td>2020-04-06T15:51:52+02:00</td><td>1901800312               </td></tr>\n",
       "\t<tr><td>U3                       </td><td> 60779                   </td><td> 8                       </td><td>0                        </td><td>utf-8                    </td><td>2020-04-24T11:16:57+02:00</td><td>2020-04-24T11:16:57+02:00</td><td>2020-04-24T11:16:57+02:00</td><td>UTF8                     </td><td>1903339017               </td><td>...                      </td><td>0                        </td><td>0                        </td><td>0                        </td><td>U3.csv                   </td><td>mycaslib                 </td><td>0                        </td><td>sasdemo                  </td><td>                         </td><td>2020-04-06T15:52:09+02:00</td><td>1901800329               </td></tr>\n",
       "\t<tr><td>Z                        </td><td> 64869                   </td><td> 8                       </td><td>0                        </td><td>utf-8                    </td><td>2020-04-24T11:16:57+02:00</td><td>2020-04-24T11:16:57+02:00</td><td>2020-04-24T11:16:57+02:00</td><td>UTF8                     </td><td>1903339017               </td><td>...                      </td><td>0                        </td><td>0                        </td><td>0                        </td><td>Z.csv                    </td><td>mycaslib                 </td><td>0                        </td><td>sasdemo                  </td><td>                         </td><td>2020-04-06T15:52:26+02:00</td><td>1901800346               </td></tr>\n",
       "\t<tr><td>TABLEPAYSZONE            </td><td>  3953                   </td><td> 5                       </td><td>0                        </td><td>utf-8                    </td><td>2020-04-24T11:16:58+02:00</td><td>2020-04-24T11:16:58+02:00</td><td>2020-04-24T11:16:58+02:00</td><td>UTF8                     </td><td>1903339018               </td><td>...                      </td><td>0                        </td><td>0                        </td><td>0                        </td><td>TablePaysZone.csv        </td><td>mycaslib                 </td><td>0                        </td><td>sasdemo                  </td><td>                         </td><td>2020-04-07T08:51:52+02:00</td><td>1901861512               </td></tr>\n",
       "\t<tr><td>PLANAGREGATION           </td><td>   533                   </td><td>41                       </td><td>0                        </td><td>utf-8                    </td><td>2020-04-24T11:16:58+02:00</td><td>2020-04-24T11:16:58+02:00</td><td>2020-04-24T11:16:58+02:00</td><td>UTF8                     </td><td>1903339018               </td><td>...                      </td><td>0                        </td><td>0                        </td><td>0                        </td><td>PlanAgregation.csv       </td><td>mycaslib                 </td><td>0                        </td><td>sasdemo                  </td><td>                         </td><td>2020-04-07T08:51:52+02:00</td><td>1901861512               </td></tr>\n",
       "</tbody>\n",
       "</table>\n"
      ],
      "text/latex": [
       "\\textbf{\\$TableInfo} = \\begin{tabular}{r|lllllllllllllllllllllll}\n",
       " Name & Rows & Columns & IndexedColumns & Encoding & CreateTimeFormatted & ModTimeFormatted & AccessTimeFormatted & JavaCharSet & CreateTime & ... & Repeated & View & MultiPart & SourceName & SourceCaslib & Compressed & Creator & Modifier & SourceModTimeFormatted & SourceModTime\\\\\n",
       "\\hline\n",
       "\t D1                        & 216482                    &  8                        & 0                         & utf-8                     & 2020-04-24T11:16:45+02:00 & 2020-04-24T11:16:45+02:00 & 2020-04-24T11:16:45+02:00 & UTF8                      & 1903339005                & ...                       & 0                         & 0                         & 0                         & D1.csv                    & mycaslib                  & 0                         & sasdemo                   &                           & 2020-04-06T15:46:33+02:00 & 1901799993               \\\\\n",
       "\t D2                        &  64725                    &  8                        & 0                         & utf-8                     & 2020-04-24T11:16:47+02:00 & 2020-04-24T11:16:47+02:00 & 2020-04-24T11:16:47+02:00 & UTF8                      & 1903339007                & ...                       & 0                         & 0                         & 0                         & D2.csv                    & mycaslib                  & 0                         & sasdemo                   &                           & 2020-04-06T15:46:51+02:00 & 1901800011               \\\\\n",
       "\t D3                        & 181969                    &  8                        & 0                         & utf-8                     & 2020-04-24T11:16:48+02:00 & 2020-04-24T11:16:48+02:00 & 2020-04-24T11:16:48+02:00 & UTF8                      & 1903339008                & ...                       & 0                         & 0                         & 0                         & D3.csv                    & mycaslib                  & 0                         & sasdemo                   &                           & 2020-04-06T15:47:37+02:00 & 1901800057               \\\\\n",
       "\t D                         & 320389                    &  8                        & 0                         & utf-8                     & 2020-04-24T11:16:49+02:00 & 2020-04-24T11:16:49+02:00 & 2020-04-24T11:16:49+02:00 & UTF8                      & 1903339009                & ...                       & 0                         & 0                         & 0                         & D.csv                     & mycaslib                  & 0                         & sasdemo                   &                           & 2020-04-06T15:49:03+02:00 & 1901800143               \\\\\n",
       "\t F                         &   5974                    &  8                        & 0                         & utf-8                     & 2020-04-24T11:16:51+02:00 & 2020-04-24T11:16:51+02:00 & 2020-04-24T11:16:51+02:00 & UTF8                      & 1903339011                & ...                       & 0                         & 0                         & 0                         & F.csv                     & mycaslib                  & 0                         & sasdemo                   &                           & 2020-04-06T15:49:06+02:00 & 1901800146               \\\\\n",
       "\t O                         & 283449                    &  8                        & 0                         & utf-8                     & 2020-04-24T11:16:52+02:00 & 2020-04-24T11:16:52+02:00 & 2020-04-24T11:16:52+02:00 & UTF8                      & 1903339012                & ...                       & 0                         & 0                         & 0                         & O.csv                     & mycaslib                  & 0                         & sasdemo                   &                           & 2020-04-06T15:50:16+02:00 & 1901800216               \\\\\n",
       "\t P                         &  95308                    &  8                        & 0                         & utf-8                     & 2020-04-24T11:16:54+02:00 & 2020-04-24T11:16:54+02:00 & 2020-04-24T11:16:54+02:00 & UTF8                      & 1903339014                & ...                       & 0                         & 0                         & 0                         & P.csv                     & mycaslib                  & 0                         & sasdemo                   &                           & 2020-04-06T15:50:38+02:00 & 1901800238               \\\\\n",
       "\t U1                        & 148350                    &  8                        & 0                         & utf-8                     & 2020-04-24T11:16:54+02:00 & 2020-04-24T11:16:54+02:00 & 2020-04-24T11:16:54+02:00 & UTF8                      & 1903339014                & ...                       & 0                         & 0                         & 0                         & U1.csv                    & mycaslib                  & 0                         & sasdemo                   &                           & 2020-04-06T15:51:17+02:00 & 1901800277               \\\\\n",
       "\t U2                        & 133907                    &  8                        & 0                         & utf-8                     & 2020-04-24T11:16:56+02:00 & 2020-04-24T11:16:56+02:00 & 2020-04-24T11:16:56+02:00 & UTF8                      & 1903339016                & ...                       & 0                         & 0                         & 0                         & U2.csv                    & mycaslib                  & 0                         & sasdemo                   &                           & 2020-04-06T15:51:52+02:00 & 1901800312               \\\\\n",
       "\t U3                        &  60779                    &  8                        & 0                         & utf-8                     & 2020-04-24T11:16:57+02:00 & 2020-04-24T11:16:57+02:00 & 2020-04-24T11:16:57+02:00 & UTF8                      & 1903339017                & ...                       & 0                         & 0                         & 0                         & U3.csv                    & mycaslib                  & 0                         & sasdemo                   &                           & 2020-04-06T15:52:09+02:00 & 1901800329               \\\\\n",
       "\t Z                         &  64869                    &  8                        & 0                         & utf-8                     & 2020-04-24T11:16:57+02:00 & 2020-04-24T11:16:57+02:00 & 2020-04-24T11:16:57+02:00 & UTF8                      & 1903339017                & ...                       & 0                         & 0                         & 0                         & Z.csv                     & mycaslib                  & 0                         & sasdemo                   &                           & 2020-04-06T15:52:26+02:00 & 1901800346               \\\\\n",
       "\t TABLEPAYSZONE             &   3953                    &  5                        & 0                         & utf-8                     & 2020-04-24T11:16:58+02:00 & 2020-04-24T11:16:58+02:00 & 2020-04-24T11:16:58+02:00 & UTF8                      & 1903339018                & ...                       & 0                         & 0                         & 0                         & TablePaysZone.csv         & mycaslib                  & 0                         & sasdemo                   &                           & 2020-04-07T08:51:52+02:00 & 1901861512               \\\\\n",
       "\t PLANAGREGATION            &    533                    & 41                        & 0                         & utf-8                     & 2020-04-24T11:16:58+02:00 & 2020-04-24T11:16:58+02:00 & 2020-04-24T11:16:58+02:00 & UTF8                      & 1903339018                & ...                       & 0                         & 0                         & 0                         & PlanAgregation.csv        & mycaslib                  & 0                         & sasdemo                   &                           & 2020-04-07T08:51:52+02:00 & 1901861512               \\\\\n",
       "\\end{tabular}\n"
      ],
      "text/markdown": [
       "**$TableInfo** = \n",
       "| Name | Rows | Columns | IndexedColumns | Encoding | CreateTimeFormatted | ModTimeFormatted | AccessTimeFormatted | JavaCharSet | CreateTime | ... | Repeated | View | MultiPart | SourceName | SourceCaslib | Compressed | Creator | Modifier | SourceModTimeFormatted | SourceModTime |\n",
       "|---|---|---|---|---|---|---|---|---|---|---|---|---|---|---|---|---|---|---|---|---|\n",
       "| D1                        | 216482                    |  8                        | 0                         | utf-8                     | 2020-04-24T11:16:45+02:00 | 2020-04-24T11:16:45+02:00 | 2020-04-24T11:16:45+02:00 | UTF8                      | 1903339005                | ...                       | 0                         | 0                         | 0                         | D1.csv                    | mycaslib                  | 0                         | sasdemo                   |                           | 2020-04-06T15:46:33+02:00 | 1901799993                |\n",
       "| D2                        |  64725                    |  8                        | 0                         | utf-8                     | 2020-04-24T11:16:47+02:00 | 2020-04-24T11:16:47+02:00 | 2020-04-24T11:16:47+02:00 | UTF8                      | 1903339007                | ...                       | 0                         | 0                         | 0                         | D2.csv                    | mycaslib                  | 0                         | sasdemo                   |                           | 2020-04-06T15:46:51+02:00 | 1901800011                |\n",
       "| D3                        | 181969                    |  8                        | 0                         | utf-8                     | 2020-04-24T11:16:48+02:00 | 2020-04-24T11:16:48+02:00 | 2020-04-24T11:16:48+02:00 | UTF8                      | 1903339008                | ...                       | 0                         | 0                         | 0                         | D3.csv                    | mycaslib                  | 0                         | sasdemo                   |                           | 2020-04-06T15:47:37+02:00 | 1901800057                |\n",
       "| D                         | 320389                    |  8                        | 0                         | utf-8                     | 2020-04-24T11:16:49+02:00 | 2020-04-24T11:16:49+02:00 | 2020-04-24T11:16:49+02:00 | UTF8                      | 1903339009                | ...                       | 0                         | 0                         | 0                         | D.csv                     | mycaslib                  | 0                         | sasdemo                   |                           | 2020-04-06T15:49:03+02:00 | 1901800143                |\n",
       "| F                         |   5974                    |  8                        | 0                         | utf-8                     | 2020-04-24T11:16:51+02:00 | 2020-04-24T11:16:51+02:00 | 2020-04-24T11:16:51+02:00 | UTF8                      | 1903339011                | ...                       | 0                         | 0                         | 0                         | F.csv                     | mycaslib                  | 0                         | sasdemo                   |                           | 2020-04-06T15:49:06+02:00 | 1901800146                |\n",
       "| O                         | 283449                    |  8                        | 0                         | utf-8                     | 2020-04-24T11:16:52+02:00 | 2020-04-24T11:16:52+02:00 | 2020-04-24T11:16:52+02:00 | UTF8                      | 1903339012                | ...                       | 0                         | 0                         | 0                         | O.csv                     | mycaslib                  | 0                         | sasdemo                   |                           | 2020-04-06T15:50:16+02:00 | 1901800216                |\n",
       "| P                         |  95308                    |  8                        | 0                         | utf-8                     | 2020-04-24T11:16:54+02:00 | 2020-04-24T11:16:54+02:00 | 2020-04-24T11:16:54+02:00 | UTF8                      | 1903339014                | ...                       | 0                         | 0                         | 0                         | P.csv                     | mycaslib                  | 0                         | sasdemo                   |                           | 2020-04-06T15:50:38+02:00 | 1901800238                |\n",
       "| U1                        | 148350                    |  8                        | 0                         | utf-8                     | 2020-04-24T11:16:54+02:00 | 2020-04-24T11:16:54+02:00 | 2020-04-24T11:16:54+02:00 | UTF8                      | 1903339014                | ...                       | 0                         | 0                         | 0                         | U1.csv                    | mycaslib                  | 0                         | sasdemo                   |                           | 2020-04-06T15:51:17+02:00 | 1901800277                |\n",
       "| U2                        | 133907                    |  8                        | 0                         | utf-8                     | 2020-04-24T11:16:56+02:00 | 2020-04-24T11:16:56+02:00 | 2020-04-24T11:16:56+02:00 | UTF8                      | 1903339016                | ...                       | 0                         | 0                         | 0                         | U2.csv                    | mycaslib                  | 0                         | sasdemo                   |                           | 2020-04-06T15:51:52+02:00 | 1901800312                |\n",
       "| U3                        |  60779                    |  8                        | 0                         | utf-8                     | 2020-04-24T11:16:57+02:00 | 2020-04-24T11:16:57+02:00 | 2020-04-24T11:16:57+02:00 | UTF8                      | 1903339017                | ...                       | 0                         | 0                         | 0                         | U3.csv                    | mycaslib                  | 0                         | sasdemo                   |                           | 2020-04-06T15:52:09+02:00 | 1901800329                |\n",
       "| Z                         |  64869                    |  8                        | 0                         | utf-8                     | 2020-04-24T11:16:57+02:00 | 2020-04-24T11:16:57+02:00 | 2020-04-24T11:16:57+02:00 | UTF8                      | 1903339017                | ...                       | 0                         | 0                         | 0                         | Z.csv                     | mycaslib                  | 0                         | sasdemo                   |                           | 2020-04-06T15:52:26+02:00 | 1901800346                |\n",
       "| TABLEPAYSZONE             |   3953                    |  5                        | 0                         | utf-8                     | 2020-04-24T11:16:58+02:00 | 2020-04-24T11:16:58+02:00 | 2020-04-24T11:16:58+02:00 | UTF8                      | 1903339018                | ...                       | 0                         | 0                         | 0                         | TablePaysZone.csv         | mycaslib                  | 0                         | sasdemo                   |                           | 2020-04-07T08:51:52+02:00 | 1901861512                |\n",
       "| PLANAGREGATION            |    533                    | 41                        | 0                         | utf-8                     | 2020-04-24T11:16:58+02:00 | 2020-04-24T11:16:58+02:00 | 2020-04-24T11:16:58+02:00 | UTF8                      | 1903339018                | ...                       | 0                         | 0                         | 0                         | PlanAgregation.csv        | mycaslib                  | 0                         | sasdemo                   |                           | 2020-04-07T08:51:52+02:00 | 1901861512                |\n",
       "\n"
      ],
      "text/plain": [
       "$TableInfo\n",
       "             Name   Rows Columns IndexedColumns Encoding\n",
       "1              D1 216482       8              0    utf-8\n",
       "2              D2  64725       8              0    utf-8\n",
       "3              D3 181969       8              0    utf-8\n",
       "4               D 320389       8              0    utf-8\n",
       "5               F   5974       8              0    utf-8\n",
       "6               O 283449       8              0    utf-8\n",
       "7               P  95308       8              0    utf-8\n",
       "8              U1 148350       8              0    utf-8\n",
       "9              U2 133907       8              0    utf-8\n",
       "10             U3  60779       8              0    utf-8\n",
       "11              Z  64869       8              0    utf-8\n",
       "12  TABLEPAYSZONE   3953       5              0    utf-8\n",
       "13 PLANAGREGATION    533      41              0    utf-8\n",
       "         CreateTimeFormatted          ModTimeFormatted\n",
       "1  2020-04-24T11:16:45+02:00 2020-04-24T11:16:45+02:00\n",
       "2  2020-04-24T11:16:47+02:00 2020-04-24T11:16:47+02:00\n",
       "3  2020-04-24T11:16:48+02:00 2020-04-24T11:16:48+02:00\n",
       "4  2020-04-24T11:16:49+02:00 2020-04-24T11:16:49+02:00\n",
       "5  2020-04-24T11:16:51+02:00 2020-04-24T11:16:51+02:00\n",
       "6  2020-04-24T11:16:52+02:00 2020-04-24T11:16:52+02:00\n",
       "7  2020-04-24T11:16:54+02:00 2020-04-24T11:16:54+02:00\n",
       "8  2020-04-24T11:16:54+02:00 2020-04-24T11:16:54+02:00\n",
       "9  2020-04-24T11:16:56+02:00 2020-04-24T11:16:56+02:00\n",
       "10 2020-04-24T11:16:57+02:00 2020-04-24T11:16:57+02:00\n",
       "11 2020-04-24T11:16:57+02:00 2020-04-24T11:16:57+02:00\n",
       "12 2020-04-24T11:16:58+02:00 2020-04-24T11:16:58+02:00\n",
       "13 2020-04-24T11:16:58+02:00 2020-04-24T11:16:58+02:00\n",
       "         AccessTimeFormatted JavaCharSet CreateTime    ModTime AccessTime\n",
       "1  2020-04-24T11:16:45+02:00        UTF8 1903339005 1903339005 1903339005\n",
       "2  2020-04-24T11:16:47+02:00        UTF8 1903339007 1903339007 1903339007\n",
       "3  2020-04-24T11:16:48+02:00        UTF8 1903339008 1903339008 1903339008\n",
       "4  2020-04-24T11:16:49+02:00        UTF8 1903339009 1903339009 1903339009\n",
       "5  2020-04-24T11:16:51+02:00        UTF8 1903339011 1903339011 1903339011\n",
       "6  2020-04-24T11:16:52+02:00        UTF8 1903339012 1903339012 1903339012\n",
       "7  2020-04-24T11:16:54+02:00        UTF8 1903339014 1903339014 1903339014\n",
       "8  2020-04-24T11:16:54+02:00        UTF8 1903339014 1903339014 1903339014\n",
       "9  2020-04-24T11:16:56+02:00        UTF8 1903339016 1903339016 1903339016\n",
       "10 2020-04-24T11:16:57+02:00        UTF8 1903339017 1903339017 1903339017\n",
       "11 2020-04-24T11:16:57+02:00        UTF8 1903339017 1903339017 1903339017\n",
       "12 2020-04-24T11:16:58+02:00        UTF8 1903339018 1903339018 1903339018\n",
       "13 2020-04-24T11:16:58+02:00        UTF8 1903339018 1903339018 1903339018\n",
       "   Global Repeated View MultiPart         SourceName SourceCaslib Compressed\n",
       "1       0        0    0         0             D1.csv     mycaslib          0\n",
       "2       0        0    0         0             D2.csv     mycaslib          0\n",
       "3       0        0    0         0             D3.csv     mycaslib          0\n",
       "4       0        0    0         0              D.csv     mycaslib          0\n",
       "5       0        0    0         0              F.csv     mycaslib          0\n",
       "6       0        0    0         0              O.csv     mycaslib          0\n",
       "7       0        0    0         0              P.csv     mycaslib          0\n",
       "8       0        0    0         0             U1.csv     mycaslib          0\n",
       "9       0        0    0         0             U2.csv     mycaslib          0\n",
       "10      0        0    0         0             U3.csv     mycaslib          0\n",
       "11      0        0    0         0              Z.csv     mycaslib          0\n",
       "12      0        0    0         0  TablePaysZone.csv     mycaslib          0\n",
       "13      0        0    0         0 PlanAgregation.csv     mycaslib          0\n",
       "   Creator Modifier    SourceModTimeFormatted SourceModTime\n",
       "1  sasdemo          2020-04-06T15:46:33+02:00    1901799993\n",
       "2  sasdemo          2020-04-06T15:46:51+02:00    1901800011\n",
       "3  sasdemo          2020-04-06T15:47:37+02:00    1901800057\n",
       "4  sasdemo          2020-04-06T15:49:03+02:00    1901800143\n",
       "5  sasdemo          2020-04-06T15:49:06+02:00    1901800146\n",
       "6  sasdemo          2020-04-06T15:50:16+02:00    1901800216\n",
       "7  sasdemo          2020-04-06T15:50:38+02:00    1901800238\n",
       "8  sasdemo          2020-04-06T15:51:17+02:00    1901800277\n",
       "9  sasdemo          2020-04-06T15:51:52+02:00    1901800312\n",
       "10 sasdemo          2020-04-06T15:52:09+02:00    1901800329\n",
       "11 sasdemo          2020-04-06T15:52:26+02:00    1901800346\n",
       "12 sasdemo          2020-04-07T08:51:52+02:00    1901861512\n",
       "13 sasdemo          2020-04-07T08:51:52+02:00    1901861512\n"
      ]
     },
     "metadata": {},
     "output_type": "display_data"
    }
   ],
   "source": [
    "cas.table.tableInfo(conn,caslib=\"casuser\")"
   ]
  },
  {
   "cell_type": "markdown",
   "metadata": {},
   "source": [
    "## Concatenation totale de toutes les tables d'agregat en mémoire pour former une table nommee AGGTTECATEGORIE"
   ]
  },
  {
   "cell_type": "code",
   "execution_count": 19,
   "metadata": {},
   "outputs": [
    {
     "name": "stderr",
     "output_type": "stream",
     "text": [
      "NOTE: Executing action 'table.tableInfo'.\n",
      "NOTE: L'action 'table.tableInfo' a utilisé (Temps d'exécution total) :\n",
      "NOTE:       temps réel              0,005520 secondes\n",
      "NOTE:       temps UC                0,005168 secondes (93,62 %)\n",
      "NOTE:       total nodes             1 (8 cores)\n",
      "NOTE:       mémoire totale           31,26 Go\n",
      "NOTE:       mémoire                 714,81 Ko (0,00 %)\n",
      "NOTE: Executing action 'table.dropTable'.\n",
      "NOTE: L'action 'table.dropTable' a utilisé (Temps d'exécution total) :\n",
      "NOTE:       temps réel              0,001620 secondes\n",
      "NOTE:       temps UC                0,001369 secondes (84,51 %)\n",
      "NOTE:       total nodes             1 (8 cores)\n",
      "NOTE:       mémoire totale           31,26 Go\n",
      "NOTE:       mémoire                 281,03 Ko (0,00 %)\n",
      "NOTE: Executing action 'dataStep.runCode'.\n",
      "NOTE: L'action 'dataStep.runCode' a utilisé (Temps d'exécution total) :\n",
      "NOTE:       temps réel              0,505746 secondes\n",
      "NOTE:       temps UC                2,065581 secondes (408,42 %)\n",
      "NOTE:       total nodes             1 (8 cores)\n",
      "NOTE:       mémoire totale           31,26 Go\n",
      "NOTE:       mémoire                 26,75 Mo (0,08 %)\n",
      "NOTE: Executing action 'dataStep.runCode'.\n",
      "NOTE: L'action 'dataStep.runCode' a utilisé (Temps d'exécution total) :\n",
      "NOTE:       temps réel              0,286741 secondes\n",
      "NOTE:       temps UC                0,802974 secondes (280,03 %)\n",
      "NOTE:       total nodes             1 (8 cores)\n",
      "NOTE:       mémoire totale           31,26 Go\n",
      "NOTE:       mémoire                 5,26 Mo (0,02 %)\n",
      "NOTE: Executing action 'dataStep.runCode'.\n",
      "NOTE: L'action 'dataStep.runCode' a utilisé (Temps d'exécution total) :\n",
      "NOTE:       temps réel              0,428302 secondes\n",
      "NOTE:       temps UC                2,120507 secondes (495,10 %)\n",
      "NOTE:       total nodes             1 (8 cores)\n",
      "NOTE:       mémoire totale           31,26 Go\n",
      "NOTE:       mémoire                 7,34 Mo (0,02 %)\n",
      "NOTE: Executing action 'dataStep.runCode'.\n",
      "NOTE: L'action 'dataStep.runCode' a utilisé (Temps d'exécution total) :\n",
      "NOTE:       temps réel              0,770593 secondes\n",
      "NOTE:       temps UC                4,185227 secondes (543,12 %)\n",
      "NOTE:       total nodes             1 (8 cores)\n",
      "NOTE:       mémoire totale           31,26 Go\n",
      "NOTE:       mémoire                 5,27 Mo (0,02 %)\n",
      "NOTE: Executing action 'dataStep.runCode'.\n",
      "NOTE: L'action 'dataStep.runCode' a utilisé (Temps d'exécution total) :\n",
      "NOTE:       temps réel              0,050665 secondes\n",
      "NOTE:       temps UC                0,070913 secondes (139,96 %)\n",
      "NOTE:       total nodes             1 (8 cores)\n",
      "NOTE:       mémoire totale           31,26 Go\n",
      "NOTE:       mémoire                 5,12 Mo (0,02 %)\n",
      "NOTE: Executing action 'dataStep.runCode'.\n",
      "NOTE: L'action 'dataStep.runCode' a utilisé (Temps d'exécution total) :\n",
      "NOTE:       temps réel              0,755390 secondes\n",
      "NOTE:       temps UC                3,590681 secondes (475,34 %)\n",
      "NOTE:       total nodes             1 (8 cores)\n",
      "NOTE:       mémoire totale           31,26 Go\n",
      "NOTE:       mémoire                 5,27 Mo (0,02 %)\n",
      "NOTE: Executing action 'dataStep.runCode'.\n",
      "NOTE: L'action 'dataStep.runCode' a utilisé (Temps d'exécution total) :\n",
      "NOTE:       temps réel              0,271495 secondes\n",
      "NOTE:       temps UC                0,911806 secondes (335,85 %)\n",
      "NOTE:       total nodes             1 (8 cores)\n",
      "NOTE:       mémoire totale           31,26 Go\n",
      "NOTE:       mémoire                 5,55 Mo (0,02 %)\n",
      "NOTE: Executing action 'dataStep.runCode'.\n",
      "NOTE: L'action 'dataStep.runCode' a utilisé (Temps d'exécution total) :\n",
      "NOTE:       temps réel              0,546385 secondes\n",
      "NOTE:       temps UC                1,769079 secondes (323,78 %)\n",
      "NOTE:       total nodes             1 (8 cores)\n",
      "NOTE:       mémoire totale           31,26 Go\n",
      "NOTE:       mémoire                 5,27 Mo (0,02 %)\n",
      "NOTE: Executing action 'dataStep.runCode'.\n",
      "NOTE: L'action 'dataStep.runCode' a utilisé (Temps d'exécution total) :\n",
      "NOTE:       temps réel              0,411595 secondes\n",
      "NOTE:       temps UC                1,312698 secondes (318,93 %)\n",
      "NOTE:       total nodes             1 (8 cores)\n",
      "NOTE:       mémoire totale           31,26 Go\n",
      "NOTE:       mémoire                 5,96 Mo (0,02 %)\n",
      "NOTE: Executing action 'dataStep.runCode'.\n",
      "NOTE: L'action 'dataStep.runCode' a utilisé (Temps d'exécution total) :\n",
      "NOTE:       temps réel              0,080521 secondes\n",
      "NOTE:       temps UC                0,269113 secondes (334,21 %)\n",
      "NOTE:       total nodes             1 (8 cores)\n",
      "NOTE:       mémoire totale           31,26 Go\n",
      "NOTE:       mémoire                 5,27 Mo (0,02 %)\n",
      "NOTE: Executing action 'dataStep.runCode'.\n",
      "NOTE: L'action 'dataStep.runCode' a utilisé (Temps d'exécution total) :\n",
      "NOTE:       temps réel              0,188079 secondes\n",
      "NOTE:       temps UC                0,521857 secondes (277,47 %)\n",
      "NOTE:       total nodes             1 (8 cores)\n",
      "NOTE:       mémoire totale           31,26 Go\n",
      "NOTE:       mémoire                 5,27 Mo (0,02 %)\n",
      "NOTE: Executing action 'table.columnInfo'.\n",
      "NOTE: L'action 'table.columnInfo' a utilisé (Temps d'exécution total) :\n",
      "NOTE:       temps réel              0,001146 secondes\n",
      "NOTE:       temps UC                0,001102 secondes (96,16 %)\n",
      "NOTE:       total nodes             1 (8 cores)\n",
      "NOTE:       mémoire totale           31,26 Go\n",
      "NOTE:       mémoire                 831,97 Ko (0,00 %)\n",
      "NOTE: Executing action 'simple.numRows'.\n",
      "NOTE: L'action 'simple.numRows' a utilisé (Temps d'exécution total) :\n",
      "NOTE:       temps réel              0,001073 secondes\n",
      "NOTE:       temps UC                0,001021 secondes (95,15 %)\n",
      "NOTE:       total nodes             1 (8 cores)\n",
      "NOTE:       mémoire totale           31,26 Go\n",
      "NOTE:       mémoire                 449,66 Ko (0,00 %)\n"
     ]
    },
    {
     "data": {
      "text/html": [
       "1576201"
      ],
      "text/latex": [
       "1576201"
      ],
      "text/markdown": [
       "1576201"
      ],
      "text/plain": [
       "[1] 1576201"
      ]
     },
     "metadata": {},
     "output_type": "display_data"
    }
   ],
   "source": [
    "cas_concat_all_tables(conn, \"casuser\",\"casuser\",\"AGGTTECATEGORIE\")\n",
    "table_AggregationMensuelleTouteCategorie <- defCasTable(conn, tablename='AGGTTECATEGORIE', caslib='casuser')\n",
    "nrow(table_AggregationMensuelleTouteCategorie)"
   ]
  },
  {
   "cell_type": "markdown",
   "metadata": {},
   "source": [
    "## Produire la repartition en nombre d'enregistrements par categorie a partir de l'agregation faite en memoire par le moteur CAS sur la table globale AGGTTECATEGORIE et la recuperation de ces agregats en entree de la fonction PIE de R"
   ]
  },
  {
   "cell_type": "code",
   "execution_count": 20,
   "metadata": {
    "jupyter": {
     "source_hidden": true
    }
   },
   "outputs": [
    {
     "name": "stderr",
     "output_type": "stream",
     "text": [
      "NOTE: Executing action 'simple.freq'.\n",
      "NOTE: L'action 'simple.freq' a utilisé (Temps d'exécution total) :\n",
      "NOTE:       temps réel              0,171757 secondes\n",
      "NOTE:       temps UC                1,177043 secondes (685,30 %)\n",
      "NOTE:       total nodes             1 (8 cores)\n",
      "NOTE:       mémoire totale           31,26 Go\n",
      "NOTE:       mémoire                 3,90 Mo (0,01 %)\n"
     ]
    },
    {
     "data": {
      "text/html": [
       "<strong>$OutputCasTables</strong> = <table>\n",
       "<thead><tr><th scope=col>casLib</th><th scope=col>Name</th><th scope=col>Rows</th><th scope=col>Columns</th></tr></thead>\n",
       "<tbody>\n",
       "\t<tr><td>CASUSER(sasdemo)    </td><td>AGGTTECATEGORIE_freq</td><td>11                  </td><td>5                   </td></tr>\n",
       "</tbody>\n",
       "</table>\n"
      ],
      "text/latex": [
       "\\textbf{\\$OutputCasTables} = \\begin{tabular}{r|llll}\n",
       " casLib & Name & Rows & Columns\\\\\n",
       "\\hline\n",
       "\t CASUSER(sasdemo)       & AGGTTECATEGORIE\\_freq & 11                     & 5                     \\\\\n",
       "\\end{tabular}\n"
      ],
      "text/markdown": [
       "**$OutputCasTables** = \n",
       "| casLib | Name | Rows | Columns |\n",
       "|---|---|---|---|\n",
       "| CASUSER(sasdemo)     | AGGTTECATEGORIE_freq | 11                   | 5                    |\n",
       "\n"
      ],
      "text/plain": [
       "$OutputCasTables\n",
       "            casLib                 Name Rows Columns\n",
       "1 CASUSER(sasdemo) AGGTTECATEGORIE_freq   11       5\n"
      ]
     },
     "metadata": {},
     "output_type": "display_data"
    },
    {
     "name": "stderr",
     "output_type": "stream",
     "text": [
      "NOTE: Executing action 'table.fetch'.\n",
      "NOTE: L'action 'table.fetch' a utilisé (Temps d'exécution total) :\n",
      "NOTE:       temps réel              0,002015 secondes\n",
      "NOTE:       temps UC                0,001969 secondes (97,72 %)\n",
      "NOTE:       total nodes             1 (8 cores)\n",
      "NOTE:       mémoire totale           31,26 Go\n",
      "NOTE:       mémoire                 2,13 Mo (0,01 %)\n"
     ]
    },
    {
     "name": "stdout",
     "output_type": "stream",
     "text": [
      "$Fetch\n",
      "   _Index_  _Column_ _Charvar_ _Fmtvar_ _Level_ _Frequency_\n",
      "1        1 tablename         D        D       7      320389\n",
      "2        2 tablename         O        O       5      283449\n",
      "3        3 tablename        D1       D1       9      216482\n",
      "4        4 tablename        D3       D3       4      181969\n",
      "5        5 tablename        U1       U1      11      148350\n",
      "6        6 tablename        U2       U2       1      133907\n",
      "7        7 tablename         P        P      10       95308\n",
      "8        8 tablename         Z        Z       3       64869\n",
      "9        9 tablename        D2       D2       8       64725\n",
      "10      10 tablename        U3       U3       2       60779\n",
      "11      11 tablename         F        F       6        5974\n",
      "\n"
     ]
    },
    {
     "data": {
      "image/png": "[encoded data removed]",
      "text/plain": [
       "Plot with title “Rows by table name”"
      ]
     },
     "metadata": {},
     "output_type": "display_data"
    }
   ],
   "source": [
    "cas.simple.freq(conn, inputs = c(\"tablename\"),table = c(name = \"AGGTTECATEGORIE\"),casout = c(name = \"AGGTTECATEGORIE_freq\", replace = TRUE)) \n",
    "res <- cas.table.fetch(conn, table = \"AGGTTECATEGORIE_freq\", sortBy = list(list(name = \"_Frequency_\",order = \"descending\")))\n",
    "print(res)\n",
    "piedata <- res$Fetch                                              # \n",
    "names(piedata) <- gsub(\"_\", \"\", names(piedata))\n",
    "piedata <- piedata[order(piedata$Frequency),]\n",
    "total <- sum(piedata$Frequency)\n",
    "piedata$Percent <- scales::percent(piedata$Frequency / total)\n",
    "fillcolors = c(\"#6F7EB3\", \"#D05B5B\", \"#66A5A0\", \"#A9865B\",\"#B689CD\", \"#BABC5C\")\n",
    "par(mar = c(3, 0, 1.5, 0), xpd=TRUE)\n",
    "pie(piedata$Frequency,labels = piedata$Percent, col=fillcolors, radius=0.85, clockwise=TRUE, init.angle=0, main=\"Rows by table name\")\n",
    "legend(x=-0.85, y=-1, horiz = FALSE, piedata$Charvar, fill = fillcolors, ncol=3)"
   ]
  },
  {
   "cell_type": "markdown",
   "metadata": {},
   "source": [
    "## Declaration des table CAS en tant qu'objet de type CASTable en R"
   ]
  },
  {
   "cell_type": "code",
   "execution_count": 21,
   "metadata": {},
   "outputs": [
    {
     "name": "stderr",
     "output_type": "stream",
     "text": [
      "NOTE: Executing action 'table.columnInfo'.\n",
      "NOTE: L'action 'table.columnInfo' a utilisé (Temps d'exécution total) :\n",
      "NOTE:       temps réel              0,001264 secondes\n",
      "NOTE:       temps UC                0,001218 secondes (96,36 %)\n",
      "NOTE:       total nodes             1 (8 cores)\n",
      "NOTE:       mémoire totale           31,26 Go\n",
      "NOTE:       mémoire                 826,44 Ko (0,00 %)\n",
      "NOTE: Executing action 'table.columnInfo'.\n",
      "NOTE: L'action 'table.columnInfo' a utilisé (Temps d'exécution total) :\n",
      "NOTE:       temps réel              0,003747 secondes\n",
      "NOTE:       temps UC                0,003621 secondes (96,64 %)\n",
      "NOTE:       total nodes             1 (8 cores)\n",
      "NOTE:       mémoire totale           31,26 Go\n",
      "NOTE:       mémoire                 842,47 Ko (0,00 %)\n"
     ]
    }
   ],
   "source": [
    "table_pays_zone <- defCasTable(conn, tablename='TABLEPAYSZONE', caslib='casuser')\n",
    "table_planAggregation <- defCasTable(conn, tablename='PLANAGREGATION', caslib='casuser')"
   ]
  },
  {
   "cell_type": "markdown",
   "metadata": {},
   "source": [
    "# Code principal basé sur le programme R existant"
   ]
  },
  {
   "cell_type": "markdown",
   "metadata": {},
   "source": [
    "## Fonction de traitement principal"
   ]
  },
  {
   "cell_type": "code",
   "execution_count": 22,
   "metadata": {
    "jupyter": {
     "source_hidden": true
    }
   },
   "outputs": [],
   "source": [
    "traitement_principal <- function(freq, RevFin, PeriodeFin, planAggregation,ReferencePiZones, Repertoire, ConnectionSecureDB)\n",
    "{\n",
    "  Frequence <- freq\n",
    "  HeureDebut <- Sys.time()\n",
    "  An = as.numeric(ExtractString(PeriodeFin, 1, 4))\n",
    "  print(\"ETAPE DATA: LECTURE TABLE PI_ZONE\")\n",
    "  print(Sys.time())\n",
    "  TablePiZone <- recuperation_traitement_table_code_pays(ReferencePiZones, ConnectionSecureDB)\n",
    "  #return(TablePiZone)\n",
    "  print(\" TAILLE TABLE TablePaysZone\")\n",
    "  print(dim(TablePiZone))\n",
    "  print(Sys.time())\n",
    "  print(\"LECTURE ET MISE EN FORME DES FICHIERS D'AGGREGATION CODE SERIE\")\n",
    "  print(Sys.time())\n",
    "  # planAggregation <- \"PlanAggregation.csv\"\n",
    "  planAgregationCodeSerie <- lecture_fichier_aggregation_codeSerie(planAggregation, connectionSecureDB)\n",
    "  # # write_delim(planAgregationCodeSerie, \"planAgregationCodeSerie.csv\", delim=\";\")\n",
    "  print(\" TAILLE TABLE planAgregationCodeSerie\")\n",
    "  print(dim(planAgregationCodeSerie))\n",
    "  print(Sys.time())\n",
    "  print(\"JOINTURE PLAN D'AGGREGATION\")\n",
    "  PlanAggregationParametre <- parametrage_aggregation_code_serie(planAgregationCodeSerie, TablePiZone, freq)\n",
    "  # # write_delim(PlanAggregationParametre, \"PlanAggregationParametre.csv\", delim=\";\")\n",
    "  print(\"Taille plan d'agregation\")\n",
    "  print(dim(PlanAggregationParametre))\n",
    "  print(names(PlanAggregationParametre))\n",
    "\n",
    "  # Ecriture du dataframe de sortie en table CAS pour les futures jointures\n",
    "  PlanAggregationParametreCAS <- as.casTable(ConnectionSecureDB, PlanAggregationParametre, casOut=list(caslib=\"casuser\", name=\"PLANAGGPARAM\",replace=TRUE))\n",
    "  print(dim(PlanAggregationParametreCAS))\n",
    "    \n",
    "  print(\"ESTIMATION NOMBRE DE PERIODE ET DE DEBUT DE TRAITEMENT\")\n",
    "  result_nbperiode_moisdebut <- detection_nbPeriode_moisDebut(freq, RevFin, PeriodeFin)\n",
    "  NbrePeriode <- result_nbperiode_moisdebut$nbper\n",
    "  MoisDebut <- as.numeric(result_nbperiode_moisdebut$moisDebut)\n",
    "  print(MoisDebut)\n",
    "  \n",
    "  rm(result_nbperiode_moisdebut)\n",
    "  \n",
    "  print(\"BOUCLE DU LES MOIS\")\n",
    "\n",
    " # On supprime la table d'agregat finale si elle existe avant de la reconstruire de la boucle mensuelle suivante   \n",
    " cas.table.dropTable(conn, caslib='casuser', name='AGG_FINALE', quiet=TRUE)\n",
    "    \n",
    "  for(mois in MoisDebut:(MoisDebut+NbrePeriode-1))\n",
    "  {\n",
    "     print(paste0(\"     Mois debut \", MoisDebut))\n",
    "     print(paste0(\"     Mois fin \", (MoisDebut+NbrePeriode-1)))\n",
    "     print(paste0(\"     Mois en cours de traitement: \", mois))\n",
    "     \n",
    "     print(Sys.time())\n",
    "     \n",
    "     print(\"                      lecture\")\n",
    "\n",
    "     AggregationMensuelleTouteCategorie <- lecture_tables_aggregation(freq, Mois, RevFin, PeriodeFin, Repertoire, ConnectionSecureDB,'AGGTTECATEGORIE','AGG_MENS_TEMP')\n",
    "     print(\"Taille table d'agregation\")\n",
    "     print(dim(AggregationMensuelleTouteCategorie))\n",
    "     print(names(AggregationMensuelleTouteCategorie))\n",
    "      \n",
    "     TableIdMixte <- lecture_tables_mixte(freq, Mois, RevFin, PeriodeFin, Repertoire, ConnectionSecureDB,'AGGTTECATEGORIE','AGG_MIXTE')\n",
    "     print(dim(TableIdMixte))\n",
    "     print(names(TableIdMixte))\n",
    "     print(Sys.time())\n",
    "     \n",
    "     print(\"PARAMETRAGE CODE SERIE\") \n",
    "     \n",
    "     print(\"APPLICATION PARAMETRAGE CODE SERIE\") \n",
    "     \n",
    "     AggregationCodeSerieFinaleMensuelle <- application_plan_parametrage_aggregation_code_serie_mensuel('AGG_MENS_TEMP', 'PLANAGGPARAM', ConnectionSecureDB,'AGG_MENS')\n",
    "     print(names(AggregationCodeSerieFinaleMensuelle))\n",
    "      \n",
    "     # On ajoute la table mensuelle à la table globale finale\n",
    "     cas_append2tables(conn, 'casuser', 'AGG_MENS', 'casuser', 'AGG_FINALE')\n",
    "  }\n",
    "}"
   ]
  },
  {
   "cell_type": "markdown",
   "metadata": {},
   "source": [
    "## Definition des variables"
   ]
  },
  {
   "cell_type": "code",
   "execution_count": 23,
   "metadata": {},
   "outputs": [],
   "source": [
    "Repertoire <- \"AC156203\"\n",
    "RevFin<- \"SD10\"\n",
    "PeriodeFin <- \"2018Q4\"\n",
    "freq <- \"Q\"\n",
    "planAggregation <- table_planAggregation\n",
    "ReferencePiZones <- table_pays_zone\n",
    "ConnectionSecureDB <- conn # Connexion securisee a la session CAS"
   ]
  },
  {
   "cell_type": "code",
   "execution_count": 24,
   "metadata": {},
   "outputs": [
    {
     "name": "stdout",
     "output_type": "stream",
     "text": [
      "[1] \"ETAPE DATA: LECTURE TABLE PI_ZONE\"\n",
      "[1] \"2020-04-24 11:17:07 CEST\"\n",
      "[1] \"recuperation_traitement_table_code_pays monostream\"\n",
      "[1] \"2020-04-24 11:17:07 CEST\"\n"
     ]
    },
    {
     "name": "stderr",
     "output_type": "stream",
     "text": [
      "NOTE: Executing action 'table.fetch'.\n",
      "NOTE: L'action 'table.fetch' a utilisé (Temps d'exécution total) :\n",
      "NOTE:       temps réel              0,312384 secondes\n",
      "NOTE:       temps UC                0,312312 secondes (99,98 %)\n",
      "NOTE:       total nodes             1 (8 cores)\n",
      "NOTE:       mémoire totale           31,26 Go\n",
      "NOTE:       mémoire                 1,44 Mo (0,00 %)\n",
      "Column 1 ['code_zone'] of item 2 is missing in item 1. Use fill=TRUE to fill with NA (NULL for list columns), or use.names=FALSE to ignore column names. use.names='check' (default from v1.12.2) emits this message and proceeds as if use.names=FALSE for  backwards compatibility. See news item 5 in v1.12.2 for options to control this message.\n"
     ]
    },
    {
     "name": "stdout",
     "output_type": "stream",
     "text": [
      "[1] \"end recuperation_traitement_table_code_pays monostream\"\n",
      "[1] \"2020-04-24 11:17:18 CEST\"\n",
      "[1] \" TAILLE TABLE TablePaysZone\"\n",
      "[1] 445   3\n",
      "[1] \"2020-04-24 11:17:18 CEST\"\n",
      "[1] \"LECTURE ET MISE EN FORME DES FICHIERS D'AGGREGATION CODE SERIE\"\n",
      "[1] \"2020-04-24 11:17:18 CEST\"\n",
      "[1] \"lecture_fichier_aggregation_codeSerie monostream\"\n"
     ]
    },
    {
     "name": "stderr",
     "output_type": "stream",
     "text": [
      "NOTE: Executing action 'table.fetch'.\n",
      "NOTE: L'action 'table.fetch' a utilisé (Temps d'exécution total) :\n",
      "NOTE:       temps réel              0,099106 secondes\n",
      "NOTE:       temps UC                0,098856 secondes (99,75 %)\n",
      "NOTE:       total nodes             1 (8 cores)\n",
      "NOTE:       mémoire totale           31,26 Go\n",
      "NOTE:       mémoire                 1,20 Mo (0,00 %)\n"
     ]
    },
    {
     "name": "stdout",
     "output_type": "stream",
     "text": [
      "[1] \" TAILLE TABLE planAgregationCodeSerie\"\n",
      "[1] 2697    3\n",
      "[1] \"2020-04-24 11:17:25 CEST\"\n",
      "[1] \"JOINTURE PLAN D'AGGREGATION\"\n",
      "[1] \"parametrage_aggregation_code_serie monostream\"\n",
      "[1] \"2020-04-24 11:17:26 CEST\"\n",
      "[1] \"Recuperation des positions et longueur parents dans les codes\"\n",
      "[1] \"Recuperation des positions et longueur des parametres dans les codes\"\n",
      "[1] \"2020-04-24 11:17:28 CEST\"\n",
      "[1] \"Recuperation des positions et longueur des index dans les codes\"\n",
      "[1] \"2020-04-24 11:17:29 CEST\"\n",
      "[1] \"3 GB\"\n",
      "[1] \"Creation des variables cd2_, cd3_, cd1_, refsec, countsec par decoupage des codes\"\n",
      "[1] \"2020-04-24 11:17:30 CEST\"\n",
      "[1] \"Modification conditionnelle des valeurs de code entree et code sortie\"\n",
      "[1] \"2020-04-24 11:17:30 CEST\"\n",
      "[1] \"Jointure de la table AggregationTable TablePiZone\"\n",
      "[1] 7125   20\n",
      " [1] \"code_sortie\"       \"code_entree\"       \"formule\"          \n",
      " [4] \"enfants\"           \"parents\"           \"cle\"              \n",
      " [7] \"ind_\"              \"PositionEnfant\"    \"LongueurEnfant\"   \n",
      "[10] \"PositionParametre\" \"LongueurParametre\" \"PositionIndex\"    \n",
      "[13] \"LongueurIndex\"     \"cd2_\"              \"cd3_\"             \n",
      "[16] \"cd1_\"              \"refsec\"            \"countsec\"         \n",
      "[19] \"selectionLigne1\"   \"selectionLigne3\"  \n",
      "[1] \"Modification conditionelle (lorsque la cle jointure n'existe pas) de code entree et code sortie\"\n",
      "[1] \"2020-04-24 11:19:48 CEST\"\n",
      "[1] \"TAILLE TABLE PLAN AGREGATION\"\n",
      "[1] 2639427       3\n",
      "[1] \"end parametrage_aggregation_code_serie monostream\"\n",
      "[1] \"2020-04-24 11:19:48 CEST\"\n",
      "[1] \"Taille plan d'agregation\"\n",
      "[1] 2639427       3\n",
      "[1] \"code_entree\" \"code_sortie\" \"formule\"    \n"
     ]
    },
    {
     "name": "stderr",
     "output_type": "stream",
     "text": [
      "Warning message in if (class(data) == \"character\") {:\n",
      "“la condition a une longueur > 1 et seul le premier élément est utilisé”NOTE: Executing action 'table.columnInfo'.\n",
      "NOTE: L'action 'table.columnInfo' a utilisé (Temps d'exécution total) :\n",
      "NOTE:       temps réel              0,001185 secondes\n",
      "NOTE:       temps UC                0,001130 secondes (95,36 %)\n",
      "NOTE:       total nodes             1 (8 cores)\n",
      "NOTE:       mémoire totale           31,26 Go\n",
      "NOTE:       mémoire                 834,84 Ko (0,00 %)\n",
      "NOTE: Executing action 'simple.numRows'.\n",
      "NOTE: L'action 'simple.numRows' a utilisé (Temps d'exécution total) :\n",
      "NOTE:       temps réel              0,000881 secondes\n",
      "NOTE:       temps UC                0,000826 secondes (93,76 %)\n",
      "NOTE:       total nodes             1 (8 cores)\n",
      "NOTE:       mémoire totale           31,26 Go\n",
      "NOTE:       mémoire                 418,53 Ko (0,00 %)\n"
     ]
    },
    {
     "name": "stdout",
     "output_type": "stream",
     "text": [
      "[1] 2639427       3\n",
      "[1] \"ESTIMATION NOMBRE DE PERIODE ET DE DEBUT DE TRAITEMENT\"\n",
      "[1] \"detection_nbPeriode_moisDebut monostream\"\n",
      "[1] 201812\n",
      "[1] \"BOUCLE DU LES MOIS\"\n"
     ]
    },
    {
     "name": "stderr",
     "output_type": "stream",
     "text": [
      "NOTE: Executing action 'table.dropTable'.\n",
      "NOTE: L'action 'table.dropTable' a utilisé (Temps d'exécution total) :\n",
      "NOTE:       temps réel              0,001582 secondes\n",
      "NOTE:       temps UC                0,001340 secondes (84,70 %)\n",
      "NOTE:       total nodes             1 (8 cores)\n",
      "NOTE:       mémoire totale           31,26 Go\n",
      "NOTE:       mémoire                 284,56 Ko (0,00 %)\n"
     ]
    },
    {
     "name": "stdout",
     "output_type": "stream",
     "text": [
      "[1] \"     Mois debut 201812\"\n",
      "[1] \"     Mois fin 201812\"\n",
      "[1] \"     Mois en cours de traitement: 201812\"\n",
      "[1] \"2020-04-24 11:20:43 CEST\"\n",
      "[1] \"                      lecture\"\n",
      "[1] \"lecture_tables_aggregation monostream\"\n",
      "[1] \"2020-04-24 11:20:43 CEST\"\n",
      "[1] \"6 GB\"\n",
      "[1] \"CHARGEMENT DES TABLES D'AGGREGATION, monostream\"\n",
      "[1] \"2020-04-24 11:20:44 CEST\"\n",
      "[1] \"TABLES AGREGATION LU DE LA TABLE CAS AGGTTECATEGORIE\"\n"
     ]
    },
    {
     "name": "stderr",
     "output_type": "stream",
     "text": [
      "NOTE: Executing action 'fedSql.execDirect'.\n",
      "NOTE: Table AGG_MENS_TEMP was created in caslib CASUSER(sasdemo) with 1576201 rows returned.\n",
      "NOTE: L'action 'fedSql.execDirect' a utilisé (Temps d'exécution total) :\n",
      "NOTE:       temps réel              3,606137 secondes\n",
      "NOTE:       temps UC                23,036509 secondes (638,81 %)\n",
      "NOTE:       total nodes             1 (8 cores)\n",
      "NOTE:       mémoire totale           31,26 Go\n",
      "NOTE:       mémoire                 38,50 Mo (0,12 %)\n"
     ]
    },
    {
     "name": "stdout",
     "output_type": "stream",
     "text": [
      "[1] \"end lecture_tables_aggregation monostream\"\n",
      "[1] \"2020-04-24 11:20:47 CEST\"\n"
     ]
    },
    {
     "name": "stderr",
     "output_type": "stream",
     "text": [
      "NOTE: Executing action 'table.columnInfo'.\n",
      "NOTE: L'action 'table.columnInfo' a utilisé (Temps d'exécution total) :\n",
      "NOTE:       temps réel              0,001467 secondes\n",
      "NOTE:       temps UC                0,001255 secondes (85,55 %)\n",
      "NOTE:       total nodes             1 (8 cores)\n",
      "NOTE:       mémoire totale           31,26 Go\n",
      "NOTE:       mémoire                 841,34 Ko (0,00 %)\n"
     ]
    },
    {
     "name": "stdout",
     "output_type": "stream",
     "text": [
      "[1] \"Taille table d'agregation\"\n"
     ]
    },
    {
     "name": "stderr",
     "output_type": "stream",
     "text": [
      "NOTE: Executing action 'simple.numRows'.\n",
      "NOTE: L'action 'simple.numRows' a utilisé (Temps d'exécution total) :\n",
      "NOTE:       temps réel              0,001298 secondes\n",
      "NOTE:       temps UC                0,001181 secondes (90,99 %)\n",
      "NOTE:       total nodes             1 (8 cores)\n",
      "NOTE:       mémoire totale           31,26 Go\n",
      "NOTE:       mémoire                 455,59 Ko (0,00 %)\n"
     ]
    },
    {
     "name": "stdout",
     "output_type": "stream",
     "text": [
      "[1] 1576201       9\n",
      "[1] \"code\"         \"montant\"      \"OBS_STATUS\"   \"CONF_STATUS\"  \"Periode_deb\" \n",
      "[6] \"revision_deb\" \"Periode_fin\"  \"revision_fin\" \"tablename\"   \n",
      "[1] \"lecture_tables_mixte monostream\"\n",
      "[1] \"2020-04-24 11:20:48 CEST\"\n",
      "[1] \"7 GB\"\n",
      "[1] \"end lecture_tables_mixte monostream\"\n",
      "[1] \"2020-04-24 11:20:48 CEST\"\n",
      "NULL\n",
      "NULL\n",
      "[1] \"2020-04-24 11:20:48 CEST\"\n",
      "[1] \"PARAMETRAGE CODE SERIE\"\n",
      "[1] \"APPLICATION PARAMETRAGE CODE SERIE\"\n",
      "[1] \"application_plan_parametrage_aggregation_code_serie_mensuel monostream\"\n",
      "[1] \"2020-04-24 11:20:49 CEST\"\n",
      "[1] \"2020-04-24 11:20:49 CEST\"\n",
      "[1] \"Renomage de variables et traitement d'espace dans les chaines de caratere\"\n",
      "[1] \"2020-04-24 11:20:49 CEST\"\n",
      "[1] \"Preparation de la jointure des tables PlanAggregationParametre, AggregationMensuelleTouteCategorie\"\n",
      "[1] \"2020-04-24 11:20:49 CEST\"\n",
      "[1] \"Jointure des tables PlanAggregationParametre, AggregationMensuelleTouteCategorie\"\n"
     ]
    },
    {
     "name": "stderr",
     "output_type": "stream",
     "text": [
      "NOTE: Executing action 'fedSql.execDirect'.\n",
      " \n",
      "Methods for full query plan\n",
      "----------------------------\n",
      "Number of Joins Performed is : 1\n",
      "        HashJoin (LEFT) \n",
      "          SeqScan from CASUSER(sasdemo).AGG_MENS_TEMP \n",
      "          SeqScan from CASUSER(sasdemo).PLANAGGPARAM \n",
      " \n",
      "Methods for stage 1\n",
      "--------------------\n",
      "        HashJoin (LEFT) \n",
      "          SeqScan from CASUSER(sasdemo).AGG_MENS_TEMP \n",
      "          SeqScan from CASUSER(sasdemo).PLANAGGPARAM \n",
      " \n",
      "NOTE: Table TMP_AGG was created in caslib CASUSER(sasdemo) with 1578041 rows returned.\n",
      "NOTE: L'action 'fedSql.execDirect' a utilisé (Temps d'exécution total) :\n",
      "NOTE:       temps réel              37,830249 secondes\n",
      "NOTE:       temps UC                77,450041 secondes (204,73 %)\n",
      "NOTE:       total nodes             1 (8 cores)\n",
      "NOTE:       mémoire totale           31,26 Go\n",
      "NOTE:       mémoire                 896,76 Mo (2,80 %)\n"
     ]
    },
    {
     "name": "stdout",
     "output_type": "stream",
     "text": [
      "[1] \"Taille de la jointure\"\n",
      "[1] \"2020-04-24 11:21:27 CEST\"\n",
      "[1] \"Calcul des montants ponderes cumules par code_sortie\"\n"
     ]
    },
    {
     "name": "stderr",
     "output_type": "stream",
     "text": [
      "NOTE: Executing action 'aggregation.aggregate'.\n",
      "NOTE: L'action 'aggregation.aggregate' a utilisé (Temps d'exécution total) :\n",
      "NOTE:       temps réel              10,667354 secondes\n",
      "NOTE:       temps UC                51,687930 secondes (484,54 %)\n",
      "NOTE:       total nodes             1 (8 cores)\n",
      "NOTE:       mémoire totale           31,26 Go\n",
      "NOTE:       mémoire                 737,05 Mo (2,30 %)\n",
      "NOTE: Executing action 'table.columnInfo'.\n",
      "NOTE: L'action 'table.columnInfo' a utilisé (Temps d'exécution total) :\n",
      "NOTE:       temps réel              0,001275 secondes\n",
      "NOTE:       temps UC                0,001230 secondes (96,47 %)\n",
      "NOTE:       total nodes             1 (8 cores)\n",
      "NOTE:       mémoire totale           31,26 Go\n",
      "NOTE:       mémoire                 841,44 Ko (0,00 %)\n"
     ]
    },
    {
     "name": "stdout",
     "output_type": "stream",
     "text": [
      "[1] \" TAILLE TABLE CalculAggregationCodeSerieMensuel\"\n"
     ]
    },
    {
     "name": "stderr",
     "output_type": "stream",
     "text": [
      "NOTE: Executing action 'simple.numRows'.\n",
      "NOTE: L'action 'simple.numRows' a utilisé (Temps d'exécution total) :\n",
      "NOTE:       temps réel              0,001685 secondes\n",
      "NOTE:       temps UC                0,001588 secondes (94,24 %)\n",
      "NOTE:       total nodes             1 (8 cores)\n",
      "NOTE:       mémoire totale           31,26 Go\n",
      "NOTE:       mémoire                 456,09 Ko (0,00 %)\n"
     ]
    },
    {
     "name": "stdout",
     "output_type": "stream",
     "text": [
      "[1] 8588   15\n",
      "[1] \"2020-04-24 11:21:38 CEST\"\n",
      " [1] \"code\"           \"code_f\"         \"CONF_STATUS\"    \"CONF_STATUS_f\" \n",
      " [5] \"OBS_STATUS\"     \"OBS_STATUS_f\"   \"Periode_deb\"    \"Periode_deb_f\" \n",
      " [9] \"Periode_fin\"    \"Periode_fin_f\"  \"revision_deb\"   \"revision_deb_f\"\n",
      "[13] \"revision_fin\"   \"revision_fin_f\" \"MONTANT\"       \n"
     ]
    },
    {
     "name": "stderr",
     "output_type": "stream",
     "text": [
      "NOTE: Executing action 'dataStep.runCode'.\n",
      "NOTE: L'action 'dataStep.runCode' a utilisé (Temps d'exécution total) :\n",
      "NOTE:       temps réel              0,039370 secondes\n",
      "NOTE:       temps UC                0,084440 secondes (214,48 %)\n",
      "NOTE:       total nodes             1 (8 cores)\n",
      "NOTE:       mémoire totale           31,26 Go\n",
      "NOTE:       mémoire                 5,57 Mo (0,02 %)\n"
     ]
    }
   ],
   "source": [
    "traitement_principal(freq, RevFin, PeriodeFin, planAggregation,ReferencePiZones, Repertoire, ConnectionSecureDB)"
   ]
  },
  {
   "cell_type": "code",
   "execution_count": 25,
   "metadata": {},
   "outputs": [
    {
     "name": "stderr",
     "output_type": "stream",
     "text": [
      "NOTE: Executing action 'table.dropTable'.\n",
      "NOTE: L'action 'table.dropTable' a utilisé (Temps d'exécution total) :\n",
      "NOTE:       temps réel              0,001026 secondes\n",
      "NOTE:       temps UC                0,000849 secondes (82,75 %)\n",
      "NOTE:       total nodes             1 (8 cores)\n",
      "NOTE:       mémoire totale           31,26 Go\n",
      "NOTE:       mémoire                 282,03 Ko (0,00 %)\n"
     ]
    },
    {
     "data": {
      "text/html": [
       "<ol>\n",
       "</ol>\n"
      ],
      "text/latex": [
       "\\begin{enumerate}\n",
       "\\end{enumerate}\n"
      ],
      "text/markdown": [
       "\n",
       "\n"
      ],
      "text/plain": [
       "list()"
      ]
     },
     "metadata": {},
     "output_type": "display_data"
    },
    {
     "name": "stderr",
     "output_type": "stream",
     "text": [
      "NOTE: Executing action 'table.promote'.\n",
      "ERROR: There is no session-scope table AGG_FINAL in caslib CASUSER(sasdemo) of Cloud Analytic Services.\n",
      "ERROR: The action stopped due to errors.\n",
      "NOTE: L'action 'table.promote' a utilisé (Temps d'exécution total) :\n",
      "NOTE:       temps réel              0,001093 secondes\n",
      "NOTE:       temps UC                0,000997 secondes (91,22 %)\n",
      "NOTE:       total nodes             1 (8 cores)\n",
      "NOTE:       mémoire totale           31,26 Go\n",
      "NOTE:       mémoire                 282,03 Ko (0,00 %)\n"
     ]
    },
    {
     "data": {
      "text/html": [
       "<ol>\n",
       "</ol>\n"
      ],
      "text/latex": [
       "\\begin{enumerate}\n",
       "\\end{enumerate}\n"
      ],
      "text/markdown": [
       "\n",
       "\n"
      ],
      "text/plain": [
       "list()"
      ]
     },
     "metadata": {},
     "output_type": "display_data"
    },
    {
     "name": "stderr",
     "output_type": "stream",
     "text": [
      "NOTE: Executing action 'table.loadTable'.\n",
      "ERROR: The file or path 'AGG_FINAL' is not available in the file system.\n",
      "NOTE: L'action 'table.loadTable' a utilisé (Temps d'exécution total) :\n",
      "NOTE:       temps réel              0,001164 secondes\n",
      "NOTE:       temps UC                0,001097 secondes (94,24 %)\n",
      "NOTE:       total nodes             1 (8 cores)\n",
      "NOTE:       mémoire totale           31,26 Go\n",
      "NOTE:       mémoire                 676,50 Ko (0,00 %)\n",
      "NOTE: Executing action 'table.save'.\n",
      "ERROR: Table 'AGG_FINAL' could not be loaded.\n",
      "ERROR: Failure opening table 'AGG_FINAL': A table could not be loaded.\n",
      "ERROR: The action stopped due to errors.\n",
      "NOTE: L'action 'table.save' a utilisé (Temps d'exécution total) :\n",
      "NOTE:       temps réel              0,000211 secondes\n",
      "NOTE:       temps UC                286,612933 secondes (135835513,27 %)\n",
      "NOTE:       total nodes             1 (8 cores)\n",
      "NOTE:       mémoire totale           31,26 Go\n",
      "NOTE:       mémoire                 0,00 Ko (0,00 %)\n"
     ]
    },
    {
     "data": {
      "text/html": [
       "<ol>\n",
       "</ol>\n"
      ],
      "text/latex": [
       "\\begin{enumerate}\n",
       "\\end{enumerate}\n"
      ],
      "text/markdown": [
       "\n",
       "\n"
      ],
      "text/plain": [
       "list()"
      ]
     },
     "metadata": {},
     "output_type": "display_data"
    },
    {
     "name": "stdout",
     "output_type": "stream",
     "text": [
      "Time difference of 4,905566 mins\n"
     ]
    }
   ],
   "source": [
    "# Promotion en memoire pour les utilisateurs et sauvegarde sur disque de la table resultante\n",
    "cas.table.dropTable(ConnectionSecureDB,name='AGG_FINAL',caslib='PUBLIC',quiet=TRUE)\n",
    "cas.table.promote(ConnectionSecureDB,caslib='casuser',name='AGG_FINAL',target='AGG_FINAL',targetLib='PUBLIC')\n",
    "cas.table.save(ConnectionSecureDB,table=list(name='AGG_FINAL',caslib=\"public\"),  name=\"AGG_FINAL.parquet\", replace=TRUE)\n",
    "\n",
    "Duree <- Sys.time() - HeureDebut\n",
    "\n",
    "print(Duree)"
   ]
  },
  {
   "cell_type": "code",
   "execution_count": 9,
   "metadata": {},
   "outputs": [
    {
     "data": {
      "text/html": [
       "0"
      ],
      "text/latex": [
       "0"
      ],
      "text/markdown": [
       "0"
      ],
      "text/plain": [
       "[1] 0"
      ]
     },
     "metadata": {},
     "output_type": "display_data"
    }
   ],
   "source": [
    "# Ferme la session SAS Viya en cours\n",
    "cas.terminate(conn)"
   ]
  },
  {
   "cell_type": "markdown",
   "metadata": {
    "jupyter": {
     "outputs_hidden": true
    }
   },
   "source": [
    "# Fin du notebook"
   ]
  }
 ],
 "metadata": {
  "kernelspec": {
   "display_name": "R",
   "language": "R",
   "name": "ir"
  },
  "language_info": {
   "codemirror_mode": "r",
   "file_extension": ".r",
   "mimetype": "text/x-r-source",
   "name": "R",
   "pygments_lexer": "r",
   "version": "3.6.1"
  }
 },
 "nbformat": 4,
 "nbformat_minor": 4
}
